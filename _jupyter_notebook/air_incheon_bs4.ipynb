{
 "cells": [
  {
   "cell_type": "markdown",
   "metadata": {},
   "source": [
    "## 청라, 송도지역 미세먼지 측정값 스크래핑\n",
    "> 1. 송도 = http://air.incheon.go.kr/airinch/real3.html?area_other_index=999992\n",
    "> 1. 청라 = http://air.incheon.go.kr/airinch/real3.html?area_other_index=999991\n",
    "\n",
    "* Todo: 계측 센서 갯수가 다르므로 필터링 방식이 달라져야 한다\n",
    "* 송도 = 6개 / 청라 = 4개"
   ]
  },
  {
   "cell_type": "code",
   "execution_count": 1,
   "metadata": {},
   "outputs": [],
   "source": [
    "\"\"\"\n",
    "* 청라, 송도지역 미세먼지 측정값 스크래핑\n",
    "\"\"\"\n",
    "\n",
    "import numpy as np\n",
    "import pandas as pd\n",
    "import matplotlib.pyplot as plt\n",
    "\n",
    "import requests\n",
    "from bs4 import BeautifulSoup"
   ]
  },
  {
   "cell_type": "code",
   "execution_count": 2,
   "metadata": {},
   "outputs": [
    {
     "name": "stderr",
     "output_type": "stream",
     "text": [
      "Some characters could not be decoded, and were replaced with REPLACEMENT CHARACTER.\n"
     ]
    }
   ],
   "source": [
    "URLS = [\n",
    "    'http://air.incheon.go.kr/airinch/real3.html?area_other_index=999991',\n",
    "    'http://air.incheon.go.kr/airinch/real3.html?area_other_index=999992',\n",
    "]\n",
    "\n",
    "\"\"\" 주의!: 송도와 청라는 데이터 갯수가 틀려서 필터링 방법을 달리해야 함. \"\"\"\n",
    "URL = URLS[0]  # 0=청라 - 측정치 1+3 = 4개\n",
    "URL = URLS[1]  # 1=송도 - 측정치 1+6 = 7개\n",
    "\n",
    "RESPONSE = requests.get(URL)\n",
    "SOUP = BeautifulSoup(RESPONSE.content, 'html.parser')\n",
    "TABLE = SOUP.find_all('table', {'class': 'view'})\n",
    "\n",
    "TDS = TABLE[0].find_all('td')\n",
    "FONTS = TABLE[0].find_all('font')\n",
    "SPANS = TABLE[0].find_all('span')\n",
    "\n",
    "DATA = []\n",
    "DATE = []"
   ]
  },
  {
   "cell_type": "markdown",
   "metadata": {},
   "source": [
    "## 데이터의 길이를 기준으로 구분한다 (EDA)\n",
    "> 12자 길이를 넘어가는 데이터는 한글 테이터이다."
   ]
  },
  {
   "cell_type": "code",
   "execution_count": 3,
   "metadata": {},
   "outputs": [],
   "source": [
    "for n, span in enumerate(SPANS, 0):\n",
    "    neat_span = str(span.text).strip()\n",
    "\n",
    "    if len(neat_span) > 12:\n",
    "        \"\"\" 날짜와 시간을 분리해서 각각 넣는다 \"\"\"\n",
    "        DATE.append(neat_span[:-3])     # 날짜\n",
    "        DATA.append(neat_span[-3:])     # 시간\n",
    "    else:\n",
    "        DATA.append(neat_span)"
   ]
  },
  {
   "cell_type": "code",
   "execution_count": 4,
   "metadata": {},
   "outputs": [
    {
     "name": "stdout",
     "output_type": "stream",
     "text": [
      "2018년09월 08일\n",
      "2018년09월 07일\n"
     ]
    }
   ],
   "source": [
    "\"\"\" 리스트에 담긴 해당 날짜를 보여준다, 그래봤자 2개 지만.. \"\"\"\n",
    "print(DATE[0])\n",
    "print(DATE[1])"
   ]
  },
  {
   "cell_type": "code",
   "execution_count": 5,
   "metadata": {},
   "outputs": [
    {
     "name": "stdout",
     "output_type": "stream",
     "text": [
      " 1 .. ['01시', '0.004', '0.013', '0.035', '0.3', '19', '7']\n",
      " 2 .. ['24시', '0.004', '0.013', '0.033', '0.3', '18', '5']\n",
      " 3 .. ['23시', '0.004', '0.013', '0.032', '0.3', '19', '5']\n",
      " 4 .. ['22시', '0.004', '0.014', '0.034', '0.3', '16', '6']\n",
      " 5 .. ['21시', '0.004', '0.014', '0.033', '0.3', '17', '5']\n",
      " 6 .. ['20시', '0.003', '0.014', '0.035', '0.3', '18', '6']\n",
      " 7 .. ['19시', '0.003', '0.014', '0.036', '0.3', '16', '6']\n",
      " 8 .. ['18시', '0.003', '0.012', '0.039', '0.3', '19', '7']\n",
      " 9 .. ['17시', '0.003', '0.012', '0.043', '0.3', '17', '7']\n",
      "10 .. ['16시', '0.004', '0.012', '0.046', '0.3', '21', '6']\n",
      "11 .. ['15시', '0.004', '0.011', '0.048', '0.3', '22', '8']\n",
      "12 .. ['14시', '0.004', '0.010', '0.049', '0.4', '21', '9']\n",
      "13 .. ['13시', '0.004', '0.009', '0.049', '0.3', '23', '9']\n",
      "14 .. ['12시', '0.004', '0.011', '0.046', '0.4', '22', '10']\n",
      "15 .. ['11시', '0.004', '0.012', '0.046', '0.4', '21', '7']\n",
      "16 .. ['10시', '0.004', '0.011', '0.047', '0.4', '24', '9']\n",
      "17 .. ['09시', '0.004', '0.014', '0.043', '0.4', '25', '12']\n",
      "18 .. ['08시', '0.004', '0.013', '0.048', '0.5', '32', '15']\n",
      "19 .. ['07시', '0.003', '0.010', '0.058', '0.5', '46', '21']\n",
      "20 .. ['06시', '0.004', '0.011', '0.060', '0.4', '46', '21']\n",
      "21 .. ['05시', '0.004', '0.010', '0.065', '0.4', '45', '18']\n",
      "22 .. ['04시', '0.004', '0.010', '0.065', '0.5', '45', '19']\n",
      "23 .. ['03시', '0.005', '0.009', '0.066', '0.4', '42', '18']\n",
      "24 .. ['02시', '0.004', '0.008', '0.069', '0.4', '34', '17']\n",
      "25 .. ['01시', '0.004', '0.010', '0.063', '0.4', '25', '13']\n"
     ]
    }
   ],
   "source": [
    "START = 8               # 8,\n",
    "REPEAT = 100\n",
    "\n",
    "NUM = 0\n",
    "for n in range(START, (6 * (REPEAT + 2)), 7):\n",
    "    datum = DATA[n:n + 7]\n",
    "\n",
    "    if len(datum) is not 0:\n",
    "        NUM += 1\n",
    "        print(\"%2s .. %s\" % (NUM, datum))\n",
    "    else:\n",
    "        break"
   ]
  },
  {
   "cell_type": "code",
   "execution_count": 6,
   "metadata": {},
   "outputs": [
    {
     "data": {
      "text/plain": [
       "['Time(24Hr)',\n",
       " 'SO2(ppm)',\n",
       " 'NO2(ppm)',\n",
       " 'O3(ppm)',\n",
       " 'CO(ppm)',\n",
       " 'PM10(㎍/㎥)',\n",
       " 'PM2.5(㎍/㎥)']"
      ]
     },
     "execution_count": 6,
     "metadata": {},
     "output_type": "execute_result"
    }
   ],
   "source": [
    "COLUMNS = ['Time(24Hr)',]\n",
    "\n",
    "for n in range(2,8):\n",
    "    COLUMNS.append(DATA[n])\n",
    "\n",
    "COLUMNS"
   ]
  },
  {
   "cell_type": "code",
   "execution_count": 7,
   "metadata": {},
   "outputs": [
    {
     "data": {
      "text/plain": [
       "[['01', '0.004', '0.013', '0.035', '0.3', '19', '7'],\n",
       " ['24', '0.004', '0.013', '0.033', '0.3', '18', '5'],\n",
       " ['23', '0.004', '0.013', '0.032', '0.3', '19', '5'],\n",
       " ['22', '0.004', '0.014', '0.034', '0.3', '16', '6'],\n",
       " ['21', '0.004', '0.014', '0.033', '0.3', '17', '5'],\n",
       " ['20', '0.003', '0.014', '0.035', '0.3', '18', '6'],\n",
       " ['19', '0.003', '0.014', '0.036', '0.3', '16', '6'],\n",
       " ['18', '0.003', '0.012', '0.039', '0.3', '19', '7'],\n",
       " ['17', '0.003', '0.012', '0.043', '0.3', '17', '7'],\n",
       " ['16', '0.004', '0.012', '0.046', '0.3', '21', '6'],\n",
       " ['15', '0.004', '0.011', '0.048', '0.3', '22', '8'],\n",
       " ['14', '0.004', '0.010', '0.049', '0.4', '21', '9'],\n",
       " ['13', '0.004', '0.009', '0.049', '0.3', '23', '9'],\n",
       " ['12', '0.004', '0.011', '0.046', '0.4', '22', '10'],\n",
       " ['11', '0.004', '0.012', '0.046', '0.4', '21', '7'],\n",
       " ['10', '0.004', '0.011', '0.047', '0.4', '24', '9'],\n",
       " ['09', '0.004', '0.014', '0.043', '0.4', '25', '12'],\n",
       " ['08', '0.004', '0.013', '0.048', '0.5', '32', '15'],\n",
       " ['07', '0.003', '0.010', '0.058', '0.5', '46', '21'],\n",
       " ['06', '0.004', '0.011', '0.060', '0.4', '46', '21'],\n",
       " ['05', '0.004', '0.010', '0.065', '0.4', '45', '18'],\n",
       " ['04', '0.004', '0.010', '0.065', '0.5', '45', '19'],\n",
       " ['03', '0.005', '0.009', '0.066', '0.4', '42', '18'],\n",
       " ['02', '0.004', '0.008', '0.069', '0.4', '34', '17'],\n",
       " ['01', '0.004', '0.010', '0.063', '0.4', '25', '13']]"
      ]
     },
     "execution_count": 7,
     "metadata": {},
     "output_type": "execute_result"
    }
   ],
   "source": [
    "START = 8               \n",
    "REPEAT = 100\n",
    "\n",
    "AIR_DATA = []\n",
    "\n",
    "for n in range(START, (6 * (REPEAT + 2)), 7):\n",
    "    datum = DATA[n:n + 7]             # 시간 + 센서값6개\n",
    "\n",
    "    if len(datum) is not 0:\n",
    "        datum[0] = datum[0][:2]            # (시간) 숫자 만 잘라냄\n",
    "        AIR_DATA.append(datum)\n",
    "    else:\n",
    "        break\n",
    "\n",
    "AIR_DATA "
   ]
  },
  {
   "cell_type": "code",
   "execution_count": 8,
   "metadata": {},
   "outputs": [
    {
     "data": {
      "text/plain": [
       "25"
      ]
     },
     "execution_count": 8,
     "metadata": {},
     "output_type": "execute_result"
    }
   ],
   "source": [
    "len(AIR_DATA)"
   ]
  },
  {
   "cell_type": "code",
   "execution_count": 9,
   "metadata": {},
   "outputs": [
    {
     "data": {
      "text/plain": [
       "array([['01', '0.004', '0.013', '0.035', '0.3', '19', '7'],\n",
       "       ['24', '0.004', '0.013', '0.033', '0.3', '18', '5'],\n",
       "       ['23', '0.004', '0.013', '0.032', '0.3', '19', '5'],\n",
       "       ['22', '0.004', '0.014', '0.034', '0.3', '16', '6'],\n",
       "       ['21', '0.004', '0.014', '0.033', '0.3', '17', '5'],\n",
       "       ['20', '0.003', '0.014', '0.035', '0.3', '18', '6'],\n",
       "       ['19', '0.003', '0.014', '0.036', '0.3', '16', '6'],\n",
       "       ['18', '0.003', '0.012', '0.039', '0.3', '19', '7'],\n",
       "       ['17', '0.003', '0.012', '0.043', '0.3', '17', '7'],\n",
       "       ['16', '0.004', '0.012', '0.046', '0.3', '21', '6'],\n",
       "       ['15', '0.004', '0.011', '0.048', '0.3', '22', '8'],\n",
       "       ['14', '0.004', '0.010', '0.049', '0.4', '21', '9'],\n",
       "       ['13', '0.004', '0.009', '0.049', '0.3', '23', '9'],\n",
       "       ['12', '0.004', '0.011', '0.046', '0.4', '22', '10'],\n",
       "       ['11', '0.004', '0.012', '0.046', '0.4', '21', '7'],\n",
       "       ['10', '0.004', '0.011', '0.047', '0.4', '24', '9'],\n",
       "       ['09', '0.004', '0.014', '0.043', '0.4', '25', '12'],\n",
       "       ['08', '0.004', '0.013', '0.048', '0.5', '32', '15'],\n",
       "       ['07', '0.003', '0.010', '0.058', '0.5', '46', '21'],\n",
       "       ['06', '0.004', '0.011', '0.060', '0.4', '46', '21'],\n",
       "       ['05', '0.004', '0.010', '0.065', '0.4', '45', '18'],\n",
       "       ['04', '0.004', '0.010', '0.065', '0.5', '45', '19'],\n",
       "       ['03', '0.005', '0.009', '0.066', '0.4', '42', '18'],\n",
       "       ['02', '0.004', '0.008', '0.069', '0.4', '34', '17'],\n",
       "       ['01', '0.004', '0.010', '0.063', '0.4', '25', '13']], dtype='<U5')"
      ]
     },
     "execution_count": 9,
     "metadata": {},
     "output_type": "execute_result"
    }
   ],
   "source": [
    "# Numpy Array 로 변경 한다.\n",
    "AIR_DATA_NP = np.array(AIR_DATA)\n",
    "AIR_DATA_NP"
   ]
  },
  {
   "cell_type": "code",
   "execution_count": 10,
   "metadata": {},
   "outputs": [
    {
     "data": {
      "text/html": [
       "<div>\n",
       "<style scoped>\n",
       "    .dataframe tbody tr th:only-of-type {\n",
       "        vertical-align: middle;\n",
       "    }\n",
       "\n",
       "    .dataframe tbody tr th {\n",
       "        vertical-align: top;\n",
       "    }\n",
       "\n",
       "    .dataframe thead th {\n",
       "        text-align: right;\n",
       "    }\n",
       "</style>\n",
       "<table border=\"1\" class=\"dataframe\">\n",
       "  <thead>\n",
       "    <tr style=\"text-align: right;\">\n",
       "      <th></th>\n",
       "      <th>Time(24Hr)</th>\n",
       "      <th>SO2(ppm)</th>\n",
       "      <th>NO2(ppm)</th>\n",
       "      <th>O3(ppm)</th>\n",
       "      <th>CO(ppm)</th>\n",
       "      <th>PM10(㎍/㎥)</th>\n",
       "      <th>PM2.5(㎍/㎥)</th>\n",
       "    </tr>\n",
       "  </thead>\n",
       "  <tbody>\n",
       "    <tr>\n",
       "      <th>0</th>\n",
       "      <td>01</td>\n",
       "      <td>0.004</td>\n",
       "      <td>0.013</td>\n",
       "      <td>0.035</td>\n",
       "      <td>0.3</td>\n",
       "      <td>19</td>\n",
       "      <td>7</td>\n",
       "    </tr>\n",
       "    <tr>\n",
       "      <th>1</th>\n",
       "      <td>24</td>\n",
       "      <td>0.004</td>\n",
       "      <td>0.013</td>\n",
       "      <td>0.033</td>\n",
       "      <td>0.3</td>\n",
       "      <td>18</td>\n",
       "      <td>5</td>\n",
       "    </tr>\n",
       "    <tr>\n",
       "      <th>2</th>\n",
       "      <td>23</td>\n",
       "      <td>0.004</td>\n",
       "      <td>0.013</td>\n",
       "      <td>0.032</td>\n",
       "      <td>0.3</td>\n",
       "      <td>19</td>\n",
       "      <td>5</td>\n",
       "    </tr>\n",
       "    <tr>\n",
       "      <th>3</th>\n",
       "      <td>22</td>\n",
       "      <td>0.004</td>\n",
       "      <td>0.014</td>\n",
       "      <td>0.034</td>\n",
       "      <td>0.3</td>\n",
       "      <td>16</td>\n",
       "      <td>6</td>\n",
       "    </tr>\n",
       "    <tr>\n",
       "      <th>4</th>\n",
       "      <td>21</td>\n",
       "      <td>0.004</td>\n",
       "      <td>0.014</td>\n",
       "      <td>0.033</td>\n",
       "      <td>0.3</td>\n",
       "      <td>17</td>\n",
       "      <td>5</td>\n",
       "    </tr>\n",
       "    <tr>\n",
       "      <th>5</th>\n",
       "      <td>20</td>\n",
       "      <td>0.003</td>\n",
       "      <td>0.014</td>\n",
       "      <td>0.035</td>\n",
       "      <td>0.3</td>\n",
       "      <td>18</td>\n",
       "      <td>6</td>\n",
       "    </tr>\n",
       "    <tr>\n",
       "      <th>6</th>\n",
       "      <td>19</td>\n",
       "      <td>0.003</td>\n",
       "      <td>0.014</td>\n",
       "      <td>0.036</td>\n",
       "      <td>0.3</td>\n",
       "      <td>16</td>\n",
       "      <td>6</td>\n",
       "    </tr>\n",
       "    <tr>\n",
       "      <th>7</th>\n",
       "      <td>18</td>\n",
       "      <td>0.003</td>\n",
       "      <td>0.012</td>\n",
       "      <td>0.039</td>\n",
       "      <td>0.3</td>\n",
       "      <td>19</td>\n",
       "      <td>7</td>\n",
       "    </tr>\n",
       "    <tr>\n",
       "      <th>8</th>\n",
       "      <td>17</td>\n",
       "      <td>0.003</td>\n",
       "      <td>0.012</td>\n",
       "      <td>0.043</td>\n",
       "      <td>0.3</td>\n",
       "      <td>17</td>\n",
       "      <td>7</td>\n",
       "    </tr>\n",
       "    <tr>\n",
       "      <th>9</th>\n",
       "      <td>16</td>\n",
       "      <td>0.004</td>\n",
       "      <td>0.012</td>\n",
       "      <td>0.046</td>\n",
       "      <td>0.3</td>\n",
       "      <td>21</td>\n",
       "      <td>6</td>\n",
       "    </tr>\n",
       "  </tbody>\n",
       "</table>\n",
       "</div>"
      ],
      "text/plain": [
       "  Time(24Hr) SO2(ppm) NO2(ppm) O3(ppm) CO(ppm) PM10(㎍/㎥) PM2.5(㎍/㎥)\n",
       "0         01    0.004    0.013   0.035     0.3        19          7\n",
       "1         24    0.004    0.013   0.033     0.3        18          5\n",
       "2         23    0.004    0.013   0.032     0.3        19          5\n",
       "3         22    0.004    0.014   0.034     0.3        16          6\n",
       "4         21    0.004    0.014   0.033     0.3        17          5\n",
       "5         20    0.003    0.014   0.035     0.3        18          6\n",
       "6         19    0.003    0.014   0.036     0.3        16          6\n",
       "7         18    0.003    0.012   0.039     0.3        19          7\n",
       "8         17    0.003    0.012   0.043     0.3        17          7\n",
       "9         16    0.004    0.012   0.046     0.3        21          6"
      ]
     },
     "execution_count": 10,
     "metadata": {},
     "output_type": "execute_result"
    }
   ],
   "source": [
    "# Pandas DataFrame 오브젝트로 변경한다.\n",
    "df = pd.DataFrame(AIR_DATA_NP, columns=COLUMNS)\n",
    "df.head(n=10)"
   ]
  },
  {
   "cell_type": "code",
   "execution_count": 11,
   "metadata": {},
   "outputs": [
    {
     "data": {
      "image/png": "[encoded data removed]",
      "text/plain": [
       "<Figure size 432x288 with 1 Axes>"
      ]
     },
     "metadata": {},
     "output_type": "display_data"
    },
    {
     "data": {
      "image/png": "[encoded data removed]",
      "text/plain": [
       "<Figure size 432x288 with 1 Axes>"
      ]
     },
     "metadata": {},
     "output_type": "display_data"
    },
    {
     "data": {
      "image/png": "[encoded data removed]",
      "text/plain": [
       "<Figure size 432x288 with 1 Axes>"
      ]
     },
     "metadata": {},
     "output_type": "display_data"
    }
   ],
   "source": [
    "\"\"\" 1. 그래프를 그리는 옵션 \"\"\"\n",
    "# x축의 해상도를 설정한다 (시작, 끝, div_number)\n",
    "\n",
    "x_args = [0, 50, 50]\n",
    "# x = np.linspace(*x_args)    \n",
    "\n",
    "plt.hist(df.head(5))\n",
    "\"\"\" 그래프에 텍스트를 입히는 옵션 \"\"\"\n",
    "plt.title(\"DATA-PLOT\")        # 타이틀\n",
    "plt.xlabel('x label')           # x 라벨\n",
    "plt.ylabel('y label')           # y 라벨\n",
    "plt.show()\n",
    "\n",
    "plt.hist(DATA)\n",
    "\"\"\" 그래프에 텍스트를 입히는 옵션 \"\"\"\n",
    "plt.title(\"HISTOGRAM - DISTRIBUTION\")        # 타이틀\n",
    "plt.xlabel('x label')           # x 라벨\n",
    "plt.ylabel('y label')           # y 라벨\n",
    "plt.show()\n",
    "\n",
    "plt.plot(DATA)\n",
    "\"\"\" 그래프에 텍스트를 입히는 옵션 \"\"\"\n",
    "plt.title(\"DATA-PLOT\")        # 타이틀\n",
    "plt.xlabel('x label')           # x 라벨\n",
    "plt.ylabel('y label')           # y 라벨\n",
    "plt.show()"
   ]
  },
  {
   "attachments": {
    "%EC%9D%B4%EB%AF%B8%EC%A7%80%202.png": {
     "image/png": "[encoded data removed]"
    }
   },
   "cell_type": "markdown",
   "metadata": {},
   "source": [
    "> ![%EC%9D%B4%EB%AF%B8%EC%A7%80%202.png](attachment:%EC%9D%B4%EB%AF%B8%EC%A7%80%202.png)"
   ]
  },
  {
   "cell_type": "code",
   "execution_count": 12,
   "metadata": {},
   "outputs": [],
   "source": [
    "# Data Frame 을 엑셀로 저장한다. (CSV화일)\n",
    "df.to_csv('air_incheon.csv', sep=',', encoding='utf-8')"
   ]
  },
  {
   "cell_type": "code",
   "execution_count": null,
   "metadata": {},
   "outputs": [],
   "source": []
  },
  {
   "cell_type": "code",
   "execution_count": null,
   "metadata": {},
   "outputs": [],
   "source": []
  }
 ],
 "metadata": {
  "kernelspec": {
   "display_name": "Python 3",
   "language": "python",
   "name": "python3"
  },
  "language_info": {
   "codemirror_mode": {
    "name": "ipython",
    "version": 3
   },
   "file_extension": ".py",
   "mimetype": "text/x-python",
   "name": "python",
   "nbconvert_exporter": "python",
   "pygments_lexer": "ipython3",
   "version": "3.6.5"
  }
 },
 "nbformat": 4,
 "nbformat_minor": 2
}
