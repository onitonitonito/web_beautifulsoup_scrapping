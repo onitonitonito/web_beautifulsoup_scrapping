{
 "cells": [
  {
   "cell_type": "markdown",
   "metadata": {},
   "source": [
    "## 청라, 송도지역 미세먼지 측정값 스크래핑\n",
    "> 1. 송도 = https://bit.ly/2EWi9vM\n",
    "> 1. 청라 = https://bit.ly/2Al7h6y\n",
    "\n",
    "* Todo: 계측 센서 갯수가 다르므로 필터링 방식이 달라져야 한다\n",
    "* 송도 = 6개 / 청라 = 4개"
   ]
  },
  {
   "cell_type": "code",
   "execution_count": 1,
   "metadata": {},
   "outputs": [],
   "source": [
    "\"\"\"\n",
    "* 청라, 송도지역 미세먼지 측정값 스크래핑\n",
    "\"\"\"\n",
    "\n",
    "import numpy as np\n",
    "import pandas as pd\n",
    "import seaborn as sns\n",
    "import matplotlib.pyplot as plt\n",
    "\n",
    "import requests\n",
    "from bs4 import BeautifulSoup"
   ]
  },
  {
   "cell_type": "code",
   "execution_count": 2,
   "metadata": {},
   "outputs": [
    {
     "name": "stderr",
     "output_type": "stream",
     "text": [
      "Some characters could not be decoded, and were replaced with REPLACEMENT CHARACTER.\n"
     ]
    }
   ],
   "source": [
    "URLS = [\n",
    "    'http://air.incheon.go.kr/airinch/real3.html?area_other_index=999991',\n",
    "    'http://air.incheon.go.kr/airinch/real3.html?area_other_index=999992',\n",
    "]\n",
    "\n",
    "\"\"\" 주의!: 송도와 청라는 데이터 갯수가 틀려서 필터링 방법을 달리해야 함. \"\"\"\n",
    "URL = URLS[0]  # 0=청라 - 측정치 1+3 = 4개\n",
    "URL = URLS[1]  # 1=송도 - 측정치 1+6 = 7개\n",
    "\n",
    "RESPONSE = requests.get(URL)\n",
    "SOUP = BeautifulSoup(RESPONSE.content, 'html.parser')\n",
    "TABLE = SOUP.find_all('table', {'class': 'view'})\n",
    "\n",
    "TDS = TABLE[0].find_all('td')\n",
    "FONTS = TABLE[0].find_all('font')\n",
    "SPANS = TABLE[0].find_all('span')"
   ]
  },
  {
   "cell_type": "code",
   "execution_count": 3,
   "metadata": {},
   "outputs": [
    {
     "data": {
      "text/plain": [
       "[<span tabindex=\"0\">시간</span>,\n",
       " <span tabindex=\"0\">측정항목</span>,\n",
       " <span tabindex=\"0\">SO<sub>2</sub>(ppm)</span>,\n",
       " <span tabindex=\"0\">NO<sub>2</sub>(ppm)</span>,\n",
       " <span tabindex=\"0\">O<sub>3</sub>(ppm)</span>,\n",
       " <span tabindex=\"0\">CO(ppm)</span>,\n",
       " <span tabindex=\"0\">PM<sub>10</sub><br/>(㎍/㎥)</span>,\n",
       " <span tabindex=\"0\">PM<sub>2.5</sub><br/>(㎍/㎥)</span>,\n",
       " <span tabindex=\"0\">\n",
       " 2018년<br/>12월 30일<br/>19시</span>,\n",
       " <span tabindex=\"0\">\n",
       " <font color=\"black\">0.006</font></span>,\n",
       " <span tabindex=\"0\">\n",
       " <font color=\"black\">0.024</font> </span>,\n",
       " <span tabindex=\"0\">\n",
       " <font color=\"black\">0.021</font> </span>,\n",
       " <span tabindex=\"0\">\n",
       " <font color=\"black\">0.6</font> </span>,\n",
       " <span tabindex=\"0\">\n",
       " <font color=\"black\">32</font> </span>,\n",
       " <span tabindex=\"0\">\n",
       " <font color=\"black\">18</font> </span>,\n",
       " <span tabindex=\"0\">\n",
       " 18시</span>,\n",
       " <span tabindex=\"0\">\n",
       " <font color=\"black\">0.006</font></span>,\n",
       " <span tabindex=\"0\">\n",
       " <font color=\"black\">0.023</font> </span>,\n",
       " <span tabindex=\"0\">\n",
       " <font color=\"black\">0.022</font> </span>,\n",
       " <span tabindex=\"0\">\n",
       " <font color=\"black\">0.5</font> </span>,\n",
       " <span tabindex=\"0\">\n",
       " <font color=\"black\">38</font> </span>,\n",
       " <span tabindex=\"0\">\n",
       " <font color=\"black\">20</font> </span>,\n",
       " <span tabindex=\"0\">\n",
       " 17시</span>,\n",
       " <span tabindex=\"0\">\n",
       " <font color=\"black\">0.007</font></span>,\n",
       " <span tabindex=\"0\">\n",
       " <font color=\"black\">0.024</font> </span>,\n",
       " <span tabindex=\"0\">\n",
       " <font color=\"black\">0.022</font> </span>,\n",
       " <span tabindex=\"0\">\n",
       " <font color=\"black\">0.6</font> </span>,\n",
       " <span tabindex=\"0\">\n",
       " <font color=\"black\">39</font> </span>,\n",
       " <span tabindex=\"0\">\n",
       " <font color=\"black\">22</font> </span>,\n",
       " <span tabindex=\"0\">\n",
       " 16시</span>,\n",
       " <span tabindex=\"0\">\n",
       " <font color=\"black\">0.007</font></span>,\n",
       " <span tabindex=\"0\">\n",
       " <font color=\"black\">0.019</font> </span>,\n",
       " <span tabindex=\"0\">\n",
       " <font color=\"black\">0.026</font> </span>,\n",
       " <span tabindex=\"0\">\n",
       " <font color=\"black\">0.5</font> </span>,\n",
       " <span tabindex=\"0\">\n",
       " <font color=\"black\">41</font> </span>,\n",
       " <span tabindex=\"0\">\n",
       " <font color=\"black\">20</font> </span>,\n",
       " <span tabindex=\"0\">\n",
       " 15시</span>,\n",
       " <span tabindex=\"0\">\n",
       " <font color=\"black\">0.008</font></span>,\n",
       " <span tabindex=\"0\">\n",
       " <font color=\"black\">0.018</font> </span>,\n",
       " <span tabindex=\"0\">\n",
       " <font color=\"black\">0.026</font> </span>,\n",
       " <span tabindex=\"0\">\n",
       " <font color=\"black\">0.5</font> </span>,\n",
       " <span tabindex=\"0\">\n",
       " <font color=\"black\">38</font> </span>,\n",
       " <span tabindex=\"0\">\n",
       " <font color=\"black\">20</font> </span>,\n",
       " <span tabindex=\"0\">\n",
       " 14시</span>,\n",
       " <span tabindex=\"0\">\n",
       " <font color=\"black\">0.007</font></span>,\n",
       " <span tabindex=\"0\">\n",
       " <font color=\"black\">0.022</font> </span>,\n",
       " <span tabindex=\"0\">\n",
       " <font color=\"black\">0.024</font> </span>,\n",
       " <span tabindex=\"0\">\n",
       " <font color=\"black\">0.6</font> </span>,\n",
       " <span tabindex=\"0\">\n",
       " <font color=\"black\">35</font> </span>,\n",
       " <span tabindex=\"0\">\n",
       " <font color=\"black\">17</font> </span>,\n",
       " <span tabindex=\"0\">\n",
       " 13시</span>,\n",
       " <span tabindex=\"0\">\n",
       " <font color=\"black\">0.006</font></span>,\n",
       " <span tabindex=\"0\">\n",
       " <font color=\"black\">0.021</font> </span>,\n",
       " <span tabindex=\"0\">\n",
       " <font color=\"black\">0.024</font> </span>,\n",
       " <span tabindex=\"0\">\n",
       " <font color=\"black\">0.6</font> </span>,\n",
       " <span tabindex=\"0\">\n",
       " <font color=\"black\">36</font> </span>,\n",
       " <span tabindex=\"0\">\n",
       " <font color=\"black\">19</font> </span>,\n",
       " <span tabindex=\"0\">\n",
       " 12시</span>,\n",
       " <span tabindex=\"0\">\n",
       " <font color=\"black\">0.006</font></span>,\n",
       " <span tabindex=\"0\">\n",
       " <font color=\"black\">0.018</font> </span>,\n",
       " <span tabindex=\"0\">\n",
       " <font color=\"black\">0.024</font> </span>,\n",
       " <span tabindex=\"0\">\n",
       " <font color=\"black\">0.5</font> </span>,\n",
       " <span tabindex=\"0\">\n",
       " <font color=\"black\">32</font> </span>,\n",
       " <span tabindex=\"0\">\n",
       " <font color=\"black\">15</font> </span>,\n",
       " <span tabindex=\"0\">\n",
       " 11시</span>,\n",
       " <span tabindex=\"0\">\n",
       " <font color=\"black\">0.006</font></span>,\n",
       " <span tabindex=\"0\">\n",
       " <font color=\"black\">0.016</font> </span>,\n",
       " <span tabindex=\"0\">\n",
       " <font color=\"black\">0.024</font> </span>,\n",
       " <span tabindex=\"0\">\n",
       " <font color=\"black\">0.5</font> </span>,\n",
       " <span tabindex=\"0\">\n",
       " <font color=\"black\">31</font> </span>,\n",
       " <span tabindex=\"0\">\n",
       " <font color=\"black\">12</font> </span>,\n",
       " <span tabindex=\"0\">\n",
       " 10시</span>,\n",
       " <span tabindex=\"0\">\n",
       " <font color=\"black\">0.005</font></span>,\n",
       " <span tabindex=\"0\">\n",
       " <font color=\"black\">0.016</font> </span>,\n",
       " <span tabindex=\"0\">\n",
       " <font color=\"black\">0.023</font> </span>,\n",
       " <span tabindex=\"0\">\n",
       " <font color=\"black\">0.5</font> </span>,\n",
       " <span tabindex=\"0\">\n",
       " <font color=\"black\">27</font> </span>,\n",
       " <span tabindex=\"0\">\n",
       " <font color=\"black\">12</font> </span>,\n",
       " <span tabindex=\"0\">\n",
       " 09시</span>,\n",
       " <span tabindex=\"0\">\n",
       " <font color=\"black\">0.005</font></span>,\n",
       " <span tabindex=\"0\">\n",
       " <font color=\"black\">0.017</font> </span>,\n",
       " <span tabindex=\"0\">\n",
       " <font color=\"black\">0.020</font> </span>,\n",
       " <span tabindex=\"0\">\n",
       " <font color=\"black\">0.5</font> </span>,\n",
       " <span tabindex=\"0\">\n",
       " <font color=\"black\">26</font> </span>,\n",
       " <span tabindex=\"0\">\n",
       " <font color=\"black\">10</font> </span>,\n",
       " <span tabindex=\"0\">\n",
       " 08시</span>,\n",
       " <span tabindex=\"0\">\n",
       " <font color=\"black\">0.005</font></span>,\n",
       " <span tabindex=\"0\">\n",
       " <font color=\"black\">0.011</font> </span>,\n",
       " <span tabindex=\"0\">\n",
       " <font color=\"black\">0.024</font> </span>,\n",
       " <span tabindex=\"0\">\n",
       " <font color=\"black\">0.5</font> </span>,\n",
       " <span tabindex=\"0\">\n",
       " <font color=\"black\">24</font> </span>,\n",
       " <span tabindex=\"0\">\n",
       " <font color=\"black\">11</font> </span>,\n",
       " <span tabindex=\"0\">\n",
       " 07시</span>,\n",
       " <span tabindex=\"0\">\n",
       " <font color=\"black\">0.005</font></span>,\n",
       " <span tabindex=\"0\">\n",
       " <font color=\"black\">0.011</font> </span>,\n",
       " <span tabindex=\"0\">\n",
       " <font color=\"black\">0.026</font> </span>,\n",
       " <span tabindex=\"0\">\n",
       " <font color=\"black\">0.5</font> </span>,\n",
       " <span tabindex=\"0\">\n",
       " <font color=\"black\">26</font> </span>,\n",
       " <span tabindex=\"0\">\n",
       " <font color=\"black\">12</font> </span>,\n",
       " <span tabindex=\"0\">\n",
       " 06시</span>,\n",
       " <span tabindex=\"0\">\n",
       " <font color=\"black\">0.005</font></span>,\n",
       " <span tabindex=\"0\">\n",
       " <font color=\"black\">0.011</font> </span>,\n",
       " <span tabindex=\"0\">\n",
       " <font color=\"black\">0.025</font> </span>,\n",
       " <span tabindex=\"0\">\n",
       " <font color=\"black\">0.5</font> </span>,\n",
       " <span tabindex=\"0\">\n",
       " <font color=\"black\">25</font> </span>,\n",
       " <span tabindex=\"0\">\n",
       " <font color=\"black\">11</font> </span>,\n",
       " <span tabindex=\"0\">\n",
       " 05시</span>,\n",
       " <span tabindex=\"0\">\n",
       " <font color=\"black\">0.005</font></span>,\n",
       " <span tabindex=\"0\">\n",
       " <font color=\"black\">0.007</font> </span>,\n",
       " <span tabindex=\"0\">\n",
       " <font color=\"black\">0.030</font> </span>,\n",
       " <span tabindex=\"0\">\n",
       " <font color=\"black\">0.5</font> </span>,\n",
       " <span tabindex=\"0\">\n",
       " <font color=\"black\">23</font> </span>,\n",
       " <span tabindex=\"0\">\n",
       " <font color=\"black\">11</font> </span>,\n",
       " <span tabindex=\"0\">\n",
       " 04시</span>,\n",
       " <span tabindex=\"0\">\n",
       " <font color=\"black\">0.005</font></span>,\n",
       " <span tabindex=\"0\">\n",
       " <font color=\"black\">0.007</font> </span>,\n",
       " <span tabindex=\"0\">\n",
       " <font color=\"black\">0.031</font> </span>,\n",
       " <span tabindex=\"0\">\n",
       " <font color=\"black\">0.4</font> </span>,\n",
       " <span tabindex=\"0\">\n",
       " <font color=\"black\">25</font> </span>,\n",
       " <span tabindex=\"0\">\n",
       " <font color=\"black\">11</font> </span>,\n",
       " <span tabindex=\"0\">\n",
       " 03시</span>,\n",
       " <span tabindex=\"0\">\n",
       " <font color=\"black\">0.005</font></span>,\n",
       " <span tabindex=\"0\">\n",
       " <font color=\"black\">0.007</font> </span>,\n",
       " <span tabindex=\"0\">\n",
       " <font color=\"black\">0.030</font> </span>,\n",
       " <span tabindex=\"0\">\n",
       " <font color=\"black\">0.4</font> </span>,\n",
       " <span tabindex=\"0\">\n",
       " <font color=\"black\">27</font> </span>,\n",
       " <span tabindex=\"0\">\n",
       " <font color=\"black\">12</font> </span>,\n",
       " <span tabindex=\"0\">\n",
       " 02시</span>,\n",
       " <span tabindex=\"0\">\n",
       " <font color=\"black\">0.005</font></span>,\n",
       " <span tabindex=\"0\">\n",
       " <font color=\"black\">0.008</font> </span>,\n",
       " <span tabindex=\"0\">\n",
       " <font color=\"black\">0.030</font> </span>,\n",
       " <span tabindex=\"0\">\n",
       " <font color=\"black\">0.5</font> </span>,\n",
       " <span tabindex=\"0\">\n",
       " <font color=\"black\">26</font> </span>,\n",
       " <span tabindex=\"0\">\n",
       " <font color=\"black\">11</font> </span>,\n",
       " <span tabindex=\"0\">\n",
       " 01시</span>,\n",
       " <span tabindex=\"0\">\n",
       " <font color=\"black\">0.006</font></span>,\n",
       " <span tabindex=\"0\">\n",
       " <font color=\"black\">0.011</font> </span>,\n",
       " <span tabindex=\"0\">\n",
       " <font color=\"black\">0.028</font> </span>,\n",
       " <span tabindex=\"0\">\n",
       " <font color=\"black\">0.5</font> </span>,\n",
       " <span tabindex=\"0\">\n",
       " <font color=\"black\">28</font> </span>,\n",
       " <span tabindex=\"0\">\n",
       " <font color=\"black\">13</font> </span>,\n",
       " <span tabindex=\"0\">\n",
       " 2018년<br/>12월 29일<br/>24시\t\t\t\t\t\t\t</span>,\n",
       " <span tabindex=\"0\">\n",
       " <font color=\"black\">0.005</font> </span>,\n",
       " <span tabindex=\"0\">\n",
       " <font color=\"black\">0.010</font> </span>,\n",
       " <span tabindex=\"0\">\n",
       " <font color=\"black\">0.029</font> </span>,\n",
       " <span tabindex=\"0\">\n",
       " <font color=\"black\">0.5</font> </span>,\n",
       " <span tabindex=\"0\">\n",
       " <font color=\"black\">26</font> </span>,\n",
       " <span tabindex=\"0\">\n",
       " <font color=\"black\">10</font> </span>,\n",
       " <span tabindex=\"0\">\n",
       " 23시\t\t\t\t\t\t\t</span>,\n",
       " <span tabindex=\"0\">\n",
       " <font color=\"black\">0.005</font> </span>,\n",
       " <span tabindex=\"0\">\n",
       " <font color=\"black\">0.010</font> </span>,\n",
       " <span tabindex=\"0\">\n",
       " <font color=\"black\">0.029</font> </span>,\n",
       " <span tabindex=\"0\">\n",
       " <font color=\"black\">0.5</font> </span>,\n",
       " <span tabindex=\"0\">\n",
       " <font color=\"black\">25</font> </span>,\n",
       " <span tabindex=\"0\">\n",
       " <font color=\"black\">11</font> </span>,\n",
       " <span tabindex=\"0\">\n",
       " 22시\t\t\t\t\t\t\t</span>,\n",
       " <span tabindex=\"0\">\n",
       " <font color=\"black\">0.004</font> </span>,\n",
       " <span tabindex=\"0\">\n",
       " <font color=\"black\">0.008</font> </span>,\n",
       " <span tabindex=\"0\">\n",
       " <font color=\"black\">0.032</font> </span>,\n",
       " <span tabindex=\"0\">\n",
       " <font color=\"black\">0.5</font> </span>,\n",
       " <span tabindex=\"0\">\n",
       " <font color=\"black\">26</font> </span>,\n",
       " <span tabindex=\"0\">\n",
       " <font color=\"black\">9</font> </span>,\n",
       " <span tabindex=\"0\">\n",
       " 21시\t\t\t\t\t\t\t</span>,\n",
       " <span tabindex=\"0\">\n",
       " <font color=\"black\">0.005</font> </span>,\n",
       " <span tabindex=\"0\">\n",
       " <font color=\"black\">0.009</font> </span>,\n",
       " <span tabindex=\"0\">\n",
       " <font color=\"black\">0.033</font> </span>,\n",
       " <span tabindex=\"0\">\n",
       " <font color=\"black\">0.5</font> </span>,\n",
       " <span tabindex=\"0\">\n",
       " <font color=\"black\">23</font> </span>,\n",
       " <span tabindex=\"0\">\n",
       " <font color=\"black\">10</font> </span>,\n",
       " <span tabindex=\"0\">\n",
       " 20시\t\t\t\t\t\t\t</span>,\n",
       " <span tabindex=\"0\">\n",
       " <font color=\"black\">0.004</font> </span>,\n",
       " <span tabindex=\"0\">\n",
       " <font color=\"black\">0.009</font> </span>,\n",
       " <span tabindex=\"0\">\n",
       " <font color=\"black\">0.032</font> </span>,\n",
       " <span tabindex=\"0\">\n",
       " <font color=\"black\">0.5</font> </span>,\n",
       " <span tabindex=\"0\">\n",
       " <font color=\"black\">25</font> </span>,\n",
       " <span tabindex=\"0\">\n",
       " <font color=\"black\">7</font> </span>,\n",
       " <span tabindex=\"0\">\n",
       " 19시\t\t\t\t\t\t\t</span>,\n",
       " <span tabindex=\"0\">\n",
       " <font color=\"black\">0.004</font> </span>,\n",
       " <span tabindex=\"0\">\n",
       " <font color=\"black\">0.011</font> </span>,\n",
       " <span tabindex=\"0\">\n",
       " <font color=\"black\">0.031</font> </span>,\n",
       " <span tabindex=\"0\">\n",
       " <font color=\"black\">0.5</font> </span>,\n",
       " <span tabindex=\"0\">\n",
       " <font color=\"black\">24</font> </span>,\n",
       " <span tabindex=\"0\">\n",
       " <font color=\"black\">9</font> </span>,\n",
       " <span tabindex=\"0\">\n",
       " 18시\t\t\t\t\t\t\t</span>,\n",
       " <span tabindex=\"0\">\n",
       " <font color=\"black\">0.004</font> </span>,\n",
       " <span tabindex=\"0\">\n",
       " <font color=\"black\">0.011</font> </span>,\n",
       " <span tabindex=\"0\">\n",
       " <font color=\"black\">0.032</font> </span>,\n",
       " <span tabindex=\"0\">\n",
       " <font color=\"black\">0.4</font> </span>,\n",
       " <span tabindex=\"0\">\n",
       " <font color=\"black\">29</font> </span>,\n",
       " <span tabindex=\"0\">\n",
       " <font color=\"black\">7</font> </span>,\n",
       " <span tabindex=\"0\">\n",
       " 17시\t\t\t\t\t\t\t</span>,\n",
       " <span tabindex=\"0\">\n",
       " <font color=\"black\">0.004</font> </span>,\n",
       " <span tabindex=\"0\">\n",
       " <font color=\"black\">0.010</font> </span>,\n",
       " <span tabindex=\"0\">\n",
       " <font color=\"black\">0.034</font> </span>,\n",
       " <span tabindex=\"0\">\n",
       " <font color=\"black\">0.4</font> </span>,\n",
       " <span tabindex=\"0\">\n",
       " <font color=\"black\">36</font> </span>,\n",
       " <span tabindex=\"0\">\n",
       " <font color=\"black\">9</font> </span>,\n",
       " <span tabindex=\"0\">\n",
       " 16시\t\t\t\t\t\t\t</span>,\n",
       " <span tabindex=\"0\">\n",
       " <font color=\"black\">0.005</font> </span>,\n",
       " <span tabindex=\"0\">\n",
       " <font color=\"black\">0.009</font> </span>,\n",
       " <span tabindex=\"0\">\n",
       " <font color=\"black\">0.034</font> </span>,\n",
       " <span tabindex=\"0\">\n",
       " <font color=\"black\">0.4</font> </span>,\n",
       " <span tabindex=\"0\">\n",
       " <font color=\"black\">39</font> </span>,\n",
       " <span tabindex=\"0\">\n",
       " <font color=\"black\">9</font> </span>,\n",
       " <span tabindex=\"0\">\n",
       " 15시\t\t\t\t\t\t\t</span>,\n",
       " <span tabindex=\"0\">\n",
       " <font color=\"black\">0.005</font> </span>,\n",
       " <span tabindex=\"0\">\n",
       " <font color=\"black\">0.008</font> </span>,\n",
       " <span tabindex=\"0\">\n",
       " <font color=\"black\">0.034</font> </span>,\n",
       " <span tabindex=\"0\">\n",
       " <font color=\"black\">0.4</font> </span>,\n",
       " <span tabindex=\"0\">\n",
       " <font color=\"black\">37</font> </span>,\n",
       " <span tabindex=\"0\">\n",
       " <font color=\"black\">8</font> </span>,\n",
       " <span tabindex=\"0\">\n",
       " 14시\t\t\t\t\t\t\t</span>,\n",
       " <span tabindex=\"0\">\n",
       " <font color=\"black\">0.004</font> </span>,\n",
       " <span tabindex=\"0\">\n",
       " <font color=\"black\">0.007</font> </span>,\n",
       " <span tabindex=\"0\">\n",
       " <font color=\"black\">0.034</font> </span>,\n",
       " <span tabindex=\"0\">\n",
       " <font color=\"black\">0.4</font> </span>,\n",
       " <span tabindex=\"0\">\n",
       " <font color=\"black\">37</font> </span>,\n",
       " <span tabindex=\"0\">\n",
       " <font color=\"black\">8</font> </span>,\n",
       " <span tabindex=\"0\">\n",
       " 13시\t\t\t\t\t\t\t</span>,\n",
       " <span tabindex=\"0\">\n",
       " <font color=\"black\">0.004</font> </span>,\n",
       " <span tabindex=\"0\">\n",
       " <font color=\"black\">0.007</font> </span>,\n",
       " <span tabindex=\"0\">\n",
       " <font color=\"black\">0.033</font> </span>,\n",
       " <span tabindex=\"0\">\n",
       " <font color=\"black\">0.4</font> </span>,\n",
       " <span tabindex=\"0\">\n",
       " <font color=\"black\">39</font> </span>,\n",
       " <span tabindex=\"0\">\n",
       " <font color=\"black\">7</font> </span>,\n",
       " <span tabindex=\"0\">\n",
       " 12시\t\t\t\t\t\t\t</span>,\n",
       " <span tabindex=\"0\">\n",
       " <font color=\"black\">0.005</font> </span>,\n",
       " <span tabindex=\"0\">\n",
       " <font color=\"black\">0.010</font> </span>,\n",
       " <span tabindex=\"0\">\n",
       " <font color=\"black\">0.031</font> </span>,\n",
       " <span tabindex=\"0\">\n",
       " <font color=\"black\">0.4</font> </span>,\n",
       " <span tabindex=\"0\">\n",
       " <font color=\"black\">42</font> </span>,\n",
       " <span tabindex=\"0\">\n",
       " <font color=\"black\">6</font> </span>,\n",
       " <span tabindex=\"0\">\n",
       " 11시\t\t\t\t\t\t\t</span>,\n",
       " <span tabindex=\"0\">\n",
       " <font color=\"black\">0.005</font> </span>,\n",
       " <span tabindex=\"0\">\n",
       " <font color=\"black\">0.011</font> </span>,\n",
       " <span tabindex=\"0\">\n",
       " <font color=\"black\">0.029</font> </span>,\n",
       " <span tabindex=\"0\">\n",
       " <font color=\"black\">0.4</font> </span>,\n",
       " <span tabindex=\"0\">\n",
       " <font color=\"black\">46</font> </span>,\n",
       " <span tabindex=\"0\">\n",
       " <font color=\"black\">6</font> </span>,\n",
       " <span tabindex=\"0\">\n",
       " 10시\t\t\t\t\t\t\t</span>,\n",
       " <span tabindex=\"0\">\n",
       " <font color=\"black\">0.005</font> </span>,\n",
       " <span tabindex=\"0\">\n",
       " <font color=\"black\">0.013</font> </span>,\n",
       " <span tabindex=\"0\">\n",
       " <font color=\"black\">0.025</font> </span>,\n",
       " <span tabindex=\"0\">\n",
       " <font color=\"black\">0.4</font> </span>,\n",
       " <span tabindex=\"0\">\n",
       " <font color=\"black\">51</font> </span>,\n",
       " <span tabindex=\"0\">\n",
       " <font color=\"black\">8</font> </span>,\n",
       " <span tabindex=\"0\">\n",
       " 09시\t\t\t\t\t\t\t</span>,\n",
       " <span tabindex=\"0\">\n",
       " <font color=\"black\">0.005</font> </span>,\n",
       " <span tabindex=\"0\">\n",
       " <font color=\"black\">0.015</font> </span>,\n",
       " <span tabindex=\"0\">\n",
       " <font color=\"black\">0.023</font> </span>,\n",
       " <span tabindex=\"0\">\n",
       " <font color=\"black\">0.4</font> </span>,\n",
       " <span tabindex=\"0\">\n",
       " <font color=\"black\">53</font> </span>,\n",
       " <span tabindex=\"0\">\n",
       " <font color=\"black\">9</font> </span>,\n",
       " <span tabindex=\"0\">\n",
       " 08시\t\t\t\t\t\t\t</span>,\n",
       " <span tabindex=\"0\">\n",
       " <font color=\"black\">0.005</font> </span>,\n",
       " <span tabindex=\"0\">\n",
       " <font color=\"black\">0.014</font> </span>,\n",
       " <span tabindex=\"0\">\n",
       " <font color=\"black\">0.024</font> </span>,\n",
       " <span tabindex=\"0\">\n",
       " <font color=\"black\">0.5</font> </span>,\n",
       " <span tabindex=\"0\">\n",
       " <font color=\"black\">50</font> </span>,\n",
       " <span tabindex=\"0\">\n",
       " <font color=\"black\">8</font> </span>,\n",
       " <span tabindex=\"0\">\n",
       " 07시\t\t\t\t\t\t\t</span>,\n",
       " <span tabindex=\"0\">\n",
       " <font color=\"black\">0.006</font> </span>,\n",
       " <span tabindex=\"0\">\n",
       " <font color=\"black\">0.013</font> </span>,\n",
       " <span tabindex=\"0\">\n",
       " <font color=\"black\">0.024</font> </span>,\n",
       " <span tabindex=\"0\">\n",
       " <font color=\"black\">0.5</font> </span>,\n",
       " <span tabindex=\"0\">\n",
       " <font color=\"black\">50</font> </span>,\n",
       " <span tabindex=\"0\">\n",
       " <font color=\"black\">12</font> </span>,\n",
       " <span tabindex=\"0\">\n",
       " 06시\t\t\t\t\t\t\t</span>,\n",
       " <span tabindex=\"0\">\n",
       " <font color=\"black\">0.005</font> </span>,\n",
       " <span tabindex=\"0\">\n",
       " <font color=\"black\">0.009</font> </span>,\n",
       " <span tabindex=\"0\">\n",
       " <font color=\"black\">0.028</font> </span>,\n",
       " <span tabindex=\"0\">\n",
       " <font color=\"black\">0.4</font> </span>,\n",
       " <span tabindex=\"0\">\n",
       " <font color=\"black\">49</font> </span>,\n",
       " <span tabindex=\"0\">\n",
       " <font color=\"black\">10</font> </span>,\n",
       " <span tabindex=\"0\">\n",
       " 05시\t\t\t\t\t\t\t</span>,\n",
       " <span tabindex=\"0\">\n",
       " <font color=\"black\">0.005</font> </span>,\n",
       " <span tabindex=\"0\">\n",
       " <font color=\"black\">0.008</font> </span>,\n",
       " <span tabindex=\"0\">\n",
       " <font color=\"black\">0.029</font> </span>,\n",
       " <span tabindex=\"0\">\n",
       " <font color=\"black\">0.5</font> </span>,\n",
       " <span tabindex=\"0\">\n",
       " <font color=\"black\">45</font> </span>,\n",
       " <span tabindex=\"0\">\n",
       " <font color=\"black\">11</font> </span>,\n",
       " <span tabindex=\"0\">\n",
       " 04시\t\t\t\t\t\t\t</span>,\n",
       " <span tabindex=\"0\">\n",
       " <font color=\"black\">0.004</font> </span>,\n",
       " <span tabindex=\"0\">\n",
       " <font color=\"black\">0.007</font> </span>,\n",
       " <span tabindex=\"0\">\n",
       " <font color=\"black\">0.031</font> </span>,\n",
       " <span tabindex=\"0\">\n",
       " <font color=\"black\">0.5</font> </span>,\n",
       " <span tabindex=\"0\">\n",
       " <font color=\"black\">37</font> </span>,\n",
       " <span tabindex=\"0\">\n",
       " <font color=\"black\">7</font> </span>,\n",
       " <span tabindex=\"0\">\n",
       " 03시\t\t\t\t\t\t\t</span>,\n",
       " <span tabindex=\"0\">\n",
       " <font color=\"black\">0.005</font> </span>,\n",
       " <span tabindex=\"0\">\n",
       " <font color=\"black\">0.007</font> </span>,\n",
       " <span tabindex=\"0\">\n",
       " <font color=\"black\">0.031</font> </span>,\n",
       " <span tabindex=\"0\">\n",
       " <font color=\"black\">0.4</font> </span>,\n",
       " <span tabindex=\"0\">\n",
       " <font color=\"black\">28</font> </span>,\n",
       " <span tabindex=\"0\">\n",
       " <font color=\"black\">8</font> </span>,\n",
       " <span tabindex=\"0\">\n",
       " 02시\t\t\t\t\t\t\t</span>,\n",
       " <span tabindex=\"0\">\n",
       " <font color=\"black\">0.005</font> </span>,\n",
       " <span tabindex=\"0\">\n",
       " <font color=\"black\">0.008</font> </span>,\n",
       " <span tabindex=\"0\">\n",
       " <font color=\"black\">0.029</font> </span>,\n",
       " <span tabindex=\"0\">\n",
       " <font color=\"black\">0.5</font> </span>,\n",
       " <span tabindex=\"0\">\n",
       " <font color=\"black\">25</font> </span>,\n",
       " <span tabindex=\"0\">\n",
       " <font color=\"black\">11</font> </span>,\n",
       " <span tabindex=\"0\">\n",
       " 01시\t\t\t\t\t\t\t</span>,\n",
       " <span tabindex=\"0\">\n",
       " <font color=\"black\">0.005</font> </span>,\n",
       " <span tabindex=\"0\">\n",
       " <font color=\"black\">0.010</font> </span>,\n",
       " <span tabindex=\"0\">\n",
       " <font color=\"black\">0.028</font> </span>,\n",
       " <span tabindex=\"0\">\n",
       " <font color=\"black\">0.4</font> </span>,\n",
       " <span tabindex=\"0\">\n",
       " <font color=\"black\">27</font> </span>,\n",
       " <span tabindex=\"0\">\n",
       " <font color=\"black\">10</font> </span>]"
      ]
     },
     "execution_count": 3,
     "metadata": {},
     "output_type": "execute_result"
    }
   ],
   "source": [
    "TDS    # <td class=\"txt_right\"><span tabindex=\"0\"> 2018년<br/>12월 30일<br/>02시</span></td>, ...모든 데이터\n",
    "FONTS   # <font color=\"black\">0.005</font>,... <font color=\"black\">11</font>, ... 센서값 7개씩 반복\n",
    "SPANS"
   ]
  },
  {
   "cell_type": "markdown",
   "metadata": {},
   "source": [
    "## 데이터의 길이를 기준으로 구분한다 (EDA)\n",
    "> 12자 길이를 넘어가는 데이터는 한글 테이터이다."
   ]
  },
  {
   "cell_type": "code",
   "execution_count": 4,
   "metadata": {},
   "outputs": [],
   "source": [
    "for n, span in enumerate(SPANS, 0):\n",
    "    neat_span = str(span.text).strip()\n",
    "# print(neat_span)              # 값 확인해 봄!"
   ]
  },
  {
   "cell_type": "code",
   "execution_count": 5,
   "metadata": {},
   "outputs": [],
   "source": [
    "DATA = []\n",
    "DATE = []\n",
    "\n",
    "for n, span in enumerate(SPANS, 0):\n",
    "    neat_span = str(span.text).strip()\n",
    "\n",
    "    if len(neat_span) > 12:                           # 2018년12월 29일24시\n",
    "        \"\"\" 날짜와 시간을 분리해서 각각 넣는다 \"\"\"\n",
    "        DATE.append(neat_span[:-3])     # 날짜 = 2018년 12월 29일\n",
    "        DATA.append(neat_span[-3:])     # 시간 = '24시'  .. 날짜는 잘라내고, 시간만 넣는다\n",
    "    else:\n",
    "        DATA.append(neat_span)          # 그렇지 않으면 그냥 넣는다"
   ]
  },
  {
   "cell_type": "code",
   "execution_count": 6,
   "metadata": {},
   "outputs": [
    {
     "name": "stdout",
     "output_type": "stream",
     "text": [
      "2018년12월 30일\n",
      "2018년12월 29일\n"
     ]
    }
   ],
   "source": [
    "\"\"\" 리스트에 담긴 해당 날짜를 보여준다, 그래봤자 2개 지만.. \"\"\"\n",
    "print(DATE[0])                          # 2018년12월 30일  ... 오늘날짜가 먼저 담긴다.\n",
    "print(DATE[1])                          # 2018년12월 29일  ... 어제날짜가 다음에 담긴다."
   ]
  },
  {
   "cell_type": "code",
   "execution_count": 7,
   "metadata": {},
   "outputs": [
    {
     "data": {
      "text/plain": [
       "['Time(24Hr)',\n",
       " 'SO2(ppm)',\n",
       " 'NO2(ppm)',\n",
       " 'O3(ppm)',\n",
       " 'CO(ppm)',\n",
       " 'PM10(㎍/㎥)',\n",
       " 'PM2.5(㎍/㎥)']"
      ]
     },
     "execution_count": 7,
     "metadata": {},
     "output_type": "execute_result"
    }
   ],
   "source": [
    "\"\"\" 데이터가 7줄씩 한줄로 쌓인다.  확인해 보자 \"\"\"\n",
    "DATA    # ['시간','측정항목','SO2(ppm)','NO2(ppm)','O3(ppm)','CO(ppm)','PM10(㎍/㎥)','PM2.5(㎍/㎥)',\n",
    "FULL_COLUMNS = ['Time(24Hr)',]\n",
    "FULL_COLUMNS.extend(DATA[2:8])\n",
    "FULL_COLUMNS"
   ]
  },
  {
   "cell_type": "code",
   "execution_count": 8,
   "metadata": {},
   "outputs": [
    {
     "data": {
      "text/plain": [
       "(['Time', 'SO2', 'NO2', 'O3', 'CO', 'PM10', 'PM2.5'],\n",
       " ['24Hr', 'ppm', 'ppm', 'ppm', 'ppm', '㎍/㎥', '㎍/㎥'])"
      ]
     },
     "execution_count": 8,
     "metadata": {},
     "output_type": "execute_result"
    }
   ],
   "source": [
    "COLUMNS = []\n",
    "UNIT = []\n",
    "\n",
    "for item in FULL_COLUMNS:      # full 컬럼값에서 '타이틀'과 '단위'를 분리해 냄\n",
    "    title = item.split('(')[0]    # Title\n",
    "    _rest = item.split('(')[1]\n",
    "    \n",
    "    COLUMNS.append(title)\n",
    "    UNIT.append(_rest[:-1])\n",
    "\n",
    "# (['Time', 'SO2', 'NO2', 'O3', 'CO', 'PM10', 'PM2.5'],\n",
    "#  ['24Hr', 'ppm', 'ppm', 'ppm', 'ppm', '㎍/㎥', '㎍/㎥'])    \n",
    "COLUMNS, UNIT"
   ]
  },
  {
   "cell_type": "code",
   "execution_count": 9,
   "metadata": {},
   "outputs": [
    {
     "data": {
      "text/plain": [
       "(43, 7)"
      ]
     },
     "execution_count": 9,
     "metadata": {},
     "output_type": "execute_result"
    }
   ],
   "source": [
    "CUT_DATA = DATA[8:]                       # 앞부분을 잘라내고 데이터부분만 남김 =  1-DIM\n",
    "DATA_NP = np.array(CUT_DATA)              # numpy 데이터 변환!\n",
    "DATA_NP2D = np.reshape(DATA_NP, (-1,7))   # 1D to 2D 변환 (-1,7)\n",
    "np.shape(a=DATA_NP2D)                     # (26,7)"
   ]
  },
  {
   "cell_type": "code",
   "execution_count": 10,
   "metadata": {},
   "outputs": [
    {
     "data": {
      "text/plain": [
       "array(['19시', '18시', '17시', '16시', '15시', '14시', '13시', '12시', '11시',\n",
       "       '10시', '09시', '08시', '07시', '06시', '05시', '04시', '03시', '02시',\n",
       "       '01시', '24시', '23시', '22시', '21시', '20시', '19시', '18시', '17시',\n",
       "       '16시', '15시', '14시', '13시', '12시', '11시', '10시', '09시', '08시',\n",
       "       '07시', '06시', '05시', '04시', '03시', '02시', '01시'], dtype='<U5')"
      ]
     },
     "execution_count": 10,
     "metadata": {},
     "output_type": "execute_result"
    }
   ],
   "source": [
    "DATA_NP2D[25]           # 가로행 = array(['01시', '0.005', '0.010', '0.028', '0.4', '27', '10'], dtype='<U5')\n",
    "DATA_NP2D[:,0]          # 컬럼만 = array(['02시', '01시', '24시"
   ]
  },
  {
   "cell_type": "code",
   "execution_count": 11,
   "metadata": {},
   "outputs": [],
   "source": [
    "TIME_COL = DATA_NP2D[:,0]                         # 시간열만 쪼개서 따로 담음\n",
    "DATA_NP2D[:,0] = [time[:2] for time in TIME_COL]  # 02시 --> 02, 앞 두글자만 잘라냄"
   ]
  },
  {
   "cell_type": "code",
   "execution_count": 12,
   "metadata": {},
   "outputs": [
    {
     "data": {
      "text/plain": [
       "array([['19', '0.006', '0.024', '0.021', '0.6', '32', '18'],\n",
       "       ['18', '0.006', '0.023', '0.022', '0.5', '38', '20'],\n",
       "       ['17', '0.007', '0.024', '0.022', '0.6', '39', '22'],\n",
       "       ['16', '0.007', '0.019', '0.026', '0.5', '41', '20'],\n",
       "       ['15', '0.008', '0.018', '0.026', '0.5', '38', '20']], dtype='<U5')"
      ]
     },
     "execution_count": 12,
     "metadata": {},
     "output_type": "execute_result"
    }
   ],
   "source": [
    "DATA_NP2D[:5,]"
   ]
  },
  {
   "cell_type": "code",
   "execution_count": 13,
   "metadata": {},
   "outputs": [
    {
     "data": {
      "text/plain": [
       "array([[1.9e+01, 6.0e-03, 2.4e-02, 2.1e-02, 6.0e-01, 3.2e+01, 1.8e+01],\n",
       "       [1.8e+01, 6.0e-03, 2.3e-02, 2.2e-02, 5.0e-01, 3.8e+01, 2.0e+01],\n",
       "       [1.7e+01, 7.0e-03, 2.4e-02, 2.2e-02, 6.0e-01, 3.9e+01, 2.2e+01],\n",
       "       [1.6e+01, 7.0e-03, 1.9e-02, 2.6e-02, 5.0e-01, 4.1e+01, 2.0e+01],\n",
       "       [1.5e+01, 8.0e-03, 1.8e-02, 2.6e-02, 5.0e-01, 3.8e+01, 2.0e+01]])"
      ]
     },
     "execution_count": 13,
     "metadata": {},
     "output_type": "execute_result"
    }
   ],
   "source": [
    "# DATA_NP2D (String) 은 원본으로 남겨두고, Float 숫자로 변환하여 AIR_DATA_NP로 변경 \n",
    "# AIR_DATA_NP = np.asfarray(DATA_NP2D, dtype=np.float)  # 문자열 --> float 로 변경해 줌(1)\n",
    "AIR_DATA_NP = DATA_NP2D.astype(np.float64)            # 문자열 --> float 로 변경해 줌(2)\n",
    "\n",
    "AIR_DATA_NP[:5,]"
   ]
  },
  {
   "cell_type": "code",
   "execution_count": 14,
   "metadata": {},
   "outputs": [
    {
     "data": {
      "text/html": [
       "<div>\n",
       "<style scoped>\n",
       "    .dataframe tbody tr th:only-of-type {\n",
       "        vertical-align: middle;\n",
       "    }\n",
       "\n",
       "    .dataframe tbody tr th {\n",
       "        vertical-align: top;\n",
       "    }\n",
       "\n",
       "    .dataframe thead th {\n",
       "        text-align: right;\n",
       "    }\n",
       "</style>\n",
       "<table border=\"1\" class=\"dataframe\">\n",
       "  <thead>\n",
       "    <tr style=\"text-align: right;\">\n",
       "      <th></th>\n",
       "      <th>Time</th>\n",
       "      <th>SO2</th>\n",
       "      <th>NO2</th>\n",
       "      <th>O3</th>\n",
       "      <th>CO</th>\n",
       "      <th>PM10</th>\n",
       "      <th>PM2.5</th>\n",
       "    </tr>\n",
       "  </thead>\n",
       "  <tbody>\n",
       "    <tr>\n",
       "      <th>0</th>\n",
       "      <td>19.0</td>\n",
       "      <td>0.006</td>\n",
       "      <td>0.024</td>\n",
       "      <td>0.021</td>\n",
       "      <td>0.6</td>\n",
       "      <td>32.0</td>\n",
       "      <td>18.0</td>\n",
       "    </tr>\n",
       "    <tr>\n",
       "      <th>1</th>\n",
       "      <td>18.0</td>\n",
       "      <td>0.006</td>\n",
       "      <td>0.023</td>\n",
       "      <td>0.022</td>\n",
       "      <td>0.5</td>\n",
       "      <td>38.0</td>\n",
       "      <td>20.0</td>\n",
       "    </tr>\n",
       "    <tr>\n",
       "      <th>2</th>\n",
       "      <td>17.0</td>\n",
       "      <td>0.007</td>\n",
       "      <td>0.024</td>\n",
       "      <td>0.022</td>\n",
       "      <td>0.6</td>\n",
       "      <td>39.0</td>\n",
       "      <td>22.0</td>\n",
       "    </tr>\n",
       "    <tr>\n",
       "      <th>3</th>\n",
       "      <td>16.0</td>\n",
       "      <td>0.007</td>\n",
       "      <td>0.019</td>\n",
       "      <td>0.026</td>\n",
       "      <td>0.5</td>\n",
       "      <td>41.0</td>\n",
       "      <td>20.0</td>\n",
       "    </tr>\n",
       "    <tr>\n",
       "      <th>4</th>\n",
       "      <td>15.0</td>\n",
       "      <td>0.008</td>\n",
       "      <td>0.018</td>\n",
       "      <td>0.026</td>\n",
       "      <td>0.5</td>\n",
       "      <td>38.0</td>\n",
       "      <td>20.0</td>\n",
       "    </tr>\n",
       "  </tbody>\n",
       "</table>\n",
       "</div>"
      ],
      "text/plain": [
       "   Time    SO2    NO2     O3   CO  PM10  PM2.5\n",
       "0  19.0  0.006  0.024  0.021  0.6  32.0   18.0\n",
       "1  18.0  0.006  0.023  0.022  0.5  38.0   20.0\n",
       "2  17.0  0.007  0.024  0.022  0.6  39.0   22.0\n",
       "3  16.0  0.007  0.019  0.026  0.5  41.0   20.0\n",
       "4  15.0  0.008  0.018  0.026  0.5  38.0   20.0"
      ]
     },
     "execution_count": 14,
     "metadata": {},
     "output_type": "execute_result"
    }
   ],
   "source": [
    "# Pandas DataFrame 오브젝트로 변경한다.\n",
    "# df.index = df.Time      # 인덱스를 타임으로 변경함  .... 인덱스는 UID 중복 불가함(에러)\n",
    "\n",
    "# df = df.drop('column_name', 1)\n",
    "# where 1 is the axis number (0 for rows and 1 for columns.)\n",
    "# df = df.drop('Time', 1) # 1=axis (column) / 0=rows  .... 1컬럼을 삭제하는 방법\n",
    "\n",
    "df = pd.DataFrame(AIR_DATA_NP, columns=COLUMNS)\n",
    "df.head(n=5)"
   ]
  },
  {
   "cell_type": "code",
   "execution_count": 35,
   "metadata": {},
   "outputs": [
    {
     "data": {
      "text/plain": [
       "array(['19', '18', '17', '16', '15', '14', '13', '12', '11', '10', '09',\n",
       "       '08', '07', '06', '05', '04', '03', '02', '01', '24', '23', '22',\n",
       "       '21', '20', '19', '18', '17', '16', '15', '14', '13', '12', '11',\n",
       "       '10', '09', '08', '07', '06', '05', '04', '03', '02', '01'],\n",
       "      dtype='<U5')"
      ]
     },
     "execution_count": 35,
     "metadata": {},
     "output_type": "execute_result"
    }
   ],
   "source": [
    "df.Time.astype(dtype=np.str).head()\n",
    "TIME_COL"
   ]
  },
  {
   "cell_type": "code",
   "execution_count": null,
   "metadata": {},
   "outputs": [],
   "source": []
  },
  {
   "cell_type": "code",
   "execution_count": 15,
   "metadata": {},
   "outputs": [],
   "source": [
    "# 그래프 함수의 정의\n",
    "\n",
    "def df_plot(df_column):\n",
    "    plt.plot(df_column)\n",
    "    \"\"\" 그래프에 텍스트를 입히는 옵션 \"\"\"\n",
    "    plt.title(\"HISTOGRAM - DISTRIBUTION\")        # 타이틀\n",
    "    plt.xlabel('x label')           # x 라벨\n",
    "    plt.ylabel('y label')           # y 라벨\n",
    "    plt.legend()\n",
    "    plt.xticks(df.index.values, df.Time)\n",
    "    \n",
    "def df_hist(df_column):\n",
    "    plt.hist(df_column)\n",
    "    \"\"\" 그래프에 텍스트를 입히는 옵션 \"\"\"\n",
    "    plt.title(\"HISTOGRAM - DISTRIBUTION\")        # 타이틀\n",
    "    plt.xlabel('x label')           # x 라벨\n",
    "    plt.ylabel('y label')           # y 라벨\n",
    "    \n",
    "    \n",
    "def df_scatter(df_col1, df_col2):\n",
    "    plt.scatter(df_col1, df_col2,alpha=0.2)\n",
    "    \"\"\" 그래프에 텍스트를 입히는 옵션 \"\"\"\n",
    "    plt.title(\"HISTOGRAM - DISTRIBUTION\")        # 타이틀\n",
    "    plt.xlabel('x label')           # x 라벨\n",
    "    plt.ylabel('y label')           # y 라벨    \n",
    "\n",
    "def df_flip_x():\n",
    "    plt.gca().invert_xaxis()\n",
    "\n",
    "def df_flip_y():\n",
    "    plt.gca().invert_yaxis()\n",
    "    \n",
    "def df_flip_all():\n",
    "    plt.gca().invert_yaxis()\n",
    "    plt.gca().invert_xaxis()\n",
    "    \n",
    "def plot_2charts(data_series, xlabel):  \n",
    "    \"\"\"\n",
    "    # 히스토그램 + 박스플롯을 4x4화면 윗쪽 2개로 플롯해줍니다.\n",
    "    \"\"\"\n",
    "    plt.figure()\n",
    "    plt.subplot(221)\n",
    "    plt.hist(data_series)\n",
    "    plt.xlabel(xlabel)\n",
    "    \n",
    "    plt.subplot(222)\n",
    "    sns.boxplot(data_series)\n",
    "    plt.show()    "
   ]
  },
  {
   "cell_type": "markdown",
   "metadata": {},
   "source": [
    "## 전체 센서값 동향 플로팅\n",
    " ['Time', 'SO2', 'NO2', 'O3', 'CO', 'PM10', 'PM2.5']"
   ]
  },
  {
   "cell_type": "code",
   "execution_count": 16,
   "metadata": {},
   "outputs": [
    {
     "data": {
      "text/html": [
       "<div>\n",
       "<style scoped>\n",
       "    .dataframe tbody tr th:only-of-type {\n",
       "        vertical-align: middle;\n",
       "    }\n",
       "\n",
       "    .dataframe tbody tr th {\n",
       "        vertical-align: top;\n",
       "    }\n",
       "\n",
       "    .dataframe thead th {\n",
       "        text-align: right;\n",
       "    }\n",
       "</style>\n",
       "<table border=\"1\" class=\"dataframe\">\n",
       "  <thead>\n",
       "    <tr style=\"text-align: right;\">\n",
       "      <th></th>\n",
       "      <th>Time</th>\n",
       "      <th>SO2</th>\n",
       "      <th>NO2</th>\n",
       "      <th>O3</th>\n",
       "      <th>CO</th>\n",
       "      <th>PM10</th>\n",
       "      <th>PM2.5</th>\n",
       "      <th>CO_mod</th>\n",
       "    </tr>\n",
       "  </thead>\n",
       "  <tbody>\n",
       "    <tr>\n",
       "      <th>0</th>\n",
       "      <td>19.0</td>\n",
       "      <td>0.006</td>\n",
       "      <td>0.024</td>\n",
       "      <td>0.021</td>\n",
       "      <td>0.6</td>\n",
       "      <td>32.0</td>\n",
       "      <td>18.0</td>\n",
       "      <td>0.6</td>\n",
       "    </tr>\n",
       "    <tr>\n",
       "      <th>1</th>\n",
       "      <td>18.0</td>\n",
       "      <td>0.006</td>\n",
       "      <td>0.023</td>\n",
       "      <td>0.022</td>\n",
       "      <td>0.5</td>\n",
       "      <td>38.0</td>\n",
       "      <td>20.0</td>\n",
       "      <td>0.5</td>\n",
       "    </tr>\n",
       "    <tr>\n",
       "      <th>2</th>\n",
       "      <td>17.0</td>\n",
       "      <td>0.007</td>\n",
       "      <td>0.024</td>\n",
       "      <td>0.022</td>\n",
       "      <td>0.6</td>\n",
       "      <td>39.0</td>\n",
       "      <td>22.0</td>\n",
       "      <td>0.6</td>\n",
       "    </tr>\n",
       "    <tr>\n",
       "      <th>3</th>\n",
       "      <td>16.0</td>\n",
       "      <td>0.007</td>\n",
       "      <td>0.019</td>\n",
       "      <td>0.026</td>\n",
       "      <td>0.5</td>\n",
       "      <td>41.0</td>\n",
       "      <td>20.0</td>\n",
       "      <td>0.5</td>\n",
       "    </tr>\n",
       "    <tr>\n",
       "      <th>4</th>\n",
       "      <td>15.0</td>\n",
       "      <td>0.008</td>\n",
       "      <td>0.018</td>\n",
       "      <td>0.026</td>\n",
       "      <td>0.5</td>\n",
       "      <td>38.0</td>\n",
       "      <td>20.0</td>\n",
       "      <td>0.5</td>\n",
       "    </tr>\n",
       "  </tbody>\n",
       "</table>\n",
       "</div>"
      ],
      "text/plain": [
       "   Time    SO2    NO2     O3   CO  PM10  PM2.5  CO_mod\n",
       "0  19.0  0.006  0.024  0.021  0.6  32.0   18.0     0.6\n",
       "1  18.0  0.006  0.023  0.022  0.5  38.0   20.0     0.5\n",
       "2  17.0  0.007  0.024  0.022  0.6  39.0   22.0     0.6\n",
       "3  16.0  0.007  0.019  0.026  0.5  41.0   20.0     0.5\n",
       "4  15.0  0.008  0.018  0.026  0.5  38.0   20.0     0.5"
      ]
     },
     "execution_count": 16,
     "metadata": {},
     "output_type": "execute_result"
    }
   ],
   "source": [
    "# [df_plot(df[col]) for col in ['SO2', 'NO2', 'O3', 'CO']]\n",
    "# plt.show()\n",
    "type(df.CO)         # pandas.core.series.Series\n",
    "\n",
    "\n",
    "# df 에 'NEW'칼럼 추가하기 (df.CO값을 복사해서 칸을 늘림)\n",
    "df['CO_mod'] = pd.Series(df.CO.copy(), index=df.index)\n",
    "df.head()"
   ]
  },
  {
   "cell_type": "code",
   "execution_count": 17,
   "metadata": {},
   "outputs": [
    {
     "data": {
      "image/png": "[encoded data removed]",
      "text/plain": [
       "<Figure size 432x288 with 2 Axes>"
      ]
     },
     "metadata": {},
     "output_type": "display_data"
    },
    {
     "data": {
      "image/png": "[encoded data removed]",
      "text/plain": [
       "<Figure size 432x288 with 2 Axes>"
      ]
     },
     "metadata": {},
     "output_type": "display_data"
    },
    {
     "data": {
      "image/png": "[encoded data removed]",
      "text/plain": [
       "<Figure size 432x288 with 2 Axes>"
      ]
     },
     "metadata": {},
     "output_type": "display_data"
    },
    {
     "data": {
      "image/png": "[encoded data removed]",
      "text/plain": [
       "<Figure size 432x288 with 2 Axes>"
      ]
     },
     "metadata": {},
     "output_type": "display_data"
    },
    {
     "data": {
      "image/png": "[encoded data removed]",
      "text/plain": [
       "<Figure size 432x288 with 2 Axes>"
      ]
     },
     "metadata": {},
     "output_type": "display_data"
    },
    {
     "data": {
      "image/png": "[encoded data removed]",
      "text/plain": [
       "<Figure size 432x288 with 2 Axes>"
      ]
     },
     "metadata": {},
     "output_type": "display_data"
    },
    {
     "data": {
      "image/png": "[encoded data removed]",
      "text/plain": [
       "<Figure size 432x288 with 2 Axes>"
      ]
     },
     "metadata": {},
     "output_type": "display_data"
    }
   ],
   "source": [
    "for item in COLUMNS:\n",
    "    plot_2charts(data_series=df[item], xlabel=item)"
   ]
  },
  {
   "cell_type": "code",
   "execution_count": 18,
   "metadata": {},
   "outputs": [
    {
     "data": {
      "text/html": [
       "<div>\n",
       "<style scoped>\n",
       "    .dataframe tbody tr th:only-of-type {\n",
       "        vertical-align: middle;\n",
       "    }\n",
       "\n",
       "    .dataframe tbody tr th {\n",
       "        vertical-align: top;\n",
       "    }\n",
       "\n",
       "    .dataframe thead th {\n",
       "        text-align: right;\n",
       "    }\n",
       "</style>\n",
       "<table border=\"1\" class=\"dataframe\">\n",
       "  <thead>\n",
       "    <tr style=\"text-align: right;\">\n",
       "      <th></th>\n",
       "      <th>Time</th>\n",
       "      <th>SO2</th>\n",
       "      <th>NO2</th>\n",
       "      <th>O3</th>\n",
       "      <th>CO</th>\n",
       "      <th>PM10</th>\n",
       "      <th>PM2.5</th>\n",
       "      <th>CO_mod</th>\n",
       "    </tr>\n",
       "  </thead>\n",
       "  <tbody>\n",
       "    <tr>\n",
       "      <th>0</th>\n",
       "      <td>19.0</td>\n",
       "      <td>0.006</td>\n",
       "      <td>0.024</td>\n",
       "      <td>0.021</td>\n",
       "      <td>0.6</td>\n",
       "      <td>32.0</td>\n",
       "      <td>18.0</td>\n",
       "      <td>0.066667</td>\n",
       "    </tr>\n",
       "    <tr>\n",
       "      <th>1</th>\n",
       "      <td>18.0</td>\n",
       "      <td>0.006</td>\n",
       "      <td>0.023</td>\n",
       "      <td>0.022</td>\n",
       "      <td>0.5</td>\n",
       "      <td>38.0</td>\n",
       "      <td>20.0</td>\n",
       "      <td>0.055556</td>\n",
       "    </tr>\n",
       "    <tr>\n",
       "      <th>2</th>\n",
       "      <td>17.0</td>\n",
       "      <td>0.007</td>\n",
       "      <td>0.024</td>\n",
       "      <td>0.022</td>\n",
       "      <td>0.6</td>\n",
       "      <td>39.0</td>\n",
       "      <td>22.0</td>\n",
       "      <td>0.066667</td>\n",
       "    </tr>\n",
       "    <tr>\n",
       "      <th>3</th>\n",
       "      <td>16.0</td>\n",
       "      <td>0.007</td>\n",
       "      <td>0.019</td>\n",
       "      <td>0.026</td>\n",
       "      <td>0.5</td>\n",
       "      <td>41.0</td>\n",
       "      <td>20.0</td>\n",
       "      <td>0.055556</td>\n",
       "    </tr>\n",
       "    <tr>\n",
       "      <th>4</th>\n",
       "      <td>15.0</td>\n",
       "      <td>0.008</td>\n",
       "      <td>0.018</td>\n",
       "      <td>0.026</td>\n",
       "      <td>0.5</td>\n",
       "      <td>38.0</td>\n",
       "      <td>20.0</td>\n",
       "      <td>0.055556</td>\n",
       "    </tr>\n",
       "  </tbody>\n",
       "</table>\n",
       "</div>"
      ],
      "text/plain": [
       "   Time    SO2    NO2     O3   CO  PM10  PM2.5    CO_mod\n",
       "0  19.0  0.006  0.024  0.021  0.6  32.0   18.0  0.066667\n",
       "1  18.0  0.006  0.023  0.022  0.5  38.0   20.0  0.055556\n",
       "2  17.0  0.007  0.024  0.022  0.6  39.0   22.0  0.066667\n",
       "3  16.0  0.007  0.019  0.026  0.5  41.0   20.0  0.055556\n",
       "4  15.0  0.008  0.018  0.026  0.5  38.0   20.0  0.055556"
      ]
     },
     "execution_count": 18,
     "metadata": {},
     "output_type": "execute_result"
    }
   ],
   "source": [
    "# 'NEW' 칼럼의 값을 절반으로 변경   ... 반복실행할때 마다 값이 줄어 듬\n",
    "# df.NEW = df.NEW/2\n",
    "# df.head(5)\n",
    "\n",
    "# CO값 차이가 커서,(9로 나눠서 한 그래프에 표시)..['SO2', 'NO2', 'O3', 'CO_mod',]\n",
    "df.CO_mod = df.CO_mod/9\n",
    "df.head(5)"
   ]
  },
  {
   "cell_type": "code",
   "execution_count": 19,
   "metadata": {},
   "outputs": [
    {
     "data": {
      "image/png": "[encoded data removed]",
      "text/plain": [
       "<Figure size 432x288 with 1 Axes>"
      ]
     },
     "metadata": {},
     "output_type": "display_data"
    }
   ],
   "source": [
    "[df_plot(df[col]) for col in ['SO2', 'NO2', 'O3', 'CO_mod',]]\n",
    "df_flip_x()\n",
    "plt.show()"
   ]
  },
  {
   "cell_type": "code",
   "execution_count": 20,
   "metadata": {},
   "outputs": [
    {
     "data": {
      "image/png": "[encoded data removed]",
      "text/plain": [
       "<Figure size 432x288 with 1 Axes>"
      ]
     },
     "metadata": {},
     "output_type": "display_data"
    }
   ],
   "source": [
    "[df_plot(df[col]) for col in ['PM10', 'PM2.5']]\n",
    "df_flip_x()\n",
    "plt.show()"
   ]
  },
  {
   "cell_type": "code",
   "execution_count": 21,
   "metadata": {},
   "outputs": [
    {
     "data": {
      "text/plain": [
       "<matplotlib.legend.Legend at 0x22e37fc4320>"
      ]
     },
     "execution_count": 21,
     "metadata": {},
     "output_type": "execute_result"
    },
    {
     "data": {
      "image/png": "[encoded data removed]",
      "text/plain": [
       "<Figure size 432x288 with 1 Axes>"
      ]
     },
     "metadata": {},
     "output_type": "display_data"
    }
   ],
   "source": [
    "# 스케터는 플립이 필요없음!\n",
    "df_scatter(df.PM10, df['PM2.5'])\n",
    "plt.legend()"
   ]
  },
  {
   "cell_type": "markdown",
   "metadata": {},
   "source": [
    "## 플립하지 말아야 할 그래프"
   ]
  },
  {
   "cell_type": "code",
   "execution_count": 22,
   "metadata": {},
   "outputs": [
    {
     "data": {
      "image/png": "[encoded data removed]",
      "text/plain": [
       "<Figure size 432x288 with 1 Axes>"
      ]
     },
     "metadata": {},
     "output_type": "display_data"
    },
    {
     "data": {
      "image/png": "[encoded data removed]",
      "text/plain": [
       "<Figure size 432x288 with 1 Axes>"
      ]
     },
     "metadata": {},
     "output_type": "display_data"
    }
   ],
   "source": [
    "# 전체 플로팅 중에 관심사항만 따로 플로팅 해서 관찰하기\n",
    "# [df_plot(df[col]) for col in ['SO2', 'NO2', 'O3', 'CO', 'PM10', 'PM2.5']]\n",
    "# plt.show()\n",
    "\n",
    "[df_plot(df[col]) for col in ['SO2', 'NO2']]\n",
    "df_flip_x()           # x 좌표는 플립해야 함. / y좌표는 유지!\n",
    "plt.show()\n",
    "\n",
    "# 스캐터는 플립할 필요가 없음\n",
    "df_scatter(df.SO2, df.NO2)\n",
    "plt.show()"
   ]
  },
  {
   "cell_type": "code",
   "execution_count": 23,
   "metadata": {},
   "outputs": [
    {
     "data": {
      "image/png": "[encoded data removed]",
      "text/plain": [
       "<Figure size 432x288 with 1 Axes>"
      ]
     },
     "metadata": {},
     "output_type": "display_data"
    },
    {
     "data": {
      "image/png": "[encoded data removed]",
      "text/plain": [
       "<Figure size 432x288 with 1 Axes>"
      ]
     },
     "metadata": {},
     "output_type": "display_data"
    }
   ],
   "source": [
    "# 전체 플로팅 중에 관심사항만 따로 플로팅 해서 관찰하기\n",
    "# [df_plot(df[col]) for col in ['SO2', 'NO2', 'O3', 'CO', 'PM10', 'PM2.5']]\n",
    "# plt.show()\n",
    "\n",
    "[df_plot(df[col]) for col in ['O3', 'CO_mod',]]\n",
    "df_flip_x()           # x 좌표는 플립해야 함. / y좌표는 유지!\n",
    "plt.show()\n",
    "\n",
    "# 스캐터는 플립필요없음!\n",
    "df_scatter(df.O3, df.CO)\n",
    "plt.show()"
   ]
  },
  {
   "cell_type": "code",
   "execution_count": 27,
   "metadata": {},
   "outputs": [
    {
     "data": {
      "text/plain": [
       "[None, None, None, None, None, None]"
      ]
     },
     "execution_count": 27,
     "metadata": {},
     "output_type": "execute_result"
    },
    {
     "data": {
      "image/png": "[encoded data removed]",
      "text/plain": [
       "<Figure size 432x288 with 1 Axes>"
      ]
     },
     "metadata": {},
     "output_type": "display_data"
    }
   ],
   "source": [
    "[df_hist(df[col]) for col in ['SO2', 'NO2', 'O3', 'CO', 'PM10', 'PM2.5']]"
   ]
  },
  {
   "attachments": {
    "%EC%9D%B4%EB%AF%B8%EC%A7%80%202.png": {
     "image/png": "[encoded data removed]"
    }
   },
   "cell_type": "markdown",
   "metadata": {},
   "source": [
    "> ![%EC%9D%B4%EB%AF%B8%EC%A7%80%202.png](attachment:%EC%9D%B4%EB%AF%B8%EC%A7%80%202.png)"
   ]
  },
  {
   "cell_type": "code",
   "execution_count": 25,
   "metadata": {},
   "outputs": [],
   "source": [
    "# Data Frame 을 엑셀로 저장한다. (CSV화일)\n",
    "df.to_csv('air_incheon.csv', sep=',', encoding='utf-8')"
   ]
  }
 ],
 "metadata": {
  "kernelspec": {
   "display_name": "Python 3",
   "language": "python",
   "name": "python3"
  },
  "language_info": {
   "codemirror_mode": {
    "name": "ipython",
    "version": 3
   },
   "file_extension": ".py",
   "mimetype": "text/x-python",
   "name": "python",
   "nbconvert_exporter": "python",
   "pygments_lexer": "ipython3",
   "version": "3.6.5"
  }
 },
 "nbformat": 4,
 "nbformat_minor": 2
}
