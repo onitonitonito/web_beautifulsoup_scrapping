{
 "cells": [
  {
   "cell_type": "markdown",
   "metadata": {},
   "source": [
    "## 청라, 송도지역 미세먼지 측정값 스크래핑\n",
    "> 1. 송도 = http://air.incheon.go.kr/airinch/real3.html?area_other_index=999992\n",
    "> 1. 청라 = http://air.incheon.go.kr/airinch/real3.html?area_other_index=999991\n",
    "\n",
    "* Todo: 계측 센서 갯수가 다르므로 필터링 방식이 달라져야 한다\n",
    "* 송도 = 6개 / 청라 = 4개"
   ]
  },
  {
   "cell_type": "code",
   "execution_count": 1,
   "metadata": {},
   "outputs": [],
   "source": [
    "\"\"\"\n",
    "* 청라, 송도지역 미세먼지 측정값 스크래핑\n",
    "\"\"\"\n",
    "\n",
    "import numpy as np\n",
    "import pandas as pd\n",
    "import matplotlib.pyplot as plt\n",
    "import seaborn as sns\n",
    "import openpyxl as opx"
   ]
  },
  {
   "cell_type": "code",
   "execution_count": 2,
   "metadata": {},
   "outputs": [],
   "source": [
    "# 한글 깨짐현상 해결하기 - 구글검색: 파이썬 그래프 한글 깨짐\n",
    "# matplotlib에서 한글 표현하기 (블로그) = https://pinkwink.kr/956\n",
    "\n",
    "from matplotlib import font_manager, rc\n",
    "font_name = font_manager.FontProperties(fname=\"c:/Windows/Fonts/malgun.ttf\").get_name()\n",
    "rc('font', family=font_name)"
   ]
  },
  {
   "cell_type": "code",
   "execution_count": 3,
   "metadata": {},
   "outputs": [],
   "source": [
    "IN_XLSX = \"../_static/2018_1Q_air_all.xlsx\"\n",
    "OUT_XLSX = \"../_static/2018_1Q_air_songdo.xlsx\""
   ]
  },
  {
   "cell_type": "code",
   "execution_count": 4,
   "metadata": {},
   "outputs": [],
   "source": [
    "air_all = pd.read_excel(IN_XLSX, sheet_name=0)"
   ]
  },
  {
   "cell_type": "code",
   "execution_count": 8,
   "metadata": {},
   "outputs": [],
   "source": [
    "air_all.columns=[\n",
    "    'Location', \n",
    "    'Uid', \n",
    "    'name', \n",
    "    'Time', \n",
    "    'SO2', \n",
    "    'CO', \n",
    "    'O3', \n",
    "    'NO2', \n",
    "    'PM10', \n",
    "    'PM25', \n",
    "    'Address',\n",
    "]"
   ]
  },
  {
   "cell_type": "code",
   "execution_count": 9,
   "metadata": {},
   "outputs": [
    {
     "data": {
      "text/html": [
       "<div>\n",
       "<style scoped>\n",
       "    .dataframe tbody tr th:only-of-type {\n",
       "        vertical-align: middle;\n",
       "    }\n",
       "\n",
       "    .dataframe tbody tr th {\n",
       "        vertical-align: top;\n",
       "    }\n",
       "\n",
       "    .dataframe thead th {\n",
       "        text-align: right;\n",
       "    }\n",
       "</style>\n",
       "<table border=\"1\" class=\"dataframe\">\n",
       "  <thead>\n",
       "    <tr style=\"text-align: right;\">\n",
       "      <th></th>\n",
       "      <th>Location</th>\n",
       "      <th>Uid</th>\n",
       "      <th>name</th>\n",
       "      <th>Time</th>\n",
       "      <th>SO2</th>\n",
       "      <th>CO</th>\n",
       "      <th>O3</th>\n",
       "      <th>NO2</th>\n",
       "      <th>PM10</th>\n",
       "      <th>PM25</th>\n",
       "      <th>Address</th>\n",
       "    </tr>\n",
       "  </thead>\n",
       "  <tbody>\n",
       "    <tr>\n",
       "      <th>0</th>\n",
       "      <td>서울 중구</td>\n",
       "      <td>111121</td>\n",
       "      <td>중구</td>\n",
       "      <td>2018010101</td>\n",
       "      <td>0.004</td>\n",
       "      <td>0.5</td>\n",
       "      <td>0.020</td>\n",
       "      <td>0.020</td>\n",
       "      <td>34.0</td>\n",
       "      <td>19.0</td>\n",
       "      <td>서울 중구 덕수궁길 15</td>\n",
       "    </tr>\n",
       "    <tr>\n",
       "      <th>1</th>\n",
       "      <td>서울 중구</td>\n",
       "      <td>111121</td>\n",
       "      <td>중구</td>\n",
       "      <td>2018010102</td>\n",
       "      <td>0.004</td>\n",
       "      <td>0.4</td>\n",
       "      <td>0.024</td>\n",
       "      <td>0.016</td>\n",
       "      <td>27.0</td>\n",
       "      <td>14.0</td>\n",
       "      <td>서울 중구 덕수궁길 15</td>\n",
       "    </tr>\n",
       "    <tr>\n",
       "      <th>2</th>\n",
       "      <td>서울 중구</td>\n",
       "      <td>111121</td>\n",
       "      <td>중구</td>\n",
       "      <td>2018010103</td>\n",
       "      <td>0.004</td>\n",
       "      <td>0.4</td>\n",
       "      <td>0.018</td>\n",
       "      <td>0.022</td>\n",
       "      <td>26.0</td>\n",
       "      <td>14.0</td>\n",
       "      <td>서울 중구 덕수궁길 15</td>\n",
       "    </tr>\n",
       "    <tr>\n",
       "      <th>3</th>\n",
       "      <td>서울 중구</td>\n",
       "      <td>111121</td>\n",
       "      <td>중구</td>\n",
       "      <td>2018010104</td>\n",
       "      <td>0.004</td>\n",
       "      <td>0.5</td>\n",
       "      <td>0.010</td>\n",
       "      <td>0.030</td>\n",
       "      <td>26.0</td>\n",
       "      <td>15.0</td>\n",
       "      <td>서울 중구 덕수궁길 15</td>\n",
       "    </tr>\n",
       "    <tr>\n",
       "      <th>4</th>\n",
       "      <td>서울 중구</td>\n",
       "      <td>111121</td>\n",
       "      <td>중구</td>\n",
       "      <td>2018010105</td>\n",
       "      <td>0.004</td>\n",
       "      <td>0.6</td>\n",
       "      <td>0.011</td>\n",
       "      <td>0.029</td>\n",
       "      <td>28.0</td>\n",
       "      <td>16.0</td>\n",
       "      <td>서울 중구 덕수궁길 15</td>\n",
       "    </tr>\n",
       "  </tbody>\n",
       "</table>\n",
       "</div>"
      ],
      "text/plain": [
       "  Location     Uid name        Time    SO2   CO     O3    NO2  PM10  PM25  \\\n",
       "0    서울 중구  111121   중구  2018010101  0.004  0.5  0.020  0.020  34.0  19.0   \n",
       "1    서울 중구  111121   중구  2018010102  0.004  0.4  0.024  0.016  27.0  14.0   \n",
       "2    서울 중구  111121   중구  2018010103  0.004  0.4  0.018  0.022  26.0  14.0   \n",
       "3    서울 중구  111121   중구  2018010104  0.004  0.5  0.010  0.030  26.0  15.0   \n",
       "4    서울 중구  111121   중구  2018010105  0.004  0.6  0.011  0.029  28.0  16.0   \n",
       "\n",
       "         Address  \n",
       "0  서울 중구 덕수궁길 15  \n",
       "1  서울 중구 덕수궁길 15  \n",
       "2  서울 중구 덕수궁길 15  \n",
       "3  서울 중구 덕수궁길 15  \n",
       "4  서울 중구 덕수궁길 15  "
      ]
     },
     "execution_count": 9,
     "metadata": {},
     "output_type": "execute_result"
    }
   ],
   "source": [
    "air_all.head()"
   ]
  },
  {
   "cell_type": "code",
   "execution_count": null,
   "metadata": {},
   "outputs": [],
   "source": []
  },
  {
   "cell_type": "code",
   "execution_count": null,
   "metadata": {},
   "outputs": [],
   "source": []
  },
  {
   "cell_type": "code",
   "execution_count": null,
   "metadata": {},
   "outputs": [],
   "source": []
  },
  {
   "cell_type": "code",
   "execution_count": null,
   "metadata": {},
   "outputs": [],
   "source": []
  },
  {
   "cell_type": "code",
   "execution_count": null,
   "metadata": {},
   "outputs": [],
   "source": []
  },
  {
   "cell_type": "code",
   "execution_count": null,
   "metadata": {},
   "outputs": [],
   "source": []
  },
  {
   "cell_type": "code",
   "execution_count": null,
   "metadata": {},
   "outputs": [],
   "source": []
  }
 ],
 "metadata": {
  "kernelspec": {
   "display_name": "Python 3",
   "language": "python",
   "name": "python3"
  },
  "language_info": {
   "codemirror_mode": {
    "name": "ipython",
    "version": 3
   },
   "file_extension": ".py",
   "mimetype": "text/x-python",
   "name": "python",
   "nbconvert_exporter": "python",
   "pygments_lexer": "ipython3",
   "version": "3.6.5"
  }
 },
 "nbformat": 4,
 "nbformat_minor": 2
}
