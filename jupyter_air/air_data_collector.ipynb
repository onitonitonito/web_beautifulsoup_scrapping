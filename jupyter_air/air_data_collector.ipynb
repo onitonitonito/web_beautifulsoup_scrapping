{
 "cells": [
  {
   "cell_type": "markdown",
   "metadata": {},
   "source": [
    "## Air.csv collector in one file\n",
    "- \n",
    "- "
   ]
  },
  {
   "cell_type": "code",
   "execution_count": 1,
   "metadata": {},
   "outputs": [],
   "source": [
    "import os\n",
    "import glob\n",
    "import pandas as pd\n",
    "import matplotlib.pyplot as plt"
   ]
  },
  {
   "cell_type": "code",
   "execution_count": 2,
   "metadata": {},
   "outputs": [],
   "source": [
    "data_path = os.path.join(os.getcwd(),'static', 'data')\n",
    "all_files = glob.glob(os.path.join(data_path, \"*.csv\"))     # advisable to use os.path.join as this makes concatenation OS independent\n",
    "\n",
    "_list = []\n",
    "for _file in all_files:\n",
    "    _df = pd.read_csv(_file, index_col='TIMES', header=0)\n",
    "    _list.append(_df)"
   ]
  },
  {
   "cell_type": "code",
   "execution_count": 3,
   "metadata": {},
   "outputs": [
    {
     "name": "stdout",
     "output_type": "stream",
     "text": [
      "<class 'pandas.core.frame.DataFrame'>\n",
      "Index: 177 entries, 2019.01/06(Sun)-01:00 to 2019.01/07(Mon)-15:00\n",
      "Data columns (total 7 columns):\n",
      "Time     177 non-null object\n",
      "SO2      177 non-null float64\n",
      "NO2      177 non-null float64\n",
      "O3       177 non-null float64\n",
      "CO       177 non-null float64\n",
      "PM10     177 non-null int64\n",
      "PM2.5    177 non-null int64\n",
      "dtypes: float64(4), int64(2), object(1)\n",
      "memory usage: 11.1+ KB\n"
     ]
    }
   ],
   "source": [
    "df = pd.concat(_list, axis=0, ignore_index=False)\n",
    "df.info()\n"
   ]
  },
  {
   "cell_type": "code",
   "execution_count": 4,
   "metadata": {},
   "outputs": [
    {
     "name": "stdout",
     "output_type": "stream",
     "text": [
      "(177, 7)\n"
     ]
    },
    {
     "data": {
      "text/html": [
       "<div>\n",
       "<style scoped>\n",
       "    .dataframe tbody tr th:only-of-type {\n",
       "        vertical-align: middle;\n",
       "    }\n",
       "\n",
       "    .dataframe tbody tr th {\n",
       "        vertical-align: top;\n",
       "    }\n",
       "\n",
       "    .dataframe thead th {\n",
       "        text-align: right;\n",
       "    }\n",
       "</style>\n",
       "<table border=\"1\" class=\"dataframe\">\n",
       "  <thead>\n",
       "    <tr style=\"text-align: right;\">\n",
       "      <th></th>\n",
       "      <th>Time</th>\n",
       "      <th>SO2</th>\n",
       "      <th>NO2</th>\n",
       "      <th>O3</th>\n",
       "      <th>CO</th>\n",
       "      <th>PM10</th>\n",
       "      <th>PM2.5</th>\n",
       "    </tr>\n",
       "    <tr>\n",
       "      <th>TIMES</th>\n",
       "      <th></th>\n",
       "      <th></th>\n",
       "      <th></th>\n",
       "      <th></th>\n",
       "      <th></th>\n",
       "      <th></th>\n",
       "      <th></th>\n",
       "    </tr>\n",
       "  </thead>\n",
       "  <tbody>\n",
       "    <tr>\n",
       "      <th>2019.01/06(Sun)-01:00</th>\n",
       "      <td>2019-01-06 01:00:00</td>\n",
       "      <td>0.007</td>\n",
       "      <td>0.024</td>\n",
       "      <td>0.016</td>\n",
       "      <td>0.7</td>\n",
       "      <td>52</td>\n",
       "      <td>19</td>\n",
       "    </tr>\n",
       "    <tr>\n",
       "      <th>2019.01/06(Sun)-02:00</th>\n",
       "      <td>2019-01-06 02:00:00</td>\n",
       "      <td>0.009</td>\n",
       "      <td>0.025</td>\n",
       "      <td>0.015</td>\n",
       "      <td>0.6</td>\n",
       "      <td>53</td>\n",
       "      <td>20</td>\n",
       "    </tr>\n",
       "    <tr>\n",
       "      <th>2019.01/06(Sun)-03:00</th>\n",
       "      <td>2019-01-06 03:00:00</td>\n",
       "      <td>0.009</td>\n",
       "      <td>0.023</td>\n",
       "      <td>0.017</td>\n",
       "      <td>0.7</td>\n",
       "      <td>56</td>\n",
       "      <td>23</td>\n",
       "    </tr>\n",
       "    <tr>\n",
       "      <th>2019.01/06(Sun)-04:00</th>\n",
       "      <td>2019-01-06 04:00:00</td>\n",
       "      <td>0.008</td>\n",
       "      <td>0.020</td>\n",
       "      <td>0.020</td>\n",
       "      <td>0.6</td>\n",
       "      <td>59</td>\n",
       "      <td>23</td>\n",
       "    </tr>\n",
       "    <tr>\n",
       "      <th>2019.01/06(Sun)-05:00</th>\n",
       "      <td>2019-01-06 05:00:00</td>\n",
       "      <td>0.008</td>\n",
       "      <td>0.023</td>\n",
       "      <td>0.017</td>\n",
       "      <td>0.6</td>\n",
       "      <td>59</td>\n",
       "      <td>26</td>\n",
       "    </tr>\n",
       "  </tbody>\n",
       "</table>\n",
       "</div>"
      ],
      "text/plain": [
       "                                      Time    SO2    NO2     O3   CO  PM10  \\\n",
       "TIMES                                                                        \n",
       "2019.01/06(Sun)-01:00  2019-01-06 01:00:00  0.007  0.024  0.016  0.7    52   \n",
       "2019.01/06(Sun)-02:00  2019-01-06 02:00:00  0.009  0.025  0.015  0.6    53   \n",
       "2019.01/06(Sun)-03:00  2019-01-06 03:00:00  0.009  0.023  0.017  0.7    56   \n",
       "2019.01/06(Sun)-04:00  2019-01-06 04:00:00  0.008  0.020  0.020  0.6    59   \n",
       "2019.01/06(Sun)-05:00  2019-01-06 05:00:00  0.008  0.023  0.017  0.6    59   \n",
       "\n",
       "                       PM2.5  \n",
       "TIMES                         \n",
       "2019.01/06(Sun)-01:00     19  \n",
       "2019.01/06(Sun)-02:00     20  \n",
       "2019.01/06(Sun)-03:00     23  \n",
       "2019.01/06(Sun)-04:00     23  \n",
       "2019.01/06(Sun)-05:00     26  "
      ]
     },
     "execution_count": 4,
     "metadata": {},
     "output_type": "execute_result"
    }
   ],
   "source": [
    "print(df.shape)\n",
    "df.head()"
   ]
  },
  {
   "cell_type": "markdown",
   "metadata": {},
   "source": [
    "## 단계별 변환을 한번에 바꿈\n",
    "- dfd = **df.drop_duplicates**(subset='TIMES', keep='first') # ... (128, 11)\n",
    " > 1. dfs = **dfd.set_index**('TIMES')    \n",
    " >    파생변수: TIMES ... 오름/내림차순 정리가 쉽다 (언제든 다시 만들수 있다.) ... O\n",
    " > 1. dfs = **dfd.sort_values**(by=['TIMES'], ascending=1, axis=0)    \n",
    " >    **PLOT** 을 할때 인덱스를 따라가기 때문에, 인덱스 정렬이 필요하다 .... NG\n",
    "- dfn = **dfs.filter**(items=['TIMES', 'Time', 'SO2', 'NO2', 'O3', 'CO', 'PM10', 'PM2.5'])"
   ]
  },
  {
   "cell_type": "code",
   "execution_count": 5,
   "metadata": {},
   "outputs": [],
   "source": [
    "# dfd = df.drop_duplicates(subset='TIMES', keep='first')\n",
    "# dfd.shape                      # (128, 11)\n",
    "# dfs = dfd.sort_values(by=['TIMES'], ascending=1, axis=0)\n",
    "# dfn = dfs.filter(items=['TIMES', 'Time', 'SO2', 'NO2', 'O3', 'CO', 'PM10', 'PM2.5'])\n",
    "\n",
    "\n",
    "dfn = df.drop_duplicates(\n",
    "            # subset='TIMES',      # TIMES 가 인덱스로 걸려서, 활용불가!\n",
    "            subset='Time', \n",
    "            keep='first',\n",
    "        )\\\n",
    "    .sort_values(\n",
    "            by=['TIMES'], \n",
    "            ascending=1, \n",
    "            axis=0,\n",
    "        )\n",
    "\n",
    "\n",
    "#     .filter(\n",
    "#         items=[\n",
    "#             'TIMES', \n",
    "#             'Time', \n",
    "#             'SO2', \n",
    "#             'NO2', \n",
    "#             'O3', \n",
    "#             'CO', \n",
    "#             'PM10', \n",
    "#             'PM2.5'],\n",
    "#         )\\\n",
    "\n",
    "#     .set_index('TIMES')\n",
    "\n",
    "# dfn.info()"
   ]
  },
  {
   "cell_type": "code",
   "execution_count": 6,
   "metadata": {},
   "outputs": [
    {
     "data": {
      "text/html": [
       "<div>\n",
       "<style scoped>\n",
       "    .dataframe tbody tr th:only-of-type {\n",
       "        vertical-align: middle;\n",
       "    }\n",
       "\n",
       "    .dataframe tbody tr th {\n",
       "        vertical-align: top;\n",
       "    }\n",
       "\n",
       "    .dataframe thead th {\n",
       "        text-align: right;\n",
       "    }\n",
       "</style>\n",
       "<table border=\"1\" class=\"dataframe\">\n",
       "  <thead>\n",
       "    <tr style=\"text-align: right;\">\n",
       "      <th></th>\n",
       "      <th>Time</th>\n",
       "      <th>SO2</th>\n",
       "      <th>NO2</th>\n",
       "      <th>O3</th>\n",
       "      <th>CO</th>\n",
       "      <th>PM10</th>\n",
       "      <th>PM2.5</th>\n",
       "    </tr>\n",
       "    <tr>\n",
       "      <th>TIMES</th>\n",
       "      <th></th>\n",
       "      <th></th>\n",
       "      <th></th>\n",
       "      <th></th>\n",
       "      <th></th>\n",
       "      <th></th>\n",
       "      <th></th>\n",
       "    </tr>\n",
       "  </thead>\n",
       "  <tbody>\n",
       "    <tr>\n",
       "      <th>2019.01/02(Wed)-01:00</th>\n",
       "      <td>2019-01-02 1:00</td>\n",
       "      <td>0.006</td>\n",
       "      <td>0.017</td>\n",
       "      <td>0.025</td>\n",
       "      <td>0.5</td>\n",
       "      <td>30</td>\n",
       "      <td>18</td>\n",
       "    </tr>\n",
       "    <tr>\n",
       "      <th>2019.01/02(Wed)-02:00</th>\n",
       "      <td>2019-01-02 2:00</td>\n",
       "      <td>0.006</td>\n",
       "      <td>0.018</td>\n",
       "      <td>0.025</td>\n",
       "      <td>0.5</td>\n",
       "      <td>30</td>\n",
       "      <td>18</td>\n",
       "    </tr>\n",
       "    <tr>\n",
       "      <th>2019.01/02(Wed)-03:00</th>\n",
       "      <td>2019-01-02 3:00</td>\n",
       "      <td>0.006</td>\n",
       "      <td>0.028</td>\n",
       "      <td>0.015</td>\n",
       "      <td>0.6</td>\n",
       "      <td>35</td>\n",
       "      <td>22</td>\n",
       "    </tr>\n",
       "    <tr>\n",
       "      <th>2019.01/02(Wed)-04:00</th>\n",
       "      <td>2019-01-02 4:00</td>\n",
       "      <td>0.005</td>\n",
       "      <td>0.039</td>\n",
       "      <td>0.005</td>\n",
       "      <td>0.7</td>\n",
       "      <td>40</td>\n",
       "      <td>26</td>\n",
       "    </tr>\n",
       "    <tr>\n",
       "      <th>2019.01/02(Wed)-05:00</th>\n",
       "      <td>2019-01-02 5:00</td>\n",
       "      <td>0.005</td>\n",
       "      <td>0.039</td>\n",
       "      <td>0.005</td>\n",
       "      <td>0.7</td>\n",
       "      <td>43</td>\n",
       "      <td>28</td>\n",
       "    </tr>\n",
       "  </tbody>\n",
       "</table>\n",
       "</div>"
      ],
      "text/plain": [
       "                                  Time    SO2    NO2     O3   CO  PM10  PM2.5\n",
       "TIMES                                                                        \n",
       "2019.01/02(Wed)-01:00  2019-01-02 1:00  0.006  0.017  0.025  0.5    30     18\n",
       "2019.01/02(Wed)-02:00  2019-01-02 2:00  0.006  0.018  0.025  0.5    30     18\n",
       "2019.01/02(Wed)-03:00  2019-01-02 3:00  0.006  0.028  0.015  0.6    35     22\n",
       "2019.01/02(Wed)-04:00  2019-01-02 4:00  0.005  0.039  0.005  0.7    40     26\n",
       "2019.01/02(Wed)-05:00  2019-01-02 5:00  0.005  0.039  0.005  0.7    43     28"
      ]
     },
     "execution_count": 6,
     "metadata": {},
     "output_type": "execute_result"
    }
   ],
   "source": [
    "dfn.head()"
   ]
  },
  {
   "cell_type": "code",
   "execution_count": 7,
   "metadata": {},
   "outputs": [
    {
     "data": {
      "text/html": [
       "<div>\n",
       "<style scoped>\n",
       "    .dataframe tbody tr th:only-of-type {\n",
       "        vertical-align: middle;\n",
       "    }\n",
       "\n",
       "    .dataframe tbody tr th {\n",
       "        vertical-align: top;\n",
       "    }\n",
       "\n",
       "    .dataframe thead th {\n",
       "        text-align: right;\n",
       "    }\n",
       "</style>\n",
       "<table border=\"1\" class=\"dataframe\">\n",
       "  <thead>\n",
       "    <tr style=\"text-align: right;\">\n",
       "      <th></th>\n",
       "      <th>Time</th>\n",
       "      <th>SO2</th>\n",
       "      <th>NO2</th>\n",
       "      <th>O3</th>\n",
       "      <th>CO</th>\n",
       "      <th>PM10</th>\n",
       "      <th>PM2.5</th>\n",
       "    </tr>\n",
       "    <tr>\n",
       "      <th>TIMES</th>\n",
       "      <th></th>\n",
       "      <th></th>\n",
       "      <th></th>\n",
       "      <th></th>\n",
       "      <th></th>\n",
       "      <th></th>\n",
       "      <th></th>\n",
       "    </tr>\n",
       "  </thead>\n",
       "  <tbody>\n",
       "    <tr>\n",
       "      <th>2019.01/07(Mon)-14:00</th>\n",
       "      <td>2019-01-07 14:00:00</td>\n",
       "      <td>0.009</td>\n",
       "      <td>0.028</td>\n",
       "      <td>0.023</td>\n",
       "      <td>0.9</td>\n",
       "      <td>59</td>\n",
       "      <td>39</td>\n",
       "    </tr>\n",
       "    <tr>\n",
       "      <th>2019.01/07(Mon)-15:00</th>\n",
       "      <td>2019-01-07 15:00:00</td>\n",
       "      <td>0.010</td>\n",
       "      <td>0.029</td>\n",
       "      <td>0.024</td>\n",
       "      <td>0.8</td>\n",
       "      <td>55</td>\n",
       "      <td>33</td>\n",
       "    </tr>\n",
       "    <tr>\n",
       "      <th>2019.01/07(Mon)-16:00</th>\n",
       "      <td>2019-01-07 16:00:00</td>\n",
       "      <td>0.009</td>\n",
       "      <td>0.021</td>\n",
       "      <td>0.033</td>\n",
       "      <td>0.9</td>\n",
       "      <td>56</td>\n",
       "      <td>35</td>\n",
       "    </tr>\n",
       "    <tr>\n",
       "      <th>2019.01/07(Mon)-17:00</th>\n",
       "      <td>2019-01-07 17:00:00</td>\n",
       "      <td>0.008</td>\n",
       "      <td>0.022</td>\n",
       "      <td>0.033</td>\n",
       "      <td>0.9</td>\n",
       "      <td>54</td>\n",
       "      <td>35</td>\n",
       "    </tr>\n",
       "    <tr>\n",
       "      <th>2019.01/07(Mon)-18:00</th>\n",
       "      <td>2019-01-07 18:00:00</td>\n",
       "      <td>0.008</td>\n",
       "      <td>0.024</td>\n",
       "      <td>0.030</td>\n",
       "      <td>0.9</td>\n",
       "      <td>57</td>\n",
       "      <td>35</td>\n",
       "    </tr>\n",
       "  </tbody>\n",
       "</table>\n",
       "</div>"
      ],
      "text/plain": [
       "                                      Time    SO2    NO2     O3   CO  PM10  \\\n",
       "TIMES                                                                        \n",
       "2019.01/07(Mon)-14:00  2019-01-07 14:00:00  0.009  0.028  0.023  0.9    59   \n",
       "2019.01/07(Mon)-15:00  2019-01-07 15:00:00  0.010  0.029  0.024  0.8    55   \n",
       "2019.01/07(Mon)-16:00  2019-01-07 16:00:00  0.009  0.021  0.033  0.9    56   \n",
       "2019.01/07(Mon)-17:00  2019-01-07 17:00:00  0.008  0.022  0.033  0.9    54   \n",
       "2019.01/07(Mon)-18:00  2019-01-07 18:00:00  0.008  0.024  0.030  0.9    57   \n",
       "\n",
       "                       PM2.5  \n",
       "TIMES                         \n",
       "2019.01/07(Mon)-14:00     39  \n",
       "2019.01/07(Mon)-15:00     33  \n",
       "2019.01/07(Mon)-16:00     35  \n",
       "2019.01/07(Mon)-17:00     35  \n",
       "2019.01/07(Mon)-18:00     35  "
      ]
     },
     "execution_count": 7,
     "metadata": {},
     "output_type": "execute_result"
    }
   ],
   "source": [
    "dfn.tail()"
   ]
  },
  {
   "cell_type": "code",
   "execution_count": 8,
   "metadata": {},
   "outputs": [
    {
     "data": {
      "text/plain": [
       "'C:\\\\Users\\\\nitt0\\\\Documents\\\\Github\\\\web_beautifulsoup_scrapping\\\\jupyter_air'"
      ]
     },
     "execution_count": 8,
     "metadata": {},
     "output_type": "execute_result"
    }
   ],
   "source": [
    "os.getcwd()"
   ]
  },
  {
   "cell_type": "code",
   "execution_count": 9,
   "metadata": {},
   "outputs": [
    {
     "data": {
      "image/png": "[encoded data removed]",
      "text/plain": [
       "<Figure size 432x288 with 1 Axes>"
      ]
     },
     "metadata": {},
     "output_type": "display_data"
    }
   ],
   "source": [
    "plt.plot(dfn['PM10'])\n",
    "plt.plot(dfn['PM2.5'])\n",
    "\n",
    "# img_name = 'foo_bar_foo.png'\n",
    "# plt.savefig('./static/img/test/' + img_name)\n",
    "\n",
    "plt.show()"
   ]
  },
  {
   "cell_type": "code",
   "execution_count": 10,
   "metadata": {},
   "outputs": [
    {
     "name": "stdout",
     "output_type": "stream",
     "text": [
      "The Last ... 2019.01/07(Mon)-18:00 \n",
      "\n",
      "마지막 기록 = 2019년 01월 07일 (Mon) 18:00\n",
      "20190107_Mon_1800\n"
     ]
    }
   ],
   "source": [
    "NOW_DATE = dfn.index[-1]    # '2019.01/06(Sun)-16:00'\n",
    "print(f\"The Last ... {NOW_DATE} \\n\")\n",
    "\n",
    "\n",
    "YEAR = NOW_DATE[:4]\n",
    "MONTH= NOW_DATE[5:7]\n",
    "DAY  = NOW_DATE[8:10]\n",
    "WEEK = NOW_DATE[11:14]\n",
    "HOUR = NOW_DATE[-5:-3]\n",
    "SAVE_LOG = f\"{YEAR}{MONTH}{DAY}_{WEEK}_{HOUR}00\"\n",
    "\n",
    "print(f\"마지막 기록 = {YEAR}년 {MONTH}월 {DAY}일 ({WEEK}) {HOUR}:00\")\n",
    "print(SAVE_LOG)"
   ]
  },
  {
   "cell_type": "code",
   "execution_count": 11,
   "metadata": {},
   "outputs": [
    {
     "data": {
      "text/plain": [
       "'C:\\\\Users\\\\nitt0\\\\Documents\\\\Github\\\\web_beautifulsoup_scrapping\\\\jupyter_air\\\\static\\\\data'"
      ]
     },
     "execution_count": 11,
     "metadata": {},
     "output_type": "execute_result"
    }
   ],
   "source": [
    "os.path.join(data_path)"
   ]
  },
  {
   "cell_type": "code",
   "execution_count": 12,
   "metadata": {},
   "outputs": [],
   "source": [
    "# Data Frame 을 엑셀로 저장한다. (CSV화일)\n",
    "file_name = f\"_air_{SAVE_LOG}.csv\"\n",
    "dfn.to_csv(os.path.join(data_path, file_name), sep=',', encoding='utf-8')"
   ]
  }
 ],
 "metadata": {
  "kernelspec": {
   "display_name": "Python 3",
   "language": "python",
   "name": "python3"
  },
  "language_info": {
   "codemirror_mode": {
    "name": "ipython",
    "version": 3
   },
   "file_extension": ".py",
   "mimetype": "text/x-python",
   "name": "python",
   "nbconvert_exporter": "python",
   "pygments_lexer": "ipython3",
   "version": "3.6.5"
  }
 },
 "nbformat": 4,
 "nbformat_minor": 2
}
