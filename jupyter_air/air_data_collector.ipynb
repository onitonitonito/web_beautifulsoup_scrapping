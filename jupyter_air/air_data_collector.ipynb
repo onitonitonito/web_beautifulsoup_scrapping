{
 "cells": [
  {
   "cell_type": "markdown",
   "metadata": {},
   "source": [
    "## Air.csv collector in one file\n",
    "1.  static - data 폴더에 2개 이상 화일을 넣는다\n",
    "1. 자동으로 모든 화일을 합병하고 중복 데이터를 제거한다.\n",
    "1. 필요 충족조건\n",
    "  - 한 개 이상의 CSV 화일이 있어야 함.\n",
    "  - 종자 화일 (이제까지 모아진 Root)을 하나 넣어야 함.    \n",
    "     (앞에 오는 화일(종자화일)은 데이터에 결함이 없는게 좋다:결측지 보정완료)\n",
    "  - 여러개의 화일을 자동으로 Merge 한 후에, 최종화일 1개를 추가 생성한다.\n",
    "  - 최종화일 1개의 정보(그래프)를 보여주니.. 올바른 데이터가 생성됬는지 확인필요!.\n",
    "1. SAVE로그는 화일정보 기반이 아니라 Datetime.now()임.(그러니 바로 하는게 좋다!)  "
   ]
  },
  {
   "cell_type": "code",
   "execution_count": 1,
   "metadata": {},
   "outputs": [],
   "source": [
    "import os\n",
    "import glob\n",
    "import datetime\n",
    "import numpy as np\n",
    "import pandas as pd\n",
    "import matplotlib.pyplot as plt"
   ]
  },
  {
   "cell_type": "code",
   "execution_count": 2,
   "metadata": {},
   "outputs": [
    {
     "name": "stdout",
     "output_type": "stream",
     "text": [
      "\n",
      "# dir_work,\n",
      "# dir_data,\n",
      "# dir_data_collect,\n",
      "# dir_data_realtime,\n",
      "# dir_data_trash,\n",
      "# dir_img,\n",
      "# dir_img_heatmap,\n",
      "# dir_img_nulschool,\n",
      "# dir_img_plot_plot,\n",
      "# dir_img_plot_scatter,\n",
      "# dir_img_result,\n",
      "# dir_img_test,\n",
      "\n",
      "\n",
      "# df_plot\n",
      "\n",
      "\n",
      "# get_savelog()\n",
      "\n"
     ]
    }
   ],
   "source": [
    "from asset.config import *\n",
    "from asset.simple_plot import df_plot\n",
    "from asset.get_savelog import get_savelog"
   ]
  },
  {
   "cell_type": "code",
   "execution_count": 3,
   "metadata": {},
   "outputs": [],
   "source": [
    "(SAVE_LOG, SAVE_LOG1) = get_savelog()"
   ]
  },
  {
   "cell_type": "code",
   "execution_count": 4,
   "metadata": {},
   "outputs": [
    {
     "name": "stdout",
     "output_type": "stream",
     "text": [
      "<class 'pandas.core.frame.DataFrame'>\n",
      "Index: 668 entries, 2019.01/12(Sat)-01:00 to 2019.01/13(Sun)-08:00\n",
      "Data columns (total 7 columns):\n",
      "Time     668 non-null object\n",
      "SO2      668 non-null float64\n",
      "NO2      668 non-null float64\n",
      "O3       668 non-null float64\n",
      "CO       668 non-null float64\n",
      "PM10     668 non-null int64\n",
      "PM2.5    668 non-null float64\n",
      "dtypes: float64(5), int64(1), object(1)\n",
      "memory usage: 41.8+ KB\n"
     ]
    }
   ],
   "source": [
    "ALL_FILES = glob.glob(dir_data_realtime + \"/*.csv\")     # advisable to use os.path.join as this makes concatenation OS independent\n",
    "\n",
    "_list = []\n",
    "for _file in ALL_FILES:\n",
    "    _df = pd.read_csv(_file, index_col='TIMES', header=0)\n",
    "    _list.append(_df)\n",
    "\n",
    "df = pd.concat(_list, axis=0, ignore_index=False)\n",
    "df.info()    "
   ]
  },
  {
   "cell_type": "code",
   "execution_count": 5,
   "metadata": {},
   "outputs": [
    {
     "name": "stdout",
     "output_type": "stream",
     "text": [
      "(668, 7)\n"
     ]
    },
    {
     "data": {
      "text/html": [
       "<div>\n",
       "<style scoped>\n",
       "    .dataframe tbody tr th:only-of-type {\n",
       "        vertical-align: middle;\n",
       "    }\n",
       "\n",
       "    .dataframe tbody tr th {\n",
       "        vertical-align: top;\n",
       "    }\n",
       "\n",
       "    .dataframe thead th {\n",
       "        text-align: right;\n",
       "    }\n",
       "</style>\n",
       "<table border=\"1\" class=\"dataframe\">\n",
       "  <thead>\n",
       "    <tr style=\"text-align: right;\">\n",
       "      <th></th>\n",
       "      <th>Time</th>\n",
       "      <th>SO2</th>\n",
       "      <th>NO2</th>\n",
       "      <th>O3</th>\n",
       "      <th>CO</th>\n",
       "      <th>PM10</th>\n",
       "      <th>PM2.5</th>\n",
       "    </tr>\n",
       "    <tr>\n",
       "      <th>TIMES</th>\n",
       "      <th></th>\n",
       "      <th></th>\n",
       "      <th></th>\n",
       "      <th></th>\n",
       "      <th></th>\n",
       "      <th></th>\n",
       "      <th></th>\n",
       "    </tr>\n",
       "  </thead>\n",
       "  <tbody>\n",
       "    <tr>\n",
       "      <th>2019.01/12(Sat)-01:00</th>\n",
       "      <td>2019-01-12 01:00:00</td>\n",
       "      <td>0.010</td>\n",
       "      <td>0.063</td>\n",
       "      <td>0.002</td>\n",
       "      <td>1.2</td>\n",
       "      <td>94</td>\n",
       "      <td>69.0</td>\n",
       "    </tr>\n",
       "    <tr>\n",
       "      <th>2019.01/12(Sat)-02:00</th>\n",
       "      <td>2019-01-12 02:00:00</td>\n",
       "      <td>0.013</td>\n",
       "      <td>0.062</td>\n",
       "      <td>0.002</td>\n",
       "      <td>1.3</td>\n",
       "      <td>99</td>\n",
       "      <td>76.0</td>\n",
       "    </tr>\n",
       "    <tr>\n",
       "      <th>2019.01/12(Sat)-03:00</th>\n",
       "      <td>2019-01-12 03:00:00</td>\n",
       "      <td>0.015</td>\n",
       "      <td>0.058</td>\n",
       "      <td>0.002</td>\n",
       "      <td>1.3</td>\n",
       "      <td>106</td>\n",
       "      <td>75.0</td>\n",
       "    </tr>\n",
       "    <tr>\n",
       "      <th>2019.01/12(Sat)-04:00</th>\n",
       "      <td>2019-01-12 04:00:00</td>\n",
       "      <td>0.014</td>\n",
       "      <td>0.057</td>\n",
       "      <td>0.002</td>\n",
       "      <td>1.3</td>\n",
       "      <td>106</td>\n",
       "      <td>74.0</td>\n",
       "    </tr>\n",
       "    <tr>\n",
       "      <th>2019.01/12(Sat)-05:00</th>\n",
       "      <td>2019-01-12 05:00:00</td>\n",
       "      <td>0.015</td>\n",
       "      <td>0.053</td>\n",
       "      <td>0.002</td>\n",
       "      <td>1.3</td>\n",
       "      <td>111</td>\n",
       "      <td>78.0</td>\n",
       "    </tr>\n",
       "  </tbody>\n",
       "</table>\n",
       "</div>"
      ],
      "text/plain": [
       "                                      Time    SO2    NO2     O3   CO  PM10  \\\n",
       "TIMES                                                                        \n",
       "2019.01/12(Sat)-01:00  2019-01-12 01:00:00  0.010  0.063  0.002  1.2    94   \n",
       "2019.01/12(Sat)-02:00  2019-01-12 02:00:00  0.013  0.062  0.002  1.3    99   \n",
       "2019.01/12(Sat)-03:00  2019-01-12 03:00:00  0.015  0.058  0.002  1.3   106   \n",
       "2019.01/12(Sat)-04:00  2019-01-12 04:00:00  0.014  0.057  0.002  1.3   106   \n",
       "2019.01/12(Sat)-05:00  2019-01-12 05:00:00  0.015  0.053  0.002  1.3   111   \n",
       "\n",
       "                       PM2.5  \n",
       "TIMES                         \n",
       "2019.01/12(Sat)-01:00   69.0  \n",
       "2019.01/12(Sat)-02:00   76.0  \n",
       "2019.01/12(Sat)-03:00   75.0  \n",
       "2019.01/12(Sat)-04:00   74.0  \n",
       "2019.01/12(Sat)-05:00   78.0  "
      ]
     },
     "execution_count": 5,
     "metadata": {},
     "output_type": "execute_result"
    }
   ],
   "source": [
    "print(df.shape)\n",
    "df.head()"
   ]
  },
  {
   "cell_type": "markdown",
   "metadata": {},
   "source": [
    "## 단계별 변환을 한번에 바꿈\n",
    "- dfd = **df.drop_duplicates**(subset='TIMES', keep='first') # ... (128, 11)\n",
    " > 1. dfs = **dfd.set_index**('TIMES')    \n",
    " >    파생변수: TIMES ... 오름/내림차순 정리가 쉽다 (언제든 다시 만들수 있다.) ... O\n",
    " > 1. dfs = **dfd.sort_values**(by=['TIMES'], ascending=1, axis=0)    \n",
    " >    **PLOT** 을 할때 인덱스를 따라가기 때문에, 인덱스 정렬이 필요하다 .... NG\n",
    "- dfn = **dfs.filter**(items=['TIMES', 'Time', 'SO2', 'NO2', 'O3', 'CO', 'PM10', 'PM2.5'])"
   ]
  },
  {
   "cell_type": "code",
   "execution_count": 6,
   "metadata": {},
   "outputs": [],
   "source": [
    "dfn = df.drop_duplicates(\n",
    "            # subset='TIMES',      # TIMES 가 인덱스로 걸려서, 활용불가!\n",
    "            subset='Time', \n",
    "            keep='first',\n",
    "        )\\\n",
    "    .sort_values(\n",
    "            by=['TIMES'], \n",
    "            ascending=1, \n",
    "            axis=0,\n",
    "        )"
   ]
  },
  {
   "cell_type": "code",
   "execution_count": 7,
   "metadata": {},
   "outputs": [
    {
     "data": {
      "text/html": [
       "<div>\n",
       "<style scoped>\n",
       "    .dataframe tbody tr th:only-of-type {\n",
       "        vertical-align: middle;\n",
       "    }\n",
       "\n",
       "    .dataframe tbody tr th {\n",
       "        vertical-align: top;\n",
       "    }\n",
       "\n",
       "    .dataframe thead th {\n",
       "        text-align: right;\n",
       "    }\n",
       "</style>\n",
       "<table border=\"1\" class=\"dataframe\">\n",
       "  <thead>\n",
       "    <tr style=\"text-align: right;\">\n",
       "      <th></th>\n",
       "      <th>Time</th>\n",
       "      <th>SO2</th>\n",
       "      <th>NO2</th>\n",
       "      <th>O3</th>\n",
       "      <th>CO</th>\n",
       "      <th>PM10</th>\n",
       "      <th>PM2.5</th>\n",
       "    </tr>\n",
       "    <tr>\n",
       "      <th>TIMES</th>\n",
       "      <th></th>\n",
       "      <th></th>\n",
       "      <th></th>\n",
       "      <th></th>\n",
       "      <th></th>\n",
       "      <th></th>\n",
       "      <th></th>\n",
       "    </tr>\n",
       "  </thead>\n",
       "  <tbody>\n",
       "    <tr>\n",
       "      <th>2019.01/02(Wed)-01:00</th>\n",
       "      <td>2019-01-02 1:00</td>\n",
       "      <td>0.006</td>\n",
       "      <td>0.017</td>\n",
       "      <td>0.025</td>\n",
       "      <td>0.5</td>\n",
       "      <td>30</td>\n",
       "      <td>18.0</td>\n",
       "    </tr>\n",
       "    <tr>\n",
       "      <th>2019.01/02(Wed)-02:00</th>\n",
       "      <td>2019-01-02 2:00</td>\n",
       "      <td>0.006</td>\n",
       "      <td>0.018</td>\n",
       "      <td>0.025</td>\n",
       "      <td>0.5</td>\n",
       "      <td>30</td>\n",
       "      <td>18.0</td>\n",
       "    </tr>\n",
       "    <tr>\n",
       "      <th>2019.01/02(Wed)-03:00</th>\n",
       "      <td>2019-01-02 3:00</td>\n",
       "      <td>0.006</td>\n",
       "      <td>0.028</td>\n",
       "      <td>0.015</td>\n",
       "      <td>0.6</td>\n",
       "      <td>35</td>\n",
       "      <td>22.0</td>\n",
       "    </tr>\n",
       "  </tbody>\n",
       "</table>\n",
       "</div>"
      ],
      "text/plain": [
       "                                  Time    SO2    NO2     O3   CO  PM10  PM2.5\n",
       "TIMES                                                                        \n",
       "2019.01/02(Wed)-01:00  2019-01-02 1:00  0.006  0.017  0.025  0.5    30   18.0\n",
       "2019.01/02(Wed)-02:00  2019-01-02 2:00  0.006  0.018  0.025  0.5    30   18.0\n",
       "2019.01/02(Wed)-03:00  2019-01-02 3:00  0.006  0.028  0.015  0.6    35   22.0"
      ]
     },
     "execution_count": 7,
     "metadata": {},
     "output_type": "execute_result"
    }
   ],
   "source": [
    "dfn.head(3)"
   ]
  },
  {
   "cell_type": "code",
   "execution_count": 8,
   "metadata": {},
   "outputs": [
    {
     "data": {
      "text/html": [
       "<div>\n",
       "<style scoped>\n",
       "    .dataframe tbody tr th:only-of-type {\n",
       "        vertical-align: middle;\n",
       "    }\n",
       "\n",
       "    .dataframe tbody tr th {\n",
       "        vertical-align: top;\n",
       "    }\n",
       "\n",
       "    .dataframe thead th {\n",
       "        text-align: right;\n",
       "    }\n",
       "</style>\n",
       "<table border=\"1\" class=\"dataframe\">\n",
       "  <thead>\n",
       "    <tr style=\"text-align: right;\">\n",
       "      <th></th>\n",
       "      <th>Time</th>\n",
       "      <th>SO2</th>\n",
       "      <th>NO2</th>\n",
       "      <th>O3</th>\n",
       "      <th>CO</th>\n",
       "      <th>PM10</th>\n",
       "      <th>PM2.5</th>\n",
       "    </tr>\n",
       "    <tr>\n",
       "      <th>TIMES</th>\n",
       "      <th></th>\n",
       "      <th></th>\n",
       "      <th></th>\n",
       "      <th></th>\n",
       "      <th></th>\n",
       "      <th></th>\n",
       "      <th></th>\n",
       "    </tr>\n",
       "  </thead>\n",
       "  <tbody>\n",
       "    <tr>\n",
       "      <th>2019.01/15(Tue)-18:00</th>\n",
       "      <td>2019-01-15 18:00:00</td>\n",
       "      <td>0.004</td>\n",
       "      <td>0.012</td>\n",
       "      <td>0.031</td>\n",
       "      <td>0.7</td>\n",
       "      <td>69</td>\n",
       "      <td>9.0</td>\n",
       "    </tr>\n",
       "    <tr>\n",
       "      <th>2019.01/15(Tue)-19:00</th>\n",
       "      <td>2019-01-15 19:00:00</td>\n",
       "      <td>0.004</td>\n",
       "      <td>0.011</td>\n",
       "      <td>0.031</td>\n",
       "      <td>0.6</td>\n",
       "      <td>62</td>\n",
       "      <td>9.0</td>\n",
       "    </tr>\n",
       "    <tr>\n",
       "      <th>2019.01/15(Tue)-20:00</th>\n",
       "      <td>2019-01-15 20:00:00</td>\n",
       "      <td>0.004</td>\n",
       "      <td>0.011</td>\n",
       "      <td>0.030</td>\n",
       "      <td>0.7</td>\n",
       "      <td>61</td>\n",
       "      <td>10.0</td>\n",
       "    </tr>\n",
       "  </tbody>\n",
       "</table>\n",
       "</div>"
      ],
      "text/plain": [
       "                                      Time    SO2    NO2     O3   CO  PM10  \\\n",
       "TIMES                                                                        \n",
       "2019.01/15(Tue)-18:00  2019-01-15 18:00:00  0.004  0.012  0.031  0.7    69   \n",
       "2019.01/15(Tue)-19:00  2019-01-15 19:00:00  0.004  0.011  0.031  0.6    62   \n",
       "2019.01/15(Tue)-20:00  2019-01-15 20:00:00  0.004  0.011  0.030  0.7    61   \n",
       "\n",
       "                       PM2.5  \n",
       "TIMES                         \n",
       "2019.01/15(Tue)-18:00    9.0  \n",
       "2019.01/15(Tue)-19:00    9.0  \n",
       "2019.01/15(Tue)-20:00   10.0  "
      ]
     },
     "execution_count": 8,
     "metadata": {},
     "output_type": "execute_result"
    }
   ],
   "source": [
    "dfn.tail(3)"
   ]
  },
  {
   "cell_type": "code",
   "execution_count": 9,
   "metadata": {},
   "outputs": [],
   "source": [
    "# 12 / 24시간 인텍스 x라벨을 만든다.\n",
    "X_INDEX = [_date if _idx is 0 or _idx%24 is 0 else '-' for _idx, _date in enumerate(dfn.index.tolist())]\n"
   ]
  },
  {
   "cell_type": "code",
   "execution_count": 10,
   "metadata": {},
   "outputs": [
    {
     "data": {
      "image/png": "[encoded data removed]",
      "text/plain": [
       "<Figure size 720x360 with 1 Axes>"
      ]
     },
     "metadata": {},
     "output_type": "display_data"
    }
   ],
   "source": [
    "# 전체 플로트\n",
    "df_plot(\n",
    "    df_series_list=[\n",
    "        dfn['PM10'], \n",
    "        dfn['PM2.5'],\n",
    "    ],\n",
    "    figsize=(10,5),\n",
    "    xy_start=(0,0),\n",
    "    xy_max=(\n",
    "        dfn.index.size,\n",
    "        np.max(dfn.PM10),\n",
    "    ),\n",
    "    xy_major=(24,20),\n",
    "    xy_minor=(12,5),\n",
    ")\n",
    "\n",
    "plt.xticks(X_INDEX, rotation=90)\n",
    "\n",
    "plt.tight_layout()\n",
    "plt.savefig(dir_img_result + f'/total_overall_{SAVE_LOG1}.png')\n",
    "\n",
    "plt.show()\n"
   ]
  },
  {
   "cell_type": "code",
   "execution_count": 11,
   "metadata": {},
   "outputs": [
    {
     "name": "stdout",
     "output_type": "stream",
     "text": [
      "마지막 기록 = 20190115_Tue_2000.... 20190115_2000_Tue\n"
     ]
    }
   ],
   "source": [
    "print(f\"마지막 기록 = {SAVE_LOG}.... {SAVE_LOG1}\")"
   ]
  },
  {
   "cell_type": "code",
   "execution_count": 12,
   "metadata": {},
   "outputs": [],
   "source": [
    "# Data Frame 을 엑셀로 저장한다. (CSV화일)\n",
    "dfn.to_csv(dir_data_collect +  f\"/_air_{SAVE_LOG}.csv\", sep=',', encoding='utf-8')"
   ]
  }
 ],
 "metadata": {
  "kernelspec": {
   "display_name": "Python 3",
   "language": "python",
   "name": "python3"
  },
  "language_info": {
   "codemirror_mode": {
    "name": "ipython",
    "version": 3
   },
   "file_extension": ".py",
   "mimetype": "text/x-python",
   "name": "python",
   "nbconvert_exporter": "python",
   "pygments_lexer": "ipython3",
   "version": "3.6.5"
  }
 },
 "nbformat": 4,
 "nbformat_minor": 2
}
