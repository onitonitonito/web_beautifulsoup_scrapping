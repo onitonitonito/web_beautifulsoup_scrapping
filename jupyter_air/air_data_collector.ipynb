{
 "cells": [
  {
   "cell_type": "markdown",
   "metadata": {},
   "source": [
    "## Air.csv collector in one file\n",
    "- \n",
    "- "
   ]
  },
  {
   "cell_type": "code",
   "execution_count": 1,
   "metadata": {},
   "outputs": [],
   "source": [
    "import os\n",
    "import glob\n",
    "import datetime\n",
    "import pandas as pd\n",
    "import matplotlib.pyplot as plt"
   ]
  },
  {
   "cell_type": "code",
   "execution_count": 2,
   "metadata": {},
   "outputs": [],
   "source": [
    "dir_work = os.getcwd()\n",
    "\n",
    "# data 자동저장 폴더\n",
    "dir_data = os.path.join(dir_work, *['static', 'data',])\n",
    "dir_data_collect = os.path.join(dir_work, *['static', 'data', 'collect',])\n",
    "dir_data_trash   = os.path.join(dir_work, *['static', 'data', 'trash',])\n",
    "\n",
    "# 이미지 결과 자동저장 폴더\n",
    "dir_img = os.path.join(dir_work, *['static', 'img',])\n",
    "dir_img_heatmap = os.path.join(dir_work, *['static', 'img', 'heatmap',])\n",
    "dir_img_nulschool = os.path.join(dir_work, *['static', 'img', 'nulschool',])\n",
    "dir_img_plot_plot = os.path.join(dir_work, *['static', 'img', 'plot_plot',])\n",
    "dir_img_plot_scatter = os.path.join(dir_work, *['static', 'img', 'plot_scatter',])\n",
    "dir_img_test = os.path.join(dir_work, *['static', 'img', 'test',])"
   ]
  },
  {
   "cell_type": "code",
   "execution_count": 3,
   "metadata": {},
   "outputs": [],
   "source": [
    "# NOW_DATE\n",
    "# datetime.datetime.now() # ... datetime.datetime(2019, 1, 7, 18, 21, 13, 734730)\n",
    "\n",
    "NOW_DATE = datetime.datetime.strftime(\n",
    "                    datetime.datetime.now(),\n",
    "                    '%Y%m%d_%a_%H00',\n",
    "                    )                       # '20190107_Mon_1800'\n",
    "\n",
    "YEAR = NOW_DATE[:4]\n",
    "MONTH= NOW_DATE[4:6]\n",
    "DAY  = NOW_DATE[6:8]\n",
    "WEEK = NOW_DATE[9:12]\n",
    "HOUR = NOW_DATE[-4:-2]\n",
    "\n",
    "SAVE_LOG  = f\"{YEAR}{MONTH}{DAY}_{WEEK}_{HOUR}00\"     #'20190107_Mon_1800'\n",
    "SAVE_LOG1 = f\"{YEAR}{MONTH}{DAY}_{HOUR}00_{WEEK}\"     #'20190107_1800_Mon'"
   ]
  },
  {
   "cell_type": "code",
   "execution_count": 4,
   "metadata": {},
   "outputs": [],
   "source": [
    "data_path = os.path.join(os.getcwd(),'static', 'data')\n",
    "all_files = glob.glob(os.path.join(data_path, \"*.csv\"))     # advisable to use os.path.join as this makes concatenation OS independent\n",
    "\n",
    "_list = []\n",
    "for _file in all_files:\n",
    "    _df = pd.read_csv(_file, index_col='TIMES', header=0)\n",
    "    _list.append(_df)"
   ]
  },
  {
   "cell_type": "code",
   "execution_count": 5,
   "metadata": {},
   "outputs": [
    {
     "name": "stdout",
     "output_type": "stream",
     "text": [
      "<class 'pandas.core.frame.DataFrame'>\n",
      "Index: 208 entries, 2019.01/08(Tue)-01:00 to 2019.01/08(Tue)-17:00\n",
      "Data columns (total 7 columns):\n",
      "Time     208 non-null object\n",
      "SO2      208 non-null float64\n",
      "NO2      208 non-null float64\n",
      "O3       208 non-null float64\n",
      "CO       208 non-null float64\n",
      "PM10     208 non-null int64\n",
      "PM2.5    208 non-null float64\n",
      "dtypes: float64(5), int64(1), object(1)\n",
      "memory usage: 13.0+ KB\n"
     ]
    }
   ],
   "source": [
    "df = pd.concat(_list, axis=0, ignore_index=False)\n",
    "df.info()\n"
   ]
  },
  {
   "cell_type": "code",
   "execution_count": 6,
   "metadata": {},
   "outputs": [
    {
     "name": "stdout",
     "output_type": "stream",
     "text": [
      "(208, 7)\n"
     ]
    },
    {
     "data": {
      "text/html": [
       "<div>\n",
       "<style scoped>\n",
       "    .dataframe tbody tr th:only-of-type {\n",
       "        vertical-align: middle;\n",
       "    }\n",
       "\n",
       "    .dataframe tbody tr th {\n",
       "        vertical-align: top;\n",
       "    }\n",
       "\n",
       "    .dataframe thead th {\n",
       "        text-align: right;\n",
       "    }\n",
       "</style>\n",
       "<table border=\"1\" class=\"dataframe\">\n",
       "  <thead>\n",
       "    <tr style=\"text-align: right;\">\n",
       "      <th></th>\n",
       "      <th>Time</th>\n",
       "      <th>SO2</th>\n",
       "      <th>NO2</th>\n",
       "      <th>O3</th>\n",
       "      <th>CO</th>\n",
       "      <th>PM10</th>\n",
       "      <th>PM2.5</th>\n",
       "    </tr>\n",
       "    <tr>\n",
       "      <th>TIMES</th>\n",
       "      <th></th>\n",
       "      <th></th>\n",
       "      <th></th>\n",
       "      <th></th>\n",
       "      <th></th>\n",
       "      <th></th>\n",
       "      <th></th>\n",
       "    </tr>\n",
       "  </thead>\n",
       "  <tbody>\n",
       "    <tr>\n",
       "      <th>2019.01/08(Tue)-01:00</th>\n",
       "      <td>2019-01-08 01:00:00</td>\n",
       "      <td>0.007</td>\n",
       "      <td>0.015</td>\n",
       "      <td>0.029</td>\n",
       "      <td>0.8</td>\n",
       "      <td>54</td>\n",
       "      <td>34.0</td>\n",
       "    </tr>\n",
       "    <tr>\n",
       "      <th>2019.01/08(Tue)-02:00</th>\n",
       "      <td>2019-01-08 02:00:00</td>\n",
       "      <td>0.006</td>\n",
       "      <td>0.012</td>\n",
       "      <td>0.037</td>\n",
       "      <td>0.7</td>\n",
       "      <td>36</td>\n",
       "      <td>22.0</td>\n",
       "    </tr>\n",
       "    <tr>\n",
       "      <th>2019.01/08(Tue)-03:00</th>\n",
       "      <td>2019-01-08 03:00:00</td>\n",
       "      <td>0.007</td>\n",
       "      <td>0.011</td>\n",
       "      <td>0.031</td>\n",
       "      <td>0.7</td>\n",
       "      <td>32</td>\n",
       "      <td>19.0</td>\n",
       "    </tr>\n",
       "    <tr>\n",
       "      <th>2019.01/08(Tue)-04:00</th>\n",
       "      <td>2019-01-08 04:00:00</td>\n",
       "      <td>0.008</td>\n",
       "      <td>0.017</td>\n",
       "      <td>0.025</td>\n",
       "      <td>0.6</td>\n",
       "      <td>34</td>\n",
       "      <td>22.0</td>\n",
       "    </tr>\n",
       "    <tr>\n",
       "      <th>2019.01/08(Tue)-05:00</th>\n",
       "      <td>2019-01-08 05:00:00</td>\n",
       "      <td>0.010</td>\n",
       "      <td>0.023</td>\n",
       "      <td>0.020</td>\n",
       "      <td>0.7</td>\n",
       "      <td>37</td>\n",
       "      <td>22.0</td>\n",
       "    </tr>\n",
       "  </tbody>\n",
       "</table>\n",
       "</div>"
      ],
      "text/plain": [
       "                                      Time    SO2    NO2     O3   CO  PM10  \\\n",
       "TIMES                                                                        \n",
       "2019.01/08(Tue)-01:00  2019-01-08 01:00:00  0.007  0.015  0.029  0.8    54   \n",
       "2019.01/08(Tue)-02:00  2019-01-08 02:00:00  0.006  0.012  0.037  0.7    36   \n",
       "2019.01/08(Tue)-03:00  2019-01-08 03:00:00  0.007  0.011  0.031  0.7    32   \n",
       "2019.01/08(Tue)-04:00  2019-01-08 04:00:00  0.008  0.017  0.025  0.6    34   \n",
       "2019.01/08(Tue)-05:00  2019-01-08 05:00:00  0.010  0.023  0.020  0.7    37   \n",
       "\n",
       "                       PM2.5  \n",
       "TIMES                         \n",
       "2019.01/08(Tue)-01:00   34.0  \n",
       "2019.01/08(Tue)-02:00   22.0  \n",
       "2019.01/08(Tue)-03:00   19.0  \n",
       "2019.01/08(Tue)-04:00   22.0  \n",
       "2019.01/08(Tue)-05:00   22.0  "
      ]
     },
     "execution_count": 6,
     "metadata": {},
     "output_type": "execute_result"
    }
   ],
   "source": [
    "print(df.shape)\n",
    "df.head()"
   ]
  },
  {
   "cell_type": "markdown",
   "metadata": {},
   "source": [
    "## 단계별 변환을 한번에 바꿈\n",
    "- dfd = **df.drop_duplicates**(subset='TIMES', keep='first') # ... (128, 11)\n",
    " > 1. dfs = **dfd.set_index**('TIMES')    \n",
    " >    파생변수: TIMES ... 오름/내림차순 정리가 쉽다 (언제든 다시 만들수 있다.) ... O\n",
    " > 1. dfs = **dfd.sort_values**(by=['TIMES'], ascending=1, axis=0)    \n",
    " >    **PLOT** 을 할때 인덱스를 따라가기 때문에, 인덱스 정렬이 필요하다 .... NG\n",
    "- dfn = **dfs.filter**(items=['TIMES', 'Time', 'SO2', 'NO2', 'O3', 'CO', 'PM10', 'PM2.5'])"
   ]
  },
  {
   "cell_type": "code",
   "execution_count": 7,
   "metadata": {},
   "outputs": [],
   "source": [
    "# dfd = df.drop_duplicates(subset='TIMES', keep='first')\n",
    "# dfd.shape                      # (128, 11)\n",
    "# dfs = dfd.sort_values(by=['TIMES'], ascending=1, axis=0)\n",
    "# dfn = dfs.filter(items=['TIMES', 'Time', 'SO2', 'NO2', 'O3', 'CO', 'PM10', 'PM2.5'])\n",
    "\n",
    "\n",
    "dfn = df.drop_duplicates(\n",
    "            # subset='TIMES',      # TIMES 가 인덱스로 걸려서, 활용불가!\n",
    "            subset='Time', \n",
    "            keep='first',\n",
    "        )\\\n",
    "    .sort_values(\n",
    "            by=['TIMES'], \n",
    "            ascending=1, \n",
    "            axis=0,\n",
    "        )\n",
    "\n",
    "\n",
    "#     .filter(\n",
    "#         items=[\n",
    "#             'TIMES', \n",
    "#             'Time', \n",
    "#             'SO2', \n",
    "#             'NO2', \n",
    "#             'O3', \n",
    "#             'CO', \n",
    "#             'PM10', \n",
    "#             'PM2.5'],\n",
    "#         )\\\n",
    "\n",
    "#     .set_index('TIMES')\n",
    "\n",
    "# dfn.info()"
   ]
  },
  {
   "cell_type": "code",
   "execution_count": 8,
   "metadata": {},
   "outputs": [
    {
     "data": {
      "text/html": [
       "<div>\n",
       "<style scoped>\n",
       "    .dataframe tbody tr th:only-of-type {\n",
       "        vertical-align: middle;\n",
       "    }\n",
       "\n",
       "    .dataframe tbody tr th {\n",
       "        vertical-align: top;\n",
       "    }\n",
       "\n",
       "    .dataframe thead th {\n",
       "        text-align: right;\n",
       "    }\n",
       "</style>\n",
       "<table border=\"1\" class=\"dataframe\">\n",
       "  <thead>\n",
       "    <tr style=\"text-align: right;\">\n",
       "      <th></th>\n",
       "      <th>Time</th>\n",
       "      <th>SO2</th>\n",
       "      <th>NO2</th>\n",
       "      <th>O3</th>\n",
       "      <th>CO</th>\n",
       "      <th>PM10</th>\n",
       "      <th>PM2.5</th>\n",
       "    </tr>\n",
       "    <tr>\n",
       "      <th>TIMES</th>\n",
       "      <th></th>\n",
       "      <th></th>\n",
       "      <th></th>\n",
       "      <th></th>\n",
       "      <th></th>\n",
       "      <th></th>\n",
       "      <th></th>\n",
       "    </tr>\n",
       "  </thead>\n",
       "  <tbody>\n",
       "    <tr>\n",
       "      <th>2019.01/02(Wed)-01:00</th>\n",
       "      <td>2019-01-02 1:00</td>\n",
       "      <td>0.006</td>\n",
       "      <td>0.017</td>\n",
       "      <td>0.025</td>\n",
       "      <td>0.5</td>\n",
       "      <td>30</td>\n",
       "      <td>18.0</td>\n",
       "    </tr>\n",
       "    <tr>\n",
       "      <th>2019.01/02(Wed)-02:00</th>\n",
       "      <td>2019-01-02 2:00</td>\n",
       "      <td>0.006</td>\n",
       "      <td>0.018</td>\n",
       "      <td>0.025</td>\n",
       "      <td>0.5</td>\n",
       "      <td>30</td>\n",
       "      <td>18.0</td>\n",
       "    </tr>\n",
       "    <tr>\n",
       "      <th>2019.01/02(Wed)-03:00</th>\n",
       "      <td>2019-01-02 3:00</td>\n",
       "      <td>0.006</td>\n",
       "      <td>0.028</td>\n",
       "      <td>0.015</td>\n",
       "      <td>0.6</td>\n",
       "      <td>35</td>\n",
       "      <td>22.0</td>\n",
       "    </tr>\n",
       "    <tr>\n",
       "      <th>2019.01/02(Wed)-04:00</th>\n",
       "      <td>2019-01-02 4:00</td>\n",
       "      <td>0.005</td>\n",
       "      <td>0.039</td>\n",
       "      <td>0.005</td>\n",
       "      <td>0.7</td>\n",
       "      <td>40</td>\n",
       "      <td>26.0</td>\n",
       "    </tr>\n",
       "    <tr>\n",
       "      <th>2019.01/02(Wed)-05:00</th>\n",
       "      <td>2019-01-02 5:00</td>\n",
       "      <td>0.005</td>\n",
       "      <td>0.039</td>\n",
       "      <td>0.005</td>\n",
       "      <td>0.7</td>\n",
       "      <td>43</td>\n",
       "      <td>28.0</td>\n",
       "    </tr>\n",
       "  </tbody>\n",
       "</table>\n",
       "</div>"
      ],
      "text/plain": [
       "                                  Time    SO2    NO2     O3   CO  PM10  PM2.5\n",
       "TIMES                                                                        \n",
       "2019.01/02(Wed)-01:00  2019-01-02 1:00  0.006  0.017  0.025  0.5    30   18.0\n",
       "2019.01/02(Wed)-02:00  2019-01-02 2:00  0.006  0.018  0.025  0.5    30   18.0\n",
       "2019.01/02(Wed)-03:00  2019-01-02 3:00  0.006  0.028  0.015  0.6    35   22.0\n",
       "2019.01/02(Wed)-04:00  2019-01-02 4:00  0.005  0.039  0.005  0.7    40   26.0\n",
       "2019.01/02(Wed)-05:00  2019-01-02 5:00  0.005  0.039  0.005  0.7    43   28.0"
      ]
     },
     "execution_count": 8,
     "metadata": {},
     "output_type": "execute_result"
    }
   ],
   "source": [
    "dfn.head()"
   ]
  },
  {
   "cell_type": "code",
   "execution_count": 9,
   "metadata": {},
   "outputs": [
    {
     "data": {
      "text/html": [
       "<div>\n",
       "<style scoped>\n",
       "    .dataframe tbody tr th:only-of-type {\n",
       "        vertical-align: middle;\n",
       "    }\n",
       "\n",
       "    .dataframe tbody tr th {\n",
       "        vertical-align: top;\n",
       "    }\n",
       "\n",
       "    .dataframe thead th {\n",
       "        text-align: right;\n",
       "    }\n",
       "</style>\n",
       "<table border=\"1\" class=\"dataframe\">\n",
       "  <thead>\n",
       "    <tr style=\"text-align: right;\">\n",
       "      <th></th>\n",
       "      <th>Time</th>\n",
       "      <th>SO2</th>\n",
       "      <th>NO2</th>\n",
       "      <th>O3</th>\n",
       "      <th>CO</th>\n",
       "      <th>PM10</th>\n",
       "      <th>PM2.5</th>\n",
       "    </tr>\n",
       "    <tr>\n",
       "      <th>TIMES</th>\n",
       "      <th></th>\n",
       "      <th></th>\n",
       "      <th></th>\n",
       "      <th></th>\n",
       "      <th></th>\n",
       "      <th></th>\n",
       "      <th></th>\n",
       "    </tr>\n",
       "  </thead>\n",
       "  <tbody>\n",
       "    <tr>\n",
       "      <th>2019.01/09(Wed)-19:00</th>\n",
       "      <td>2019-01-09 19:00:00</td>\n",
       "      <td>0.007</td>\n",
       "      <td>0.053</td>\n",
       "      <td>0.002</td>\n",
       "      <td>0.7</td>\n",
       "      <td>55</td>\n",
       "      <td>26.0</td>\n",
       "    </tr>\n",
       "    <tr>\n",
       "      <th>2019.01/09(Wed)-20:00</th>\n",
       "      <td>2019-01-09 20:00:00</td>\n",
       "      <td>0.007</td>\n",
       "      <td>0.051</td>\n",
       "      <td>0.002</td>\n",
       "      <td>0.8</td>\n",
       "      <td>55</td>\n",
       "      <td>27.0</td>\n",
       "    </tr>\n",
       "    <tr>\n",
       "      <th>2019.01/09(Wed)-21:00</th>\n",
       "      <td>2019-01-09 21:00:00</td>\n",
       "      <td>0.009</td>\n",
       "      <td>0.050</td>\n",
       "      <td>0.002</td>\n",
       "      <td>0.7</td>\n",
       "      <td>51</td>\n",
       "      <td>26.0</td>\n",
       "    </tr>\n",
       "    <tr>\n",
       "      <th>2019.01/09(Wed)-22:00</th>\n",
       "      <td>2019-01-09 22:00:00</td>\n",
       "      <td>0.009</td>\n",
       "      <td>0.045</td>\n",
       "      <td>0.002</td>\n",
       "      <td>0.7</td>\n",
       "      <td>54</td>\n",
       "      <td>28.0</td>\n",
       "    </tr>\n",
       "    <tr>\n",
       "      <th>2019.01/09(Wed)-23:00</th>\n",
       "      <td>2019-01-09 23:00:00</td>\n",
       "      <td>0.007</td>\n",
       "      <td>0.045</td>\n",
       "      <td>0.002</td>\n",
       "      <td>0.7</td>\n",
       "      <td>53</td>\n",
       "      <td>28.0</td>\n",
       "    </tr>\n",
       "  </tbody>\n",
       "</table>\n",
       "</div>"
      ],
      "text/plain": [
       "                                      Time    SO2    NO2     O3   CO  PM10  \\\n",
       "TIMES                                                                        \n",
       "2019.01/09(Wed)-19:00  2019-01-09 19:00:00  0.007  0.053  0.002  0.7    55   \n",
       "2019.01/09(Wed)-20:00  2019-01-09 20:00:00  0.007  0.051  0.002  0.8    55   \n",
       "2019.01/09(Wed)-21:00  2019-01-09 21:00:00  0.009  0.050  0.002  0.7    51   \n",
       "2019.01/09(Wed)-22:00  2019-01-09 22:00:00  0.009  0.045  0.002  0.7    54   \n",
       "2019.01/09(Wed)-23:00  2019-01-09 23:00:00  0.007  0.045  0.002  0.7    53   \n",
       "\n",
       "                       PM2.5  \n",
       "TIMES                         \n",
       "2019.01/09(Wed)-19:00   26.0  \n",
       "2019.01/09(Wed)-20:00   27.0  \n",
       "2019.01/09(Wed)-21:00   26.0  \n",
       "2019.01/09(Wed)-22:00   28.0  \n",
       "2019.01/09(Wed)-23:00   28.0  "
      ]
     },
     "execution_count": 9,
     "metadata": {},
     "output_type": "execute_result"
    }
   ],
   "source": [
    "dfn.tail()"
   ]
  },
  {
   "cell_type": "code",
   "execution_count": 10,
   "metadata": {},
   "outputs": [],
   "source": [
    "# dfn['PM10'].index.tolist()"
   ]
  },
  {
   "cell_type": "code",
   "execution_count": 11,
   "metadata": {},
   "outputs": [
    {
     "name": "stdout",
     "output_type": "stream",
     "text": [
      "2019.01/09(Wed)-23:00\n"
     ]
    }
   ],
   "source": [
    "# 그래프 함수의 정의\n",
    "print(dfn.index[-1])\n",
    "\n",
    "dates = dfn.index.tolist()\n",
    "x_index = [date if i==0 or i%24 == 0 else '' for i, date in enumerate(dates)]\n",
    "\n",
    "def df_plot(df_column): \n",
    "    # plt.figure(figsize=(10,4))\n",
    "    plt.plot(df_column)\n",
    "    \"\"\" 그래프에 텍스트를 입히는 옵션 \"\"\"\n",
    "    plt.title(\"DATA PLOTTING\")        # 타이틀\n",
    "    plt.xlabel('TIMES')                      # x 라벨\n",
    "    plt.ylabel(df_column.name)                   # y 라벨\n",
    "    plt.legend()\n",
    "    plt.xticks(x_index, rotation=90)"
   ]
  },
  {
   "cell_type": "code",
   "execution_count": 12,
   "metadata": {},
   "outputs": [
    {
     "data": {
      "image/png": "[encoded data removed]",
      "text/plain": [
       "<Figure size 1008x504 with 1 Axes>"
      ]
     },
     "metadata": {},
     "output_type": "display_data"
    }
   ],
   "source": [
    "plt.figure(figsize=(14,7))\n",
    "[df_plot(dfn[col]) for col in ['PM10', 'PM2.5',]]\n",
    "\n",
    "plt.tight_layout()\n",
    "plt.savefig(dir_img + f'/plot_total_{SAVE_LOG1}.png')\n",
    "plt.show()"
   ]
  },
  {
   "cell_type": "code",
   "execution_count": 13,
   "metadata": {},
   "outputs": [
    {
     "name": "stdout",
     "output_type": "stream",
     "text": [
      "The Last ... 2019.01/09(Wed)-23:00 \n",
      "\n",
      "마지막 기록 = 2019년 01월 09일 (Wed) 23:00\n",
      "20190109_Wed_2300\n"
     ]
    }
   ],
   "source": [
    "NOW_DATE = dfn.index[-1]    # '2019.01/06(Sun)-16:00'\n",
    "print(f\"The Last ... {NOW_DATE} \\n\")\n",
    "\n",
    "\n",
    "YEAR = NOW_DATE[:4]\n",
    "MONTH= NOW_DATE[5:7]\n",
    "DAY  = NOW_DATE[8:10]\n",
    "WEEK = NOW_DATE[11:14]\n",
    "HOUR = NOW_DATE[-5:-3]\n",
    "SAVE_LOG = f\"{YEAR}{MONTH}{DAY}_{WEEK}_{HOUR}00\"\n",
    "\n",
    "print(f\"마지막 기록 = {YEAR}년 {MONTH}월 {DAY}일 ({WEEK}) {HOUR}:00\")\n",
    "print(SAVE_LOG)"
   ]
  },
  {
   "cell_type": "code",
   "execution_count": 14,
   "metadata": {},
   "outputs": [
    {
     "data": {
      "text/plain": [
       "'C:\\\\Users\\\\nitt0\\\\Documents\\\\Github\\\\web_beautifulsoup_scrapping\\\\jupyter_air\\\\static\\\\data'"
      ]
     },
     "execution_count": 14,
     "metadata": {},
     "output_type": "execute_result"
    }
   ],
   "source": [
    "os.path.join(data_path)"
   ]
  },
  {
   "cell_type": "code",
   "execution_count": 15,
   "metadata": {},
   "outputs": [],
   "source": [
    "# Data Frame 을 엑셀로 저장한다. (CSV화일)\n",
    "file_name = f\"_air_{SAVE_LOG}.csv\"\n",
    "dfn.to_csv(os.path.join(data_path, file_name), sep=',', encoding='utf-8')"
   ]
  }
 ],
 "metadata": {
  "kernelspec": {
   "display_name": "Python 3",
   "language": "python",
   "name": "python3"
  },
  "language_info": {
   "codemirror_mode": {
    "name": "ipython",
    "version": 3
   },
   "file_extension": ".py",
   "mimetype": "text/x-python",
   "name": "python",
   "nbconvert_exporter": "python",
   "pygments_lexer": "ipython3",
   "version": "3.6.5"
  }
 },
 "nbformat": 4,
 "nbformat_minor": 2
}
