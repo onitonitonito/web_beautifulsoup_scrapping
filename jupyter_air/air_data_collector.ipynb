{
 "cells": [
  {
   "cell_type": "markdown",
   "metadata": {},
   "source": [
    "## Air.csv collector in one file\n",
    "- \n",
    "- "
   ]
  },
  {
   "cell_type": "code",
   "execution_count": 1,
   "metadata": {},
   "outputs": [],
   "source": [
    "import os\n",
    "import glob\n",
    "import pandas as pd\n",
    "import matplotlib.pyplot as plt"
   ]
  },
  {
   "cell_type": "code",
   "execution_count": 2,
   "metadata": {},
   "outputs": [],
   "source": [
    "data_path = os.path.join(os.getcwd(),'static', 'data')\n",
    "all_files = glob.glob(os.path.join(data_path, \"*.csv\"))     # advisable to use os.path.join as this makes concatenation OS independent\n",
    "\n",
    "list_ = []\n",
    "for file_ in all_files:\n",
    "    df = pd.read_csv(file_,index_col='Time', header=0)\n",
    "    list_.append(df)"
   ]
  },
  {
   "cell_type": "code",
   "execution_count": 3,
   "metadata": {},
   "outputs": [
    {
     "name": "stdout",
     "output_type": "stream",
     "text": [
      "<class 'pandas.core.frame.DataFrame'>\n",
      "Index: 774 entries, 2019-01-02 01:00:00 to 2019-01-04 17:00\n",
      "Data columns (total 11 columns):\n",
      "Unnamed: 0    774 non-null int64\n",
      "SO2           774 non-null float64\n",
      "NO2           774 non-null float64\n",
      "O3            774 non-null float64\n",
      "CO            774 non-null float64\n",
      "PM10          774 non-null int64\n",
      "PM2.5         774 non-null int64\n",
      "TIMES         774 non-null object\n",
      "CO_mod        774 non-null float64\n",
      "PM10_mod      774 non-null float64\n",
      "PM2.5_mod     774 non-null float64\n",
      "dtypes: float64(7), int64(3), object(1)\n",
      "memory usage: 72.6+ KB\n"
     ]
    }
   ],
   "source": [
    "data_frame = pd.concat(list_, axis=0, ignore_index=False)\n",
    "data_frame.info()"
   ]
  },
  {
   "cell_type": "code",
   "execution_count": 4,
   "metadata": {},
   "outputs": [
    {
     "data": {
      "text/plain": [
       "(774, 11)"
      ]
     },
     "execution_count": 4,
     "metadata": {},
     "output_type": "execute_result"
    }
   ],
   "source": [
    "# drop_cols = ['Unnamed: 0', 'CO_mod','PM10_mod','PM2.5_mod',]\n",
    "# for drop_col in drop_cols:\n",
    "#     data_frame.drop(drop_col, axis=1)\n",
    "data_frame.shape  # (614, 11)"
   ]
  },
  {
   "cell_type": "code",
   "execution_count": 5,
   "metadata": {},
   "outputs": [
    {
     "data": {
      "text/plain": [
       "(774, 11)"
      ]
     },
     "execution_count": 5,
     "metadata": {},
     "output_type": "execute_result"
    }
   ],
   "source": [
    "data_frame.drop('Unnamed: 0', axis=1)\n",
    "data_frame.drop('CO_mod', axis=1)\n",
    "data_frame.drop('PM10_mod', axis=1)\n",
    "data_frame.drop('PM2.5_mod', axis=1)\n",
    "\n",
    "data_frame.shape  # (614, 11)"
   ]
  },
  {
   "cell_type": "code",
   "execution_count": 6,
   "metadata": {},
   "outputs": [
    {
     "data": {
      "text/plain": [
       "(116, 11)"
      ]
     },
     "execution_count": 6,
     "metadata": {},
     "output_type": "execute_result"
    }
   ],
   "source": [
    "df = data_frame.drop_duplicates(subset='TIMES', keep='first')\n",
    "df.shape"
   ]
  },
  {
   "cell_type": "code",
   "execution_count": 7,
   "metadata": {},
   "outputs": [
    {
     "data": {
      "image/png": "[encoded data removed]",
      "text/plain": [
       "<Figure size 432x288 with 1 Axes>"
      ]
     },
     "metadata": {},
     "output_type": "display_data"
    }
   ],
   "source": [
    "plt.plot(df['PM10'])\n",
    "plt.plot(df['PM2.5'])\n",
    "plt.show()"
   ]
  },
  {
   "cell_type": "code",
   "execution_count": 8,
   "metadata": {},
   "outputs": [
    {
     "data": {
      "text/html": [
       "<div>\n",
       "<style scoped>\n",
       "    .dataframe tbody tr th:only-of-type {\n",
       "        vertical-align: middle;\n",
       "    }\n",
       "\n",
       "    .dataframe tbody tr th {\n",
       "        vertical-align: top;\n",
       "    }\n",
       "\n",
       "    .dataframe thead th {\n",
       "        text-align: right;\n",
       "    }\n",
       "</style>\n",
       "<table border=\"1\" class=\"dataframe\">\n",
       "  <thead>\n",
       "    <tr style=\"text-align: right;\">\n",
       "      <th></th>\n",
       "      <th>A</th>\n",
       "      <th>B</th>\n",
       "      <th>C</th>\n",
       "    </tr>\n",
       "  </thead>\n",
       "  <tbody>\n",
       "    <tr>\n",
       "      <th>0</th>\n",
       "      <td>foo</td>\n",
       "      <td>0</td>\n",
       "      <td>A</td>\n",
       "    </tr>\n",
       "    <tr>\n",
       "      <th>1</th>\n",
       "      <td>foo</td>\n",
       "      <td>1</td>\n",
       "      <td>A</td>\n",
       "    </tr>\n",
       "    <tr>\n",
       "      <th>2</th>\n",
       "      <td>foo</td>\n",
       "      <td>1</td>\n",
       "      <td>B</td>\n",
       "    </tr>\n",
       "    <tr>\n",
       "      <th>3</th>\n",
       "      <td>bar</td>\n",
       "      <td>1</td>\n",
       "      <td>A</td>\n",
       "    </tr>\n",
       "    <tr>\n",
       "      <th>4</th>\n",
       "      <td>foo</td>\n",
       "      <td>0</td>\n",
       "      <td>A</td>\n",
       "    </tr>\n",
       "  </tbody>\n",
       "</table>\n",
       "</div>"
      ],
      "text/plain": [
       "     A  B  C\n",
       "0  foo  0  A\n",
       "1  foo  1  A\n",
       "2  foo  1  B\n",
       "3  bar  1  A\n",
       "4  foo  0  A"
      ]
     },
     "execution_count": 8,
     "metadata": {},
     "output_type": "execute_result"
    }
   ],
   "source": [
    "# 테스트! = 중복되는 Rows 첫번째 데이터를 남기고 삭제하기 Keep='first', 'last'\n",
    "# Keep=False 인경우는 중복되는것은 아예 삭제하고 남기지 않는다.\n",
    "\n",
    "df_array = {\n",
    "    \"A\":[\"foo\", \"foo\", \"foo\", \"bar\", \"foo\"], \n",
    "    \"B\":[0,1,1,1,0], \n",
    "    \"C\":[\"A\",\"A\",\"B\",\"A\", \"A\"],\n",
    "}\n",
    "\n",
    "df1 = pd.DataFrame(df_array)\n",
    "df1\n",
    "\n",
    "#   A\tB\tC\n",
    "# 0\tfoo\t0\tA\n",
    "# 1\tfoo\t1\tA\n",
    "# 2\tfoo\t1\tB\n",
    "# 3\tbar\t1\tA"
   ]
  },
  {
   "cell_type": "code",
   "execution_count": 9,
   "metadata": {},
   "outputs": [
    {
     "data": {
      "text/html": [
       "<div>\n",
       "<style scoped>\n",
       "    .dataframe tbody tr th:only-of-type {\n",
       "        vertical-align: middle;\n",
       "    }\n",
       "\n",
       "    .dataframe tbody tr th {\n",
       "        vertical-align: top;\n",
       "    }\n",
       "\n",
       "    .dataframe thead th {\n",
       "        text-align: right;\n",
       "    }\n",
       "</style>\n",
       "<table border=\"1\" class=\"dataframe\">\n",
       "  <thead>\n",
       "    <tr style=\"text-align: right;\">\n",
       "      <th></th>\n",
       "      <th>A</th>\n",
       "      <th>B</th>\n",
       "      <th>C</th>\n",
       "    </tr>\n",
       "  </thead>\n",
       "  <tbody>\n",
       "    <tr>\n",
       "      <th>0</th>\n",
       "      <td>foo</td>\n",
       "      <td>0</td>\n",
       "      <td>A</td>\n",
       "    </tr>\n",
       "    <tr>\n",
       "      <th>1</th>\n",
       "      <td>foo</td>\n",
       "      <td>1</td>\n",
       "      <td>A</td>\n",
       "    </tr>\n",
       "    <tr>\n",
       "      <th>2</th>\n",
       "      <td>foo</td>\n",
       "      <td>1</td>\n",
       "      <td>B</td>\n",
       "    </tr>\n",
       "    <tr>\n",
       "      <th>3</th>\n",
       "      <td>bar</td>\n",
       "      <td>1</td>\n",
       "      <td>A</td>\n",
       "    </tr>\n",
       "  </tbody>\n",
       "</table>\n",
       "</div>"
      ],
      "text/plain": [
       "     A  B  C\n",
       "0  foo  0  A\n",
       "1  foo  1  A\n",
       "2  foo  1  B\n",
       "3  bar  1  A"
      ]
     },
     "execution_count": 9,
     "metadata": {},
     "output_type": "execute_result"
    }
   ],
   "source": [
    "# 서브셋 A,B,C 가 모두 동일하면, 처음 데이터를 남기고 나머지는 삭제한다.\n",
    "# 인덱스는 UID 이기 때문에 인텍스 기준으로 서브셋을 설정하면, 중복데이터 삭제됨\n",
    "df1a = df1.drop_duplicates(subset=['A', 'B', 'C'], keep='first')\n",
    "df1a"
   ]
  },
  {
   "cell_type": "code",
   "execution_count": 10,
   "metadata": {},
   "outputs": [
    {
     "data": {
      "text/plain": [
       "'2019.01/06(Sun)-20:00'"
      ]
     },
     "execution_count": 10,
     "metadata": {},
     "output_type": "execute_result"
    }
   ],
   "source": [
    "df.TIMES.tolist()[-1]    # '2019.01/06(Sun)-16:00'"
   ]
  },
  {
   "cell_type": "code",
   "execution_count": 13,
   "metadata": {},
   "outputs": [],
   "source": [
    "# Data Frame 을 엑셀로 저장한다. (CSV화일)\n",
    "file_name = '2019_01_air.csv'\n",
    "df.to_csv(os.path.join(data_path, file_name), sep=',', encoding='utf-8')"
   ]
  },
  {
   "cell_type": "code",
   "execution_count": null,
   "metadata": {},
   "outputs": [],
   "source": []
  }
 ],
 "metadata": {
  "kernelspec": {
   "display_name": "Python 3",
   "language": "python",
   "name": "python3"
  },
  "language_info": {
   "codemirror_mode": {
    "name": "ipython",
    "version": 3
   },
   "file_extension": ".py",
   "mimetype": "text/x-python",
   "name": "python",
   "nbconvert_exporter": "python",
   "pygments_lexer": "ipython3",
   "version": "3.6.5"
  }
 },
 "nbformat": 4,
 "nbformat_minor": 2
}
