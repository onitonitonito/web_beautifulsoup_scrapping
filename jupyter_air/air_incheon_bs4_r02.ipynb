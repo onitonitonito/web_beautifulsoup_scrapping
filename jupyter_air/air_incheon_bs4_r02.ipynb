{
 "cells": [
  {
   "cell_type": "markdown",
   "metadata": {},
   "source": [
    "## 청라, 송도지역 미세먼지 측정값 스크래핑\n",
    "> 1. 송도 = https://bit.ly/2EWi9vM\n",
    "> 1. 청라 = https://bit.ly/2Al7h6y\n",
    "\n",
    "* Todo: 계측 센서 갯수가 다르므로 필터링 방식이 달라져야 한다\n",
    "* 송도 = 6개 / 청라 = 4개"
   ]
  },
  {
   "cell_type": "code",
   "execution_count": 1,
   "metadata": {},
   "outputs": [],
   "source": [
    "\"\"\"\n",
    "* 청라, 송도지역 미세먼지 측정값 스크래핑\n",
    "\"\"\"\n",
    "import os\n",
    "import sys\n",
    "import datetime\n",
    "import numpy as np\n",
    "import pandas as pd\n",
    "import seaborn as sns\n",
    "import matplotlib.pyplot as plt\n",
    "\n",
    "import requests\n",
    "from bs4 import BeautifulSoup"
   ]
  },
  {
   "cell_type": "code",
   "execution_count": 2,
   "metadata": {},
   "outputs": [
    {
     "name": "stdout",
     "output_type": "stream",
     "text": [
      "\n",
      "# dir_work,\n",
      "# dir_data,\n",
      "# dir_data_collect,\n",
      "# dir_data_trash,\n",
      "# dir_img,\n",
      "# dir_img_heatmap,\n",
      "# dir_img_nulschool,\n",
      "# dir_img_plot_plot,\n",
      "# dir_img_plot_scatter,\n",
      "# dir_img_test,\n",
      "\n",
      "\n",
      "# get_savelog()\n",
      "#\n"
     ]
    }
   ],
   "source": [
    "from asset.config import *\n",
    "from asset.get_savelog import get_savelog"
   ]
  },
  {
   "cell_type": "markdown",
   "metadata": {},
   "source": [
    "## 작업폴더 지정\n",
    " - static = 정적화일 저장\n",
    "     - data = 'csv' 실시간 스크랩을 저장 하는 곳 (24~최대 48개 수집)\n",
    "         'air_20190107_1500_Mon.csv'\n",
    "         - collect = 'csv' 화일을 합쳐서, 최종본만 저장 \n",
    "         - trash = 힙치고 남은 가비지를 임시로 옮겨두는곳\n",
    "     - html\n",
    "     - img\n",
    "         - nulschool = 널스쿨 이미지 캡춰장소\n",
    "         - test = 실시간 분석 결과를 저장 (24~48)\n",
    "         "
   ]
  },
  {
   "cell_type": "code",
   "execution_count": 3,
   "metadata": {},
   "outputs": [],
   "source": [
    "# SAVE_LOG, SAVE_LOG1   # ('20190110_Thu_0000', '20190110_0000_Thu')\n",
    "SAVE_LOG, SAVE_LOG1 = get_savelog()"
   ]
  },
  {
   "cell_type": "code",
   "execution_count": 5,
   "metadata": {},
   "outputs": [
    {
     "name": "stderr",
     "output_type": "stream",
     "text": [
      "Some characters could not be decoded, and were replaced with REPLACEMENT CHARACTER.\n"
     ]
    }
   ],
   "source": [
    "URLS = [\n",
    "    'http://air.incheon.go.kr/airinch/real3.html?area_other_index=999991',\n",
    "    'http://air.incheon.go.kr/airinch/real3.html?area_other_index=999992',\n",
    "]\n",
    "\n",
    "\"\"\" 주의!: 송도와 청라는 데이터 갯수가 틀려서 필터링 방법을 달리해야 함. \"\"\"\n",
    "URL = URLS[0]  # 0=청라 - 측정치 1+3 = 4개\n",
    "URL = URLS[1]  # 1=송도 - 측정치 1+6 = 7개\n",
    "\n",
    "RESPONSE = requests.get(URL)\n",
    "SOUP = BeautifulSoup(RESPONSE.content, 'html.parser')\n",
    "TABLE = SOUP.find_all('table', {'class': 'view'})\n",
    "\n",
    "TDS = TABLE[0].find_all('td')\n",
    "FONTS = TABLE[0].find_all('font')\n",
    "SPANS = TABLE[0].find_all('span')"
   ]
  },
  {
   "cell_type": "markdown",
   "metadata": {},
   "source": [
    "## 데이터의 길이를 기준으로 구분한다 (EDA)\n",
    "> 12자 길이를 넘어가는 데이터는 한글 테이터이다."
   ]
  },
  {
   "cell_type": "code",
   "execution_count": 6,
   "metadata": {},
   "outputs": [],
   "source": [
    "for n, span in enumerate(SPANS, 0):\n",
    "    neat_span = str(span.text).strip()   "
   ]
  },
  {
   "cell_type": "code",
   "execution_count": 7,
   "metadata": {},
   "outputs": [],
   "source": [
    "DATE = []       # 날짜정보 2개를 담음.\n",
    "DATA = []       # 스크랩핑한 전체 데이터 = 헤드정보 포함"
   ]
  },
  {
   "cell_type": "code",
   "execution_count": 8,
   "metadata": {},
   "outputs": [],
   "source": [
    "for n, span in enumerate(SPANS, 0):\n",
    "    neat_span = str(span.text).strip()\n",
    "\n",
    "    if len(neat_span) > 12:                           # 2018년12월 29일24시\n",
    "        \"\"\" 날짜와 시간을 분리해서 각각 넣는다 \"\"\"\n",
    "        DATE.append(neat_span[:-3])     # 날짜 = 2018년 12월 29일\n",
    "        DATA.append(neat_span[-3:])     # 시간 = '24시'  .. 날짜는 잘라내고, 시간만 넣는다\n",
    "    else:\n",
    "        DATA.append(neat_span)          # 그렇지 않으면 그냥 넣는다"
   ]
  },
  {
   "cell_type": "markdown",
   "metadata": {},
   "source": [
    "\"\"\" 리스트에 담긴 해당 날짜를 보여준다, 그래봤자 2개 지만.. \"\"\"\n",
    "1. print(DATE[0])                          # 2018년12월 30일  ... 오늘날짜가 먼저 담긴다.\n",
    "1. print(DATE[1])                          # 2018년12월 29일  ... 어제날짜가 다음에 담긴다."
   ]
  },
  {
   "cell_type": "code",
   "execution_count": 9,
   "metadata": {},
   "outputs": [
    {
     "data": {
      "text/plain": [
       "['2019년01월\\xa009일', '2019년01월\\xa009일']"
      ]
     },
     "execution_count": 9,
     "metadata": {},
     "output_type": "execute_result"
    }
   ],
   "source": [
    "DATE\n",
    "# '2019년01월\\xa003일', '2019년01월\\xa002일']\n",
    "\n",
    "# DATA[:8]\n",
    "# ['시간', '측정항목', 'SO2(ppm)', 'NO2(ppm)', 'O3(ppm)', 'CO(ppm)', 'PM10(㎍/㎥)', 'PM2.5(㎍/㎥)', \n",
    "#  '11시', '0.009', '0.056',..... ]\n",
    "# 맨 앞의 8자리 해더정보를 잘라내고 데이터만 DATA 에 담는다"
   ]
  },
  {
   "cell_type": "code",
   "execution_count": 10,
   "metadata": {
    "scrolled": true
   },
   "outputs": [],
   "source": [
    "DATE[0]     # 오늘 ... '2019년01월\\xa003일'\n",
    "DATE[1]     # 어제 ... '2019년01월\\xa002일'\n",
    "FORMAT_DATE = []\n",
    "\n",
    "for date in DATE:\n",
    "    YEAR =  date[:4]     # '2009'\n",
    "    MONTH = date[5:7]    # '01'\n",
    "    DAY =   date[9:-1]   # '03'\n",
    "    FORMAT_DATE.append(f'{YEAR}-{MONTH}-{DAY}')             \n",
    "\n",
    "FORMAT_DATE.reverse()   # ['2019-01-02', '2019-01-03']"
   ]
  },
  {
   "cell_type": "code",
   "execution_count": 11,
   "metadata": {},
   "outputs": [
    {
     "data": {
      "text/plain": [
       "['2019-01-09', '2019-01-09']"
      ]
     },
     "execution_count": 11,
     "metadata": {},
     "output_type": "execute_result"
    }
   ],
   "source": [
    "FORMAT_DATE"
   ]
  },
  {
   "cell_type": "code",
   "execution_count": 12,
   "metadata": {},
   "outputs": [],
   "source": [
    "FULL_COLUMNS = ['Time(24Hr)',]\n",
    "FULL_COLUMNS.extend(DATA[2:8])  # ['Time(24Hr)','SO2(ppm)', ... 'CO(ppm)','PM10(㎍/㎥)','PM2.5(㎍/㎥)']"
   ]
  },
  {
   "cell_type": "markdown",
   "metadata": {},
   "source": [
    "## COLUMNS, UNIT, TIME_COLS\n",
    "1. COLUMNS = ['Time', 'SO2', 'NO2', 'O3', 'CO', 'PM10', 'PM2.5'],\n",
    "1. UNITS = ['24Hr', 'ppm', 'ppm', 'ppm', 'ppm', '㎍/㎥', '㎍/㎥'])    \n",
    "1. TIME_COLS = ['01', '02', ... '12', '01',]\n",
    "1. FORMAT_DATE = ['2019-01-02', '2019-01-03']  ... 순서대로 재배열"
   ]
  },
  {
   "cell_type": "code",
   "execution_count": 13,
   "metadata": {},
   "outputs": [],
   "source": [
    "COLUMNS = []       # 컬럼 제목들 만 뽑는다.\n",
    "UNITS = []         # 컬럼 단위들 만 뽑는다.\n",
    "\n",
    "for item in FULL_COLUMNS:      # full 컬럼값에서 '타이틀'과 '단위'를 분리해 냄\n",
    "    title = item.split('(')[0]    # Title\n",
    "    _rest = item.split('(')[1]\n",
    "    \n",
    "    COLUMNS.append(title)\n",
    "    UNITS.append(_rest[:-1])"
   ]
  },
  {
   "cell_type": "code",
   "execution_count": 14,
   "metadata": {},
   "outputs": [
    {
     "data": {
      "text/plain": [
       "array([['24시', '0.008', '0.046', '0.002', '0.8', '54', '30'],\n",
       "       ['23시', '0.007', '0.045', '0.002', '0.7', '53', '28'],\n",
       "       ['22시', '0.009', '0.045', '0.002', '0.7', '54', '28'],\n",
       "       ['21시', '0.009', '0.050', '0.002', '0.7', '51', '26'],\n",
       "       ['20시', '0.007', '0.051', '0.002', '0.8', '55', '27'],\n",
       "       ['19시', '0.007', '0.053', '0.002', '0.7', '55', '26'],\n",
       "       ['18시', '0.008', '0.053', '0.003', '0.7', '61', '29'],\n",
       "       ['17시', '0.007', '0.049', '0.008', '0.7', '61', '30'],\n",
       "       ['16시', '0.009', '0.045', '0.009', '0.6', '65', '31'],\n",
       "       ['15시', '0.007', '0.040', '0.013', '0.7', '61', '26'],\n",
       "       ['14시', '0.007', '0.035', '0.013', '0.7', '50', '20'],\n",
       "       ['13시', '0.006', '0.031', '0.016', '0.6', '52', '24'],\n",
       "       ['12시', '0.007', '0.036', '0.014', '0.7', '50', '20'],\n",
       "       ['11시', '0.006', '0.032', '0.012', '0.6', '45', '17'],\n",
       "       ['10시', '0.007', '0.042', '0.006', '0.7', '45', '20'],\n",
       "       ['09시', '0.007', '0.046', '0.004', '0.8', '43', '18'],\n",
       "       ['08시', '0.006', '0.038', '0.004', '0.6', '33', '14'],\n",
       "       ['07시', '0.006', '0.024', '0.014', '0.6', '31', '12'],\n",
       "       ['06시', '0.006', '0.019', '0.018', '0.6', '34', '16'],\n",
       "       ['05시', '0.007', '0.016', '0.020', '0.6', '34', '16'],\n",
       "       ['04시', '0.006', '0.012', '0.024', '0.5', '35', '13'],\n",
       "       ['03시', '0.005', '0.011', '0.025', '0.6', '35', '14'],\n",
       "       ['02시', '0.005', '0.009', '0.027', '0.5', '33', '13'],\n",
       "       ['01시', '0.005', '0.008', '0.028', '0.6', '33', '12'],\n",
       "       ['24시', '0.008', '0.046', '0.002', '0.8', '54', '30'],\n",
       "       ['23시', '0.007', '0.045', '0.002', '0.7', '53', '28'],\n",
       "       ['22시', '0.009', '0.045', '0.002', '0.7', '54', '28'],\n",
       "       ['21시', '0.009', '0.050', '0.002', '0.7', '51', '26'],\n",
       "       ['20시', '0.007', '0.051', '0.002', '0.8', '55', '27'],\n",
       "       ['19시', '0.007', '0.053', '0.002', '0.7', '55', '26'],\n",
       "       ['18시', '0.008', '0.053', '0.003', '0.7', '61', '29'],\n",
       "       ['17시', '0.007', '0.049', '0.008', '0.7', '61', '30'],\n",
       "       ['16시', '0.009', '0.045', '0.009', '0.6', '65', '31'],\n",
       "       ['15시', '0.007', '0.040', '0.013', '0.7', '61', '26'],\n",
       "       ['14시', '0.007', '0.035', '0.013', '0.7', '50', '20'],\n",
       "       ['13시', '0.006', '0.031', '0.016', '0.6', '52', '24'],\n",
       "       ['12시', '0.007', '0.036', '0.014', '0.7', '50', '20'],\n",
       "       ['11시', '0.006', '0.032', '0.012', '0.6', '45', '17'],\n",
       "       ['10시', '0.007', '0.042', '0.006', '0.7', '45', '20'],\n",
       "       ['09시', '0.007', '0.046', '0.004', '0.8', '43', '18'],\n",
       "       ['08시', '0.006', '0.038', '0.004', '0.6', '33', '14'],\n",
       "       ['07시', '0.006', '0.024', '0.014', '0.6', '31', '12'],\n",
       "       ['06시', '0.006', '0.019', '0.018', '0.6', '34', '16'],\n",
       "       ['05시', '0.007', '0.016', '0.020', '0.6', '34', '16'],\n",
       "       ['04시', '0.006', '0.012', '0.024', '0.5', '35', '13'],\n",
       "       ['03시', '0.005', '0.011', '0.025', '0.6', '35', '14'],\n",
       "       ['02시', '0.005', '0.009', '0.027', '0.5', '33', '13'],\n",
       "       ['01시', '0.005', '0.008', '0.028', '0.6', '33', '12']], dtype='<U5')"
      ]
     },
     "execution_count": 14,
     "metadata": {},
     "output_type": "execute_result"
    }
   ],
   "source": [
    "CUT_DATA = DATA[8:]                       # 앞 부분(index header)을 잘라내고 데이터부분만 남김 =  1-DIM\n",
    "DATA_NP = np.array(CUT_DATA)              # numpy 데이터 변환!\n",
    "DATA_NP2D = np.reshape(DATA_NP, (-1,7))   # 1D to 2D 변환 (-1,7)\n",
    "# np.shape(a=DATA_NP2D)                     # (26,7)  ... 그때 그때 행이 바뀜, 최대 24~ 48까지\n",
    "DATA_NP2D"
   ]
  },
  {
   "cell_type": "code",
   "execution_count": 15,
   "metadata": {},
   "outputs": [
    {
     "data": {
      "text/plain": [
       "array([['24', '0.008', '0.046', '0.002', '0.8', '54', '30'],\n",
       "       ['23', '0.007', '0.045', '0.002', '0.7', '53', '28'],\n",
       "       ['22', '0.009', '0.045', '0.002', '0.7', '54', '28'],\n",
       "       ['21', '0.009', '0.050', '0.002', '0.7', '51', '26'],\n",
       "       ['20', '0.007', '0.051', '0.002', '0.8', '55', '27'],\n",
       "       ['19', '0.007', '0.053', '0.002', '0.7', '55', '26'],\n",
       "       ['18', '0.008', '0.053', '0.003', '0.7', '61', '29'],\n",
       "       ['17', '0.007', '0.049', '0.008', '0.7', '61', '30'],\n",
       "       ['16', '0.009', '0.045', '0.009', '0.6', '65', '31'],\n",
       "       ['15', '0.007', '0.040', '0.013', '0.7', '61', '26']], dtype='<U5')"
      ]
     },
     "execution_count": 15,
     "metadata": {},
     "output_type": "execute_result"
    }
   ],
   "source": [
    "TIME_COLS = DATA_NP2D[:,0]                         # 시간 1열만 쪼개서 따로 담음 .. '08시'\n",
    "DATA_NP2D[:,0] = [time[:2] for time in TIME_COLS]  # 02시 --> 02, 앞 두글자만 잘라냄\n",
    "DATA_NP2D[:10]"
   ]
  },
  {
   "cell_type": "code",
   "execution_count": 16,
   "metadata": {},
   "outputs": [
    {
     "data": {
      "text/plain": [
       "[['2019-01-09-01', '0.005', '0.008', '0.028', '0.6', '33', '12'],\n",
       " ['2019-01-09-02', '0.005', '0.009', '0.027', '0.5', '33', '13'],\n",
       " ['2019-01-09-03', '0.005', '0.011', '0.025', '0.6', '35', '14'],\n",
       " ['2019-01-09-04', '0.006', '0.012', '0.024', '0.5', '35', '13'],\n",
       " ['2019-01-09-05', '0.007', '0.016', '0.020', '0.6', '34', '16'],\n",
       " ['2019-01-09-06', '0.006', '0.019', '0.018', '0.6', '34', '16'],\n",
       " ['2019-01-09-07', '0.006', '0.024', '0.014', '0.6', '31', '12'],\n",
       " ['2019-01-09-08', '0.006', '0.038', '0.004', '0.6', '33', '14'],\n",
       " ['2019-01-09-09', '0.007', '0.046', '0.004', '0.8', '43', '18'],\n",
       " ['2019-01-09-10', '0.007', '0.042', '0.006', '0.7', '45', '20']]"
      ]
     },
     "execution_count": 16,
     "metadata": {},
     "output_type": "execute_result"
    }
   ],
   "source": [
    "DATA_NP2D_FLIPED = np.flip(DATA_NP2D, 0)    # 0=상하플립\n",
    "\n",
    "DATA_NUM = len(DATA_NP2D_FLIPED)\n",
    "INDEX = []\n",
    "\n",
    "for i in range(DATA_NUM):\n",
    "    if i < 23:\n",
    "        INDEX.append(f'{FORMAT_DATE[0]}-{i+1:02}')\n",
    "    else:\n",
    "        INDEX.append(f'{FORMAT_DATE[1]}-{i-24+1:02}')\n",
    "INDEX    # ['2019-01-02-01', '2019-01-02-02',\n",
    "\n",
    "\n",
    "DATA_NP2D_FLIPED_LIST = DATA_NP2D_FLIPED.tolist()\n",
    "\n",
    "\n",
    "for i in range(DATA_NUM):\n",
    "   DATA_NP2D_FLIPED_LIST[i][0] = INDEX[i]\n",
    "\n",
    "DATA_NP2D_FLIPED_LIST[:10]"
   ]
  },
  {
   "cell_type": "code",
   "execution_count": 17,
   "metadata": {},
   "outputs": [
    {
     "data": {
      "text/plain": [
       "array([['2019-01-09-01', '0.005', '0.008', '0.028', '0.6', '33', '12'],\n",
       "       ['2019-01-09-02', '0.005', '0.009', '0.027', '0.5', '33', '13'],\n",
       "       ['2019-01-09-03', '0.005', '0.011', '0.025', '0.6', '35', '14'],\n",
       "       ['2019-01-09-04', '0.006', '0.012', '0.024', '0.5', '35', '13']],\n",
       "      dtype='<U13')"
      ]
     },
     "execution_count": 17,
     "metadata": {},
     "output_type": "execute_result"
    }
   ],
   "source": [
    "DATA_NP2D_FLIPED = np.array(DATA_NP2D_FLIPED_LIST)\n",
    "DATA_NP2D_FLIPED[:4]"
   ]
  },
  {
   "cell_type": "code",
   "execution_count": 18,
   "metadata": {},
   "outputs": [
    {
     "data": {
      "text/plain": [
       "array([['2019-01-09-21', '0.009', '0.050', '0.002', '0.7', '51', '26'],\n",
       "       ['2019-01-09-22', '0.009', '0.045', '0.002', '0.7', '54', '28'],\n",
       "       ['2019-01-09-23', '0.007', '0.045', '0.002', '0.7', '53', '28']],\n",
       "      dtype='<U13')"
      ]
     },
     "execution_count": 18,
     "metadata": {},
     "output_type": "execute_result"
    }
   ],
   "source": [
    "DATA_NP2D_FLIPED[-4:-1]"
   ]
  },
  {
   "cell_type": "code",
   "execution_count": 19,
   "metadata": {},
   "outputs": [
    {
     "data": {
      "text/plain": [
       "array([['2019-01-09-01', '0.005', '0.008', '0.028', '0.6', '33', '12'],\n",
       "       ['2019-01-09-02', '0.005', '0.009', '0.027', '0.5', '33', '13'],\n",
       "       ['2019-01-09-03', '0.005', '0.011', '0.025', '0.6', '35', '14'],\n",
       "       ['2019-01-09-04', '0.006', '0.012', '0.024', '0.5', '35', '13'],\n",
       "       ['2019-01-09-05', '0.007', '0.016', '0.020', '0.6', '34', '16']],\n",
       "      dtype='<U13')"
      ]
     },
     "execution_count": 19,
     "metadata": {},
     "output_type": "execute_result"
    }
   ],
   "source": [
    "# DATA_NP2D (String) 은 원본으로 남겨두고, Float 숫자로 변환하여 AIR_DATA_NP로 변경 \n",
    "# AIR_DATA_NP = np.asfarray(DATA_NP2D, dtype=np.float)  # 문자열 --> float 로 변경해 줌(1)\n",
    "AIR_DATA_NP = DATA_NP2D_FLIPED\n",
    "AIR_DATA_NP[:5]"
   ]
  },
  {
   "cell_type": "code",
   "execution_count": 20,
   "metadata": {},
   "outputs": [
    {
     "name": "stdout",
     "output_type": "stream",
     "text": [
      "Index(['Time', 'SO2', 'NO2', 'O3', 'CO', 'PM10', 'PM2.5'], dtype='object')\n",
      "RangeIndex(start=0, stop=48, step=1)\n",
      "\n",
      "            Time    SO2    NO2     O3   CO PM10 PM2.5\n",
      "0  2019-01-09-01  0.005  0.008  0.028  0.6   33    12\n",
      "1  2019-01-09-02  0.005  0.009  0.027  0.5   33    13\n",
      "2  2019-01-09-03  0.005  0.011  0.025  0.6   35    14\n",
      "             Time    SO2    NO2     O3   CO PM10 PM2.5\n",
      "45  2019-01-09-22  0.009  0.045  0.002  0.7   54    28\n",
      "46  2019-01-09-23  0.007  0.045  0.002  0.7   53    28\n",
      "47  2019-01-09-24  0.008  0.046  0.002  0.8   54    30\n",
      "\n",
      "<class 'pandas.core.frame.DataFrame'>\n",
      "RangeIndex: 48 entries, 0 to 47\n",
      "Data columns (total 7 columns):\n",
      "Time     48 non-null object\n",
      "SO2      48 non-null object\n",
      "NO2      48 non-null object\n",
      "O3       48 non-null object\n",
      "CO       48 non-null object\n",
      "PM10     48 non-null object\n",
      "PM2.5    48 non-null object\n",
      "dtypes: object(7)\n",
      "memory usage: 2.7+ KB\n",
      "None\n"
     ]
    }
   ],
   "source": [
    "df = pd.DataFrame(AIR_DATA_NP, columns=COLUMNS)\n",
    "\n",
    "print(df.columns)\n",
    "print(df.index, end='\\n\\n')\n",
    "\n",
    "print(df.head(3))\n",
    "print(df.tail(3), end='\\n\\n')\n",
    "\n",
    "print(df.info())"
   ]
  },
  {
   "cell_type": "markdown",
   "metadata": {},
   "source": [
    "# '점검' 이 발생하면, 값을 대치(Replace)한다\n",
    "[R, Python 분석과 프로그래밍 (by R Friend)]](http://rfriend.tistory.com/262)\n",
    "- 결측값 채우기, 결측값 대체하기, 결측값 처리 \n",
    "- filling missing value, imputation of missing values) : df.fillna()\n",
    "\n",
    "1. null 값으로 대치 = 그래프에 너무 큰 변화가 온다 ... NG\n",
    "\n",
    "> - 앞, 뒤 값의 평균값으로 대치한다. = 변화를 눈치채기 힘들다.\n",
    "> - 앞의 값으로 대치한다. = 언제든 대치 가능\n",
    "> - 뒤의 값으로 대치한다. = 뒤에 센서값이 들어와야 대치 가능\n",
    ">> 1. 점검이 발행하면 2~3시간 소요된다.\n",
    ">> 1. 2~3 시간동안 평행한 직선으로 진행된다."
   ]
  },
  {
   "cell_type": "code",
   "execution_count": 21,
   "metadata": {},
   "outputs": [
    {
     "name": "stdout",
     "output_type": "stream",
     "text": [
      "0\n"
     ]
    },
    {
     "data": {
      "text/html": [
       "<div>\n",
       "<style scoped>\n",
       "    .dataframe tbody tr th:only-of-type {\n",
       "        vertical-align: middle;\n",
       "    }\n",
       "\n",
       "    .dataframe tbody tr th {\n",
       "        vertical-align: top;\n",
       "    }\n",
       "\n",
       "    .dataframe thead th {\n",
       "        text-align: right;\n",
       "    }\n",
       "</style>\n",
       "<table border=\"1\" class=\"dataframe\">\n",
       "  <thead>\n",
       "    <tr style=\"text-align: right;\">\n",
       "      <th></th>\n",
       "      <th>Time</th>\n",
       "      <th>SO2</th>\n",
       "      <th>NO2</th>\n",
       "      <th>O3</th>\n",
       "      <th>CO</th>\n",
       "      <th>PM10</th>\n",
       "      <th>PM2.5</th>\n",
       "    </tr>\n",
       "  </thead>\n",
       "  <tbody>\n",
       "  </tbody>\n",
       "</table>\n",
       "</div>"
      ],
      "text/plain": [
       "Empty DataFrame\n",
       "Columns: [Time, SO2, NO2, O3, CO, PM10, PM2.5]\n",
       "Index: []"
      ]
     },
     "execution_count": 21,
     "metadata": {},
     "output_type": "execute_result"
    }
   ],
   "source": [
    "hit_manage = len(df[df.PM10.values == '점검'].values)\n",
    "print(hit_manage)\n",
    "\n",
    "if hit_manage:\n",
    "    df = df.replace('점검', 0)\n",
    "    hit_manage = 0\n",
    "    print(\"'점검'are DELETED! \")\n",
    "    \n",
    "df[df.PM10.values == 0]   # 0 으로 교체된 부분 표시"
   ]
  },
  {
   "cell_type": "code",
   "execution_count": 22,
   "metadata": {},
   "outputs": [
    {
     "name": "stdout",
     "output_type": "stream",
     "text": [
      "0\n"
     ]
    },
    {
     "data": {
      "text/html": [
       "<div>\n",
       "<style scoped>\n",
       "    .dataframe tbody tr th:only-of-type {\n",
       "        vertical-align: middle;\n",
       "    }\n",
       "\n",
       "    .dataframe tbody tr th {\n",
       "        vertical-align: top;\n",
       "    }\n",
       "\n",
       "    .dataframe thead th {\n",
       "        text-align: right;\n",
       "    }\n",
       "</style>\n",
       "<table border=\"1\" class=\"dataframe\">\n",
       "  <thead>\n",
       "    <tr style=\"text-align: right;\">\n",
       "      <th></th>\n",
       "      <th>Time</th>\n",
       "      <th>SO2</th>\n",
       "      <th>NO2</th>\n",
       "      <th>O3</th>\n",
       "      <th>CO</th>\n",
       "      <th>PM10</th>\n",
       "      <th>PM2.5</th>\n",
       "    </tr>\n",
       "  </thead>\n",
       "  <tbody>\n",
       "  </tbody>\n",
       "</table>\n",
       "</div>"
      ],
      "text/plain": [
       "Empty DataFrame\n",
       "Columns: [Time, SO2, NO2, O3, CO, PM10, PM2.5]\n",
       "Index: []"
      ]
     },
     "execution_count": 22,
     "metadata": {},
     "output_type": "execute_result"
    }
   ],
   "source": [
    "hit_manage = len(df[df.PM10.values == '-'].values)\n",
    "print(hit_manage)\n",
    "\n",
    "if hit_manage:\n",
    "    df = df.replace('-', 0)\n",
    "    hit_manage = 0\n",
    "    print(\"'-'are DELETED! \")\n",
    "    \n",
    "df[df.PM10.values == 0]   # 0 으로 교체된 부분 표시"
   ]
  },
  {
   "cell_type": "code",
   "execution_count": 33,
   "metadata": {},
   "outputs": [
    {
     "ename": "ValueError",
     "evalue": "hour must be in 0..23",
     "output_type": "error",
     "traceback": [
      "\u001b[1;31m---------------------------------------------------------------------------\u001b[0m",
      "\u001b[1;31mTypeError\u001b[0m                                 Traceback (most recent call last)",
      "\u001b[1;32mC:\\Anaconda3\\lib\\site-packages\\pandas\\core\\tools\\datetimes.py\u001b[0m in \u001b[0;36m_convert_listlike\u001b[1;34m(arg, box, format, name, tz)\u001b[0m\n\u001b[0;32m    376\u001b[0m             \u001b[1;32mtry\u001b[0m\u001b[1;33m:\u001b[0m\u001b[1;33m\u001b[0m\u001b[0m\n\u001b[1;32m--> 377\u001b[1;33m                 \u001b[0mvalues\u001b[0m\u001b[1;33m,\u001b[0m \u001b[0mtz\u001b[0m \u001b[1;33m=\u001b[0m \u001b[0mconversion\u001b[0m\u001b[1;33m.\u001b[0m\u001b[0mdatetime_to_datetime64\u001b[0m\u001b[1;33m(\u001b[0m\u001b[0marg\u001b[0m\u001b[1;33m)\u001b[0m\u001b[1;33m\u001b[0m\u001b[0m\n\u001b[0m\u001b[0;32m    378\u001b[0m                 \u001b[1;32mreturn\u001b[0m \u001b[0mDatetimeIndex\u001b[0m\u001b[1;33m.\u001b[0m\u001b[0m_simple_new\u001b[0m\u001b[1;33m(\u001b[0m\u001b[0mvalues\u001b[0m\u001b[1;33m,\u001b[0m \u001b[0mname\u001b[0m\u001b[1;33m=\u001b[0m\u001b[0mname\u001b[0m\u001b[1;33m,\u001b[0m \u001b[0mtz\u001b[0m\u001b[1;33m=\u001b[0m\u001b[0mtz\u001b[0m\u001b[1;33m)\u001b[0m\u001b[1;33m\u001b[0m\u001b[0m\n",
      "\u001b[1;32mpandas\\_libs\\tslibs\\conversion.pyx\u001b[0m in \u001b[0;36mpandas._libs.tslibs.conversion.datetime_to_datetime64\u001b[1;34m()\u001b[0m\n",
      "\u001b[1;31mTypeError\u001b[0m: Unrecognized value type: <class 'str'>",
      "\nDuring handling of the above exception, another exception occurred:\n",
      "\u001b[1;31mValueError\u001b[0m                                Traceback (most recent call last)",
      "\u001b[1;32m<ipython-input-33-aa0ad4e81573>\u001b[0m in \u001b[0;36m<module>\u001b[1;34m()\u001b[0m\n\u001b[0;32m      4\u001b[0m     \u001b[0mdf\u001b[0m\u001b[1;33m[\u001b[0m\u001b[0mcol\u001b[0m\u001b[1;33m]\u001b[0m \u001b[1;33m=\u001b[0m \u001b[0mpd\u001b[0m\u001b[1;33m.\u001b[0m\u001b[0mto_numeric\u001b[0m\u001b[1;33m(\u001b[0m\u001b[0mdf\u001b[0m\u001b[1;33m[\u001b[0m\u001b[0mcol\u001b[0m\u001b[1;33m]\u001b[0m\u001b[1;33m)\u001b[0m\u001b[1;33m\u001b[0m\u001b[0m\n\u001b[0;32m      5\u001b[0m \u001b[1;33m\u001b[0m\u001b[0m\n\u001b[1;32m----> 6\u001b[1;33m \u001b[0mdf\u001b[0m\u001b[1;33m[\u001b[0m\u001b[1;34m'Time'\u001b[0m\u001b[1;33m]\u001b[0m \u001b[1;33m=\u001b[0m \u001b[0mpd\u001b[0m\u001b[1;33m.\u001b[0m\u001b[0mto_datetime\u001b[0m\u001b[1;33m(\u001b[0m\u001b[0mdf\u001b[0m\u001b[1;33m[\u001b[0m\u001b[1;34m'Time'\u001b[0m\u001b[1;33m]\u001b[0m\u001b[1;33m)\u001b[0m\u001b[1;33m\u001b[0m\u001b[0m\n\u001b[0m\u001b[0;32m      7\u001b[0m \u001b[1;33m\u001b[0m\u001b[0m\n\u001b[0;32m      8\u001b[0m \u001b[1;33m\u001b[0m\u001b[0m\n",
      "\u001b[1;32mC:\\Anaconda3\\lib\\site-packages\\pandas\\core\\tools\\datetimes.py\u001b[0m in \u001b[0;36mto_datetime\u001b[1;34m(arg, errors, dayfirst, yearfirst, utc, box, format, exact, unit, infer_datetime_format, origin, cache)\u001b[0m\n\u001b[0;32m    449\u001b[0m         \u001b[1;32melse\u001b[0m\u001b[1;33m:\u001b[0m\u001b[1;33m\u001b[0m\u001b[0m\n\u001b[0;32m    450\u001b[0m             \u001b[1;32mfrom\u001b[0m \u001b[0mpandas\u001b[0m \u001b[1;32mimport\u001b[0m \u001b[0mSeries\u001b[0m\u001b[1;33m\u001b[0m\u001b[0m\n\u001b[1;32m--> 451\u001b[1;33m             \u001b[0mvalues\u001b[0m \u001b[1;33m=\u001b[0m \u001b[0m_convert_listlike\u001b[0m\u001b[1;33m(\u001b[0m\u001b[0marg\u001b[0m\u001b[1;33m.\u001b[0m\u001b[0m_values\u001b[0m\u001b[1;33m,\u001b[0m \u001b[1;32mTrue\u001b[0m\u001b[1;33m,\u001b[0m \u001b[0mformat\u001b[0m\u001b[1;33m)\u001b[0m\u001b[1;33m\u001b[0m\u001b[0m\n\u001b[0m\u001b[0;32m    452\u001b[0m             \u001b[0mresult\u001b[0m \u001b[1;33m=\u001b[0m \u001b[0mSeries\u001b[0m\u001b[1;33m(\u001b[0m\u001b[0mvalues\u001b[0m\u001b[1;33m,\u001b[0m \u001b[0mindex\u001b[0m\u001b[1;33m=\u001b[0m\u001b[0marg\u001b[0m\u001b[1;33m.\u001b[0m\u001b[0mindex\u001b[0m\u001b[1;33m,\u001b[0m \u001b[0mname\u001b[0m\u001b[1;33m=\u001b[0m\u001b[0marg\u001b[0m\u001b[1;33m.\u001b[0m\u001b[0mname\u001b[0m\u001b[1;33m)\u001b[0m\u001b[1;33m\u001b[0m\u001b[0m\n\u001b[0;32m    453\u001b[0m     \u001b[1;32melif\u001b[0m \u001b[0misinstance\u001b[0m\u001b[1;33m(\u001b[0m\u001b[0marg\u001b[0m\u001b[1;33m,\u001b[0m \u001b[1;33m(\u001b[0m\u001b[0mABCDataFrame\u001b[0m\u001b[1;33m,\u001b[0m \u001b[0mMutableMapping\u001b[0m\u001b[1;33m)\u001b[0m\u001b[1;33m)\u001b[0m\u001b[1;33m:\u001b[0m\u001b[1;33m\u001b[0m\u001b[0m\n",
      "\u001b[1;32mC:\\Anaconda3\\lib\\site-packages\\pandas\\core\\tools\\datetimes.py\u001b[0m in \u001b[0;36m_convert_listlike\u001b[1;34m(arg, box, format, name, tz)\u001b[0m\n\u001b[0;32m    378\u001b[0m                 \u001b[1;32mreturn\u001b[0m \u001b[0mDatetimeIndex\u001b[0m\u001b[1;33m.\u001b[0m\u001b[0m_simple_new\u001b[0m\u001b[1;33m(\u001b[0m\u001b[0mvalues\u001b[0m\u001b[1;33m,\u001b[0m \u001b[0mname\u001b[0m\u001b[1;33m=\u001b[0m\u001b[0mname\u001b[0m\u001b[1;33m,\u001b[0m \u001b[0mtz\u001b[0m\u001b[1;33m=\u001b[0m\u001b[0mtz\u001b[0m\u001b[1;33m)\u001b[0m\u001b[1;33m\u001b[0m\u001b[0m\n\u001b[0;32m    379\u001b[0m             \u001b[1;32mexcept\u001b[0m \u001b[1;33m(\u001b[0m\u001b[0mValueError\u001b[0m\u001b[1;33m,\u001b[0m \u001b[0mTypeError\u001b[0m\u001b[1;33m)\u001b[0m\u001b[1;33m:\u001b[0m\u001b[1;33m\u001b[0m\u001b[0m\n\u001b[1;32m--> 380\u001b[1;33m                 \u001b[1;32mraise\u001b[0m \u001b[0me\u001b[0m\u001b[1;33m\u001b[0m\u001b[0m\n\u001b[0m\u001b[0;32m    381\u001b[0m \u001b[1;33m\u001b[0m\u001b[0m\n\u001b[0;32m    382\u001b[0m     \u001b[1;32mif\u001b[0m \u001b[0marg\u001b[0m \u001b[1;32mis\u001b[0m \u001b[1;32mNone\u001b[0m\u001b[1;33m:\u001b[0m\u001b[1;33m\u001b[0m\u001b[0m\n",
      "\u001b[1;32mC:\\Anaconda3\\lib\\site-packages\\pandas\\core\\tools\\datetimes.py\u001b[0m in \u001b[0;36m_convert_listlike\u001b[1;34m(arg, box, format, name, tz)\u001b[0m\n\u001b[0;32m    366\u001b[0m                     \u001b[0mdayfirst\u001b[0m\u001b[1;33m=\u001b[0m\u001b[0mdayfirst\u001b[0m\u001b[1;33m,\u001b[0m\u001b[1;33m\u001b[0m\u001b[0m\n\u001b[0;32m    367\u001b[0m                     \u001b[0myearfirst\u001b[0m\u001b[1;33m=\u001b[0m\u001b[0myearfirst\u001b[0m\u001b[1;33m,\u001b[0m\u001b[1;33m\u001b[0m\u001b[0m\n\u001b[1;32m--> 368\u001b[1;33m                     \u001b[0mrequire_iso8601\u001b[0m\u001b[1;33m=\u001b[0m\u001b[0mrequire_iso8601\u001b[0m\u001b[1;33m\u001b[0m\u001b[0m\n\u001b[0m\u001b[0;32m    369\u001b[0m                 )\n\u001b[0;32m    370\u001b[0m \u001b[1;33m\u001b[0m\u001b[0m\n",
      "\u001b[1;32mpandas\\_libs\\tslib.pyx\u001b[0m in \u001b[0;36mpandas._libs.tslib.array_to_datetime\u001b[1;34m()\u001b[0m\n",
      "\u001b[1;32mpandas\\_libs\\tslib.pyx\u001b[0m in \u001b[0;36mpandas._libs.tslib.array_to_datetime\u001b[1;34m()\u001b[0m\n",
      "\u001b[1;32mpandas\\_libs\\tslib.pyx\u001b[0m in \u001b[0;36mpandas._libs.tslib.array_to_datetime\u001b[1;34m()\u001b[0m\n",
      "\u001b[1;32mpandas\\_libs\\tslibs\\parsing.pyx\u001b[0m in \u001b[0;36mpandas._libs.tslibs.parsing.parse_datetime_string\u001b[1;34m()\u001b[0m\n",
      "\u001b[1;32mC:\\Anaconda3\\lib\\site-packages\\dateutil\\parser\\_parser.py\u001b[0m in \u001b[0;36mparse\u001b[1;34m(timestr, parserinfo, **kwargs)\u001b[0m\n\u001b[0;32m   1354\u001b[0m         \u001b[1;32mreturn\u001b[0m \u001b[0mparser\u001b[0m\u001b[1;33m(\u001b[0m\u001b[0mparserinfo\u001b[0m\u001b[1;33m)\u001b[0m\u001b[1;33m.\u001b[0m\u001b[0mparse\u001b[0m\u001b[1;33m(\u001b[0m\u001b[0mtimestr\u001b[0m\u001b[1;33m,\u001b[0m \u001b[1;33m**\u001b[0m\u001b[0mkwargs\u001b[0m\u001b[1;33m)\u001b[0m\u001b[1;33m\u001b[0m\u001b[0m\n\u001b[0;32m   1355\u001b[0m     \u001b[1;32melse\u001b[0m\u001b[1;33m:\u001b[0m\u001b[1;33m\u001b[0m\u001b[0m\n\u001b[1;32m-> 1356\u001b[1;33m         \u001b[1;32mreturn\u001b[0m \u001b[0mDEFAULTPARSER\u001b[0m\u001b[1;33m.\u001b[0m\u001b[0mparse\u001b[0m\u001b[1;33m(\u001b[0m\u001b[0mtimestr\u001b[0m\u001b[1;33m,\u001b[0m \u001b[1;33m**\u001b[0m\u001b[0mkwargs\u001b[0m\u001b[1;33m)\u001b[0m\u001b[1;33m\u001b[0m\u001b[0m\n\u001b[0m\u001b[0;32m   1357\u001b[0m \u001b[1;33m\u001b[0m\u001b[0m\n\u001b[0;32m   1358\u001b[0m \u001b[1;33m\u001b[0m\u001b[0m\n",
      "\u001b[1;32mC:\\Anaconda3\\lib\\site-packages\\dateutil\\parser\\_parser.py\u001b[0m in \u001b[0;36mparse\u001b[1;34m(self, timestr, default, ignoretz, tzinfos, **kwargs)\u001b[0m\n\u001b[0;32m    651\u001b[0m             \u001b[1;32mraise\u001b[0m \u001b[0mValueError\u001b[0m\u001b[1;33m(\u001b[0m\u001b[1;34m\"String does not contain a date:\"\u001b[0m\u001b[1;33m,\u001b[0m \u001b[0mtimestr\u001b[0m\u001b[1;33m)\u001b[0m\u001b[1;33m\u001b[0m\u001b[0m\n\u001b[0;32m    652\u001b[0m \u001b[1;33m\u001b[0m\u001b[0m\n\u001b[1;32m--> 653\u001b[1;33m         \u001b[0mret\u001b[0m \u001b[1;33m=\u001b[0m \u001b[0mself\u001b[0m\u001b[1;33m.\u001b[0m\u001b[0m_build_naive\u001b[0m\u001b[1;33m(\u001b[0m\u001b[0mres\u001b[0m\u001b[1;33m,\u001b[0m \u001b[0mdefault\u001b[0m\u001b[1;33m)\u001b[0m\u001b[1;33m\u001b[0m\u001b[0m\n\u001b[0m\u001b[0;32m    654\u001b[0m \u001b[1;33m\u001b[0m\u001b[0m\n\u001b[0;32m    655\u001b[0m         \u001b[1;32mif\u001b[0m \u001b[1;32mnot\u001b[0m \u001b[0mignoretz\u001b[0m\u001b[1;33m:\u001b[0m\u001b[1;33m\u001b[0m\u001b[0m\n",
      "\u001b[1;32mC:\\Anaconda3\\lib\\site-packages\\dateutil\\parser\\_parser.py\u001b[0m in \u001b[0;36m_build_naive\u001b[1;34m(self, res, default)\u001b[0m\n\u001b[0;32m   1225\u001b[0m                 \u001b[0mrepl\u001b[0m\u001b[1;33m[\u001b[0m\u001b[1;34m'day'\u001b[0m\u001b[1;33m]\u001b[0m \u001b[1;33m=\u001b[0m \u001b[0mmonthrange\u001b[0m\u001b[1;33m(\u001b[0m\u001b[0mcyear\u001b[0m\u001b[1;33m,\u001b[0m \u001b[0mcmonth\u001b[0m\u001b[1;33m)\u001b[0m\u001b[1;33m[\u001b[0m\u001b[1;36m1\u001b[0m\u001b[1;33m]\u001b[0m\u001b[1;33m\u001b[0m\u001b[0m\n\u001b[0;32m   1226\u001b[0m \u001b[1;33m\u001b[0m\u001b[0m\n\u001b[1;32m-> 1227\u001b[1;33m         \u001b[0mnaive\u001b[0m \u001b[1;33m=\u001b[0m \u001b[0mdefault\u001b[0m\u001b[1;33m.\u001b[0m\u001b[0mreplace\u001b[0m\u001b[1;33m(\u001b[0m\u001b[1;33m**\u001b[0m\u001b[0mrepl\u001b[0m\u001b[1;33m)\u001b[0m\u001b[1;33m\u001b[0m\u001b[0m\n\u001b[0m\u001b[0;32m   1228\u001b[0m \u001b[1;33m\u001b[0m\u001b[0m\n\u001b[0;32m   1229\u001b[0m         \u001b[1;32mif\u001b[0m \u001b[0mres\u001b[0m\u001b[1;33m.\u001b[0m\u001b[0mweekday\u001b[0m \u001b[1;32mis\u001b[0m \u001b[1;32mnot\u001b[0m \u001b[1;32mNone\u001b[0m \u001b[1;32mand\u001b[0m \u001b[1;32mnot\u001b[0m \u001b[0mres\u001b[0m\u001b[1;33m.\u001b[0m\u001b[0mday\u001b[0m\u001b[1;33m:\u001b[0m\u001b[1;33m\u001b[0m\u001b[0m\n",
      "\u001b[1;31mValueError\u001b[0m: hour must be in 0..23"
     ]
    }
   ],
   "source": [
    "# df.columns   # Index(['Time', 'SO2', 'NO2', 'O3', 'CO', 'PM10', 'PM2.5'], dtype='object')\n",
    "\n",
    "for col in list(df.columns)[1:]:\n",
    "    df[col] = pd.to_numeric(df[col])\n",
    "    \n",
    "df['Time'] = pd.to_datetime(df['Time'])    \n",
    "    \n",
    "    \n",
    "# Dtype 변환 확인\n",
    "# type(df['PM10'][0])      # numpy.int64\n",
    "# type(df['PM2.5'][0])     # numpy.int64\n",
    "# TEST ... Time Format\n",
    "\n",
    "# time_format = '%d/%m/%y %H:00'\n",
    "TIME_FORMAT = '%Y.%m/%d(%a)-%H:00'\n",
    "TIMES = [ datetime.datetime.strftime(timestamp, TIME_FORMAT) for timestamp in df.Time.tolist()]\n",
    "df['TIMES'] = TIMES\n",
    "df.head()"
   ]
  },
  {
   "cell_type": "code",
   "execution_count": 36,
   "metadata": {},
   "outputs": [],
   "source": [
    "# 그래프 함수의 정의\n",
    "\n",
    "def df_plot(df_column): \n",
    "    # plt.figure(figsize=(10,4))\n",
    "    plt.plot(df_column)\n",
    "    \"\"\" 그래프에 텍스트를 입히는 옵션 \"\"\"\n",
    "    plt.title(\"DATA PLOTTING\")        # 타이틀\n",
    "    plt.xlabel('[TIMES]')                      # x 라벨\n",
    "    plt.ylabel(df_column.name)                   # y 라벨\n",
    "    plt.legend()\n",
    "    plt.xticks(df.index, df.TIMES, rotation=90)\n",
    "    \n",
    "def df_hist(df_column):\n",
    "    plt.hist(df_column, alpha=0.7)\n",
    "    \"\"\" 그래프에 텍스트를 입히는 옵션 \"\"\"\n",
    "    plt.title(\"DATA HISTOGRAM\")        # 타이틀\n",
    "    plt.xlabel(COLUMNS[:1])                      # x 라벨\n",
    "    plt.ylabel(df_column.name)                   # y 라벨\n",
    "    \n",
    "    \n",
    "def df_scatter(df_col1, df_col2):\n",
    "    plt.scatter(df_col1, df_col2,alpha=0.2)\n",
    "    \"\"\" 그래프에 텍스트를 입히는 옵션 \"\"\"\n",
    "    plt.title(\n",
    "        \"SCATTER CHART with {},{}\".format(\n",
    "            df_col1.name, \n",
    "            df_col2.name,))        # 타이틀\n",
    "    plt.xlabel(df_col2.name)                     # x 라벨\n",
    "    plt.ylabel(df_col1.name)                     # y 라벨\n",
    "    \n",
    "def plot_2charts(data_series, xlabel):  \n",
    "    \"\"\"\n",
    "    # 히스토그램 + 박스플롯을 4x4화면 윗쪽 2개로 플롯해줍니다.\n",
    "    \"\"\"\n",
    "    plt.figure()\n",
    "    plt.subplot(221)\n",
    "    plt.hist(data_series)\n",
    "    plt.xlabel(xlabel)\n",
    "    \n",
    "    plt.subplot(222)\n",
    "    sns.boxplot(data_series)\n",
    "    plt.show()    "
   ]
  },
  {
   "cell_type": "code",
   "execution_count": 37,
   "metadata": {},
   "outputs": [],
   "source": [
    "def plot_detail(pd_series, color='blue', marker='^', linestyle='--', xtick_interval=2, ytick_interval=5,):\n",
    "    \"\"\"\n",
    "    style = color='blue', marker='^', linestyle='--'   ... default style\n",
    "    linestyle = '-', '--', '-.', ':', '', (offset, on-off-seq), ...\n",
    "    marker_style = '.', ',', 'o', 'v', '^', '<', '>', '1', '2', '3', '4', \n",
    "                    's', 'p', '*', 'h', 'H', '+', 'x', 'D', 'd', '|', '_', \n",
    "    xtick_interval = 2, ytick_interval = 5\n",
    "    https://matplotlib.org/api/_as_gen/matplotlib.pyplot.plot.html?highlight=plot%20color\n",
    "    \"\"\"\n",
    "    this_func_name = sys._getframe().f_code.co_name\n",
    "    ytick_start = pd_series.min() - (pd_series.min() % ytick_interval)\n",
    "    ytick_end = pd_series.max() - (pd_series.max() % ytick_interval) + ytick_interval\n",
    "\n",
    "    sorted_ytick_label = sorted([\n",
    "            *np.arange(ytick_start, ytick_end, ytick_interval).tolist(), \n",
    "            pd_series.min(), \n",
    "            pd_series.max(), \n",
    "            pd_series.mean(), \n",
    "            pd_series.median()])\n",
    "\n",
    "    plt.plot(pd_series, color=color, marker=marker, linestyle=linestyle)\n",
    "    plt.yticks(sorted_ytick_label, rotation=0)\n",
    "    plt.xticks(df.index, df.TIMES, rotation=90)\n",
    "    plt.title(f'funcname={this_func_name} -- {pd_series.name}')\n",
    "    plt.legend()\n",
    "    plt.grid()"
   ]
  },
  {
   "cell_type": "markdown",
   "metadata": {},
   "source": [
    "## 데이터 분포형상 확인\n",
    " ['SO2', 'NO2', 'O3', 'CO', 'PM10', 'PM2.5']"
   ]
  },
  {
   "cell_type": "code",
   "execution_count": 38,
   "metadata": {},
   "outputs": [
    {
     "data": {
      "image/png": "[encoded data removed]",
      "text/plain": [
       "<Figure size 432x288 with 2 Axes>"
      ]
     },
     "metadata": {},
     "output_type": "display_data"
    },
    {
     "data": {
      "image/png": "[encoded data removed]",
      "text/plain": [
       "<Figure size 432x288 with 2 Axes>"
      ]
     },
     "metadata": {},
     "output_type": "display_data"
    },
    {
     "data": {
      "image/png": "[encoded data removed]",
      "text/plain": [
       "<Figure size 432x288 with 2 Axes>"
      ]
     },
     "metadata": {},
     "output_type": "display_data"
    },
    {
     "data": {
      "image/png": "[encoded data removed]",
      "text/plain": [
       "<Figure size 432x288 with 2 Axes>"
      ]
     },
     "metadata": {},
     "output_type": "display_data"
    },
    {
     "data": {
      "image/png": "[encoded data removed]",
      "text/plain": [
       "<Figure size 432x288 with 2 Axes>"
      ]
     },
     "metadata": {},
     "output_type": "display_data"
    },
    {
     "data": {
      "image/png": "[encoded data removed]",
      "text/plain": [
       "<Figure size 432x288 with 2 Axes>"
      ]
     },
     "metadata": {},
     "output_type": "display_data"
    }
   ],
   "source": [
    "for item in COLUMNS[1:]:\n",
    "    plot_2charts(data_series=df[item], xlabel=item)"
   ]
  },
  {
   "cell_type": "code",
   "execution_count": 39,
   "metadata": {},
   "outputs": [],
   "source": [
    "# CO값 차이가 커서,(9로 나눠서 한 그래프에 표시)..['SO2', 'NO2', 'O3', 'CO_mod',]\n",
    "# df 에 'NEW'칼럼 추가하기 (df.CO값을 복사해서 칸을 늘림)\n",
    "df['CO_mod'] = pd.Series(df['CO'].copy() / 11, index=df.index)            # CO를    1/12\n",
    "df['PM10_mod'] = pd.Series(df['PM10'].copy() / 250, index=df.index)       # PM10을  1/250\n",
    "df['PM2.5_mod'] = pd.Series(df['PM2.5'].copy() / 120, index=df.index)     # PM2.5를 1/120"
   ]
  },
  {
   "cell_type": "code",
   "execution_count": 40,
   "metadata": {},
   "outputs": [
    {
     "data": {
      "text/html": [
       "<div>\n",
       "<style scoped>\n",
       "    .dataframe tbody tr th:only-of-type {\n",
       "        vertical-align: middle;\n",
       "    }\n",
       "\n",
       "    .dataframe tbody tr th {\n",
       "        vertical-align: top;\n",
       "    }\n",
       "\n",
       "    .dataframe thead th {\n",
       "        text-align: right;\n",
       "    }\n",
       "</style>\n",
       "<table border=\"1\" class=\"dataframe\">\n",
       "  <thead>\n",
       "    <tr style=\"text-align: right;\">\n",
       "      <th></th>\n",
       "      <th>SO2</th>\n",
       "      <th>NO2</th>\n",
       "      <th>O3</th>\n",
       "      <th>CO</th>\n",
       "      <th>PM10</th>\n",
       "      <th>PM2.5</th>\n",
       "      <th>CO_mod</th>\n",
       "      <th>PM10_mod</th>\n",
       "      <th>PM2.5_mod</th>\n",
       "    </tr>\n",
       "  </thead>\n",
       "  <tbody>\n",
       "    <tr>\n",
       "      <th>count</th>\n",
       "      <td>48.000000</td>\n",
       "      <td>48.000000</td>\n",
       "      <td>48.000000</td>\n",
       "      <td>48.000000</td>\n",
       "      <td>48.000000</td>\n",
       "      <td>48.000000</td>\n",
       "      <td>48.000000</td>\n",
       "      <td>48.000000</td>\n",
       "      <td>48.000000</td>\n",
       "    </tr>\n",
       "    <tr>\n",
       "      <th>mean</th>\n",
       "      <td>0.006833</td>\n",
       "      <td>0.034833</td>\n",
       "      <td>0.011250</td>\n",
       "      <td>0.658333</td>\n",
       "      <td>46.791667</td>\n",
       "      <td>21.250000</td>\n",
       "      <td>0.059848</td>\n",
       "      <td>0.187167</td>\n",
       "      <td>0.177083</td>\n",
       "    </tr>\n",
       "    <tr>\n",
       "      <th>std</th>\n",
       "      <td>0.001155</td>\n",
       "      <td>0.014909</td>\n",
       "      <td>0.008695</td>\n",
       "      <td>0.082083</td>\n",
       "      <td>10.770247</td>\n",
       "      <td>6.550946</td>\n",
       "      <td>0.007462</td>\n",
       "      <td>0.043081</td>\n",
       "      <td>0.054591</td>\n",
       "    </tr>\n",
       "    <tr>\n",
       "      <th>min</th>\n",
       "      <td>0.005000</td>\n",
       "      <td>0.008000</td>\n",
       "      <td>0.002000</td>\n",
       "      <td>0.500000</td>\n",
       "      <td>31.000000</td>\n",
       "      <td>12.000000</td>\n",
       "      <td>0.045455</td>\n",
       "      <td>0.124000</td>\n",
       "      <td>0.100000</td>\n",
       "    </tr>\n",
       "    <tr>\n",
       "      <th>25%</th>\n",
       "      <td>0.006000</td>\n",
       "      <td>0.022750</td>\n",
       "      <td>0.002750</td>\n",
       "      <td>0.600000</td>\n",
       "      <td>34.750000</td>\n",
       "      <td>15.500000</td>\n",
       "      <td>0.054545</td>\n",
       "      <td>0.139000</td>\n",
       "      <td>0.129167</td>\n",
       "    </tr>\n",
       "    <tr>\n",
       "      <th>50%</th>\n",
       "      <td>0.007000</td>\n",
       "      <td>0.039000</td>\n",
       "      <td>0.010500</td>\n",
       "      <td>0.700000</td>\n",
       "      <td>50.000000</td>\n",
       "      <td>20.000000</td>\n",
       "      <td>0.063636</td>\n",
       "      <td>0.200000</td>\n",
       "      <td>0.166667</td>\n",
       "    </tr>\n",
       "    <tr>\n",
       "      <th>75%</th>\n",
       "      <td>0.007000</td>\n",
       "      <td>0.046000</td>\n",
       "      <td>0.016500</td>\n",
       "      <td>0.700000</td>\n",
       "      <td>54.250000</td>\n",
       "      <td>27.250000</td>\n",
       "      <td>0.063636</td>\n",
       "      <td>0.217000</td>\n",
       "      <td>0.227083</td>\n",
       "    </tr>\n",
       "    <tr>\n",
       "      <th>max</th>\n",
       "      <td>0.009000</td>\n",
       "      <td>0.053000</td>\n",
       "      <td>0.028000</td>\n",
       "      <td>0.800000</td>\n",
       "      <td>65.000000</td>\n",
       "      <td>31.000000</td>\n",
       "      <td>0.072727</td>\n",
       "      <td>0.260000</td>\n",
       "      <td>0.258333</td>\n",
       "    </tr>\n",
       "  </tbody>\n",
       "</table>\n",
       "</div>"
      ],
      "text/plain": [
       "             SO2        NO2         O3         CO       PM10      PM2.5  \\\n",
       "count  48.000000  48.000000  48.000000  48.000000  48.000000  48.000000   \n",
       "mean    0.006833   0.034833   0.011250   0.658333  46.791667  21.250000   \n",
       "std     0.001155   0.014909   0.008695   0.082083  10.770247   6.550946   \n",
       "min     0.005000   0.008000   0.002000   0.500000  31.000000  12.000000   \n",
       "25%     0.006000   0.022750   0.002750   0.600000  34.750000  15.500000   \n",
       "50%     0.007000   0.039000   0.010500   0.700000  50.000000  20.000000   \n",
       "75%     0.007000   0.046000   0.016500   0.700000  54.250000  27.250000   \n",
       "max     0.009000   0.053000   0.028000   0.800000  65.000000  31.000000   \n",
       "\n",
       "          CO_mod   PM10_mod  PM2.5_mod  \n",
       "count  48.000000  48.000000  48.000000  \n",
       "mean    0.059848   0.187167   0.177083  \n",
       "std     0.007462   0.043081   0.054591  \n",
       "min     0.045455   0.124000   0.100000  \n",
       "25%     0.054545   0.139000   0.129167  \n",
       "50%     0.063636   0.200000   0.166667  \n",
       "75%     0.063636   0.217000   0.227083  \n",
       "max     0.072727   0.260000   0.258333  "
      ]
     },
     "execution_count": 40,
     "metadata": {},
     "output_type": "execute_result"
    }
   ],
   "source": [
    "# 전체 통계정보 보기\n",
    "df.describe()"
   ]
  },
  {
   "cell_type": "code",
   "execution_count": 41,
   "metadata": {},
   "outputs": [
    {
     "data": {
      "text/html": [
       "<div>\n",
       "<style scoped>\n",
       "    .dataframe tbody tr th:only-of-type {\n",
       "        vertical-align: middle;\n",
       "    }\n",
       "\n",
       "    .dataframe tbody tr th {\n",
       "        vertical-align: top;\n",
       "    }\n",
       "\n",
       "    .dataframe thead th {\n",
       "        text-align: right;\n",
       "    }\n",
       "</style>\n",
       "<table border=\"1\" class=\"dataframe\">\n",
       "  <thead>\n",
       "    <tr style=\"text-align: right;\">\n",
       "      <th></th>\n",
       "      <th>SO2</th>\n",
       "      <th>NO2</th>\n",
       "      <th>O3</th>\n",
       "      <th>CO</th>\n",
       "      <th>PM10</th>\n",
       "      <th>PM2.5</th>\n",
       "    </tr>\n",
       "  </thead>\n",
       "  <tbody>\n",
       "    <tr>\n",
       "      <th>SO2</th>\n",
       "      <td>1.000000</td>\n",
       "      <td>0.757211</td>\n",
       "      <td>-0.729025</td>\n",
       "      <td>0.553721</td>\n",
       "      <td>0.719119</td>\n",
       "      <td>0.787566</td>\n",
       "    </tr>\n",
       "    <tr>\n",
       "      <th>NO2</th>\n",
       "      <td>0.757211</td>\n",
       "      <td>1.000000</td>\n",
       "      <td>-0.950040</td>\n",
       "      <td>0.783548</td>\n",
       "      <td>0.811513</td>\n",
       "      <td>0.832624</td>\n",
       "    </tr>\n",
       "    <tr>\n",
       "      <th>O3</th>\n",
       "      <td>-0.729025</td>\n",
       "      <td>-0.950040</td>\n",
       "      <td>1.000000</td>\n",
       "      <td>-0.760224</td>\n",
       "      <td>-0.631076</td>\n",
       "      <td>-0.719085</td>\n",
       "    </tr>\n",
       "    <tr>\n",
       "      <th>CO</th>\n",
       "      <td>0.553721</td>\n",
       "      <td>0.783548</td>\n",
       "      <td>-0.760224</td>\n",
       "      <td>1.000000</td>\n",
       "      <td>0.586837</td>\n",
       "      <td>0.629134</td>\n",
       "    </tr>\n",
       "    <tr>\n",
       "      <th>PM10</th>\n",
       "      <td>0.719119</td>\n",
       "      <td>0.811513</td>\n",
       "      <td>-0.631076</td>\n",
       "      <td>0.586837</td>\n",
       "      <td>1.000000</td>\n",
       "      <td>0.948253</td>\n",
       "    </tr>\n",
       "    <tr>\n",
       "      <th>PM2.5</th>\n",
       "      <td>0.787566</td>\n",
       "      <td>0.832624</td>\n",
       "      <td>-0.719085</td>\n",
       "      <td>0.629134</td>\n",
       "      <td>0.948253</td>\n",
       "      <td>1.000000</td>\n",
       "    </tr>\n",
       "  </tbody>\n",
       "</table>\n",
       "</div>"
      ],
      "text/plain": [
       "            SO2       NO2        O3        CO      PM10     PM2.5\n",
       "SO2    1.000000  0.757211 -0.729025  0.553721  0.719119  0.787566\n",
       "NO2    0.757211  1.000000 -0.950040  0.783548  0.811513  0.832624\n",
       "O3    -0.729025 -0.950040  1.000000 -0.760224 -0.631076 -0.719085\n",
       "CO     0.553721  0.783548 -0.760224  1.000000  0.586837  0.629134\n",
       "PM10   0.719119  0.811513 -0.631076  0.586837  1.000000  0.948253\n",
       "PM2.5  0.787566  0.832624 -0.719085  0.629134  0.948253  1.000000"
      ]
     },
     "execution_count": 41,
     "metadata": {},
     "output_type": "execute_result"
    }
   ],
   "source": [
    "# 데이터간 연계성(Correlation) 확인 \n",
    "\n",
    "chk_columns = ['SO2', 'NO2', 'O3', 'CO', 'PM10', 'PM2.5',]\n",
    "chk_dfs = pd.DataFrame(df[col] for col in chk_columns)\n",
    "\n",
    "chk_dfs.T.head(5)   # 방향을 transpose() 시켜줘야 함\n",
    "chk_dfs.T.corr()"
   ]
  },
  {
   "cell_type": "code",
   "execution_count": 42,
   "metadata": {},
   "outputs": [
    {
     "data": {
      "image/png": "[encoded data removed]",
      "text/plain": [
       "<Figure size 504x432 with 2 Axes>"
      ]
     },
     "metadata": {},
     "output_type": "display_data"
    }
   ],
   "source": [
    "# Correlation Heatmap 확인 (양/음의 관계 강도를 이미지로 보여줌)\n",
    "# sns.heatmap(chk_dfs.T.corr())\n",
    "\n",
    "f, ax = plt.subplots(figsize=(7,6))\n",
    "sns.heatmap(chk_dfs.T.corr(), vmax=.8, square=True)\n",
    "plt.savefig(dir_img_heatmap + f'/heatmap_{SAVE_LOG1}.png')"
   ]
  },
  {
   "cell_type": "code",
   "execution_count": 43,
   "metadata": {
    "scrolled": true
   },
   "outputs": [
    {
     "data": {
      "image/png": "[encoded data removed]",
      "text/plain": [
       "<Figure size 749.45x691.2 with 42 Axes>"
      ]
     },
     "metadata": {},
     "output_type": "display_data"
    }
   ],
   "source": [
    "# 전체 분포 및 데이터의 연관성을 보기위해, 타겟 = PM10으로 놓고, 분포확인\n",
    "# example = https://seaborn.pydata.org/generated/seaborn.pairplot.html\n",
    "\n",
    "sns.pairplot(chk_dfs.T, hue='PM10', palette=\"husl\", size=1.6)        # size in inches of each pnnel\n",
    "plt.savefig(dir_img_plot_plot + f'/pairplot_{SAVE_LOG1}.png')\n",
    "\n",
    "plt.show()"
   ]
  },
  {
   "cell_type": "markdown",
   "metadata": {},
   "source": [
    "## 전체 센서값 동향 플로팅\n",
    " - ['Time', 'SO2', 'NO2', 'O3', 'CO', 'PM10', 'PM2.5']\n",
    " - 6개 센서값이 일별 반복패턴을 보임 = 일별 반복패턴의 영향인자? \n",
    " - --> 바람(육풍/해풍)?, 출근시간?, 공장가동시간?, 교통량? 등 ... 확인필요!)\n",
    " - 년간 동향을 분석하면 계절별 패턴이 나옴 --> 년간 영향인자 분석!\n",
    " - --> 바람(편서풍)?, 기온? 중국의 기상인자? 중국 미세먼지(PM10,2.5)유입, 중앙아시아 사막, 기온(빙점기준)"
   ]
  },
  {
   "cell_type": "code",
   "execution_count": 44,
   "metadata": {},
   "outputs": [
    {
     "ename": "AttributeError",
     "evalue": "'DataFrame' object has no attribute 'TIMES'",
     "output_type": "error",
     "traceback": [
      "\u001b[1;31m---------------------------------------------------------------------------\u001b[0m",
      "\u001b[1;31mAttributeError\u001b[0m                            Traceback (most recent call last)",
      "\u001b[1;32m<ipython-input-44-787202b76241>\u001b[0m in \u001b[0;36m<module>\u001b[1;34m()\u001b[0m\n\u001b[0;32m      1\u001b[0m \u001b[0mplt\u001b[0m\u001b[1;33m.\u001b[0m\u001b[0mfigure\u001b[0m\u001b[1;33m(\u001b[0m\u001b[0mfigsize\u001b[0m\u001b[1;33m=\u001b[0m\u001b[1;33m(\u001b[0m\u001b[1;36m6\u001b[0m\u001b[1;33m,\u001b[0m\u001b[1;36m7\u001b[0m\u001b[1;33m)\u001b[0m\u001b[1;33m)\u001b[0m\u001b[1;33m\u001b[0m\u001b[0m\n\u001b[1;32m----> 2\u001b[1;33m \u001b[1;33m[\u001b[0m\u001b[0mdf_plot\u001b[0m\u001b[1;33m(\u001b[0m\u001b[0mdf\u001b[0m\u001b[1;33m[\u001b[0m\u001b[0mcol\u001b[0m\u001b[1;33m]\u001b[0m\u001b[1;33m)\u001b[0m \u001b[1;32mfor\u001b[0m \u001b[0mcol\u001b[0m \u001b[1;32min\u001b[0m \u001b[1;33m[\u001b[0m\u001b[1;34m'SO2'\u001b[0m\u001b[1;33m,\u001b[0m \u001b[1;34m'NO2'\u001b[0m\u001b[1;33m,\u001b[0m \u001b[1;34m'O3'\u001b[0m\u001b[1;33m,\u001b[0m \u001b[1;34m'CO_mod'\u001b[0m\u001b[1;33m,\u001b[0m\u001b[1;34m'PM10_mod'\u001b[0m\u001b[1;33m,\u001b[0m \u001b[1;34m'PM2.5_mod'\u001b[0m\u001b[1;33m,\u001b[0m\u001b[1;33m]\u001b[0m\u001b[1;33m]\u001b[0m\u001b[1;33m\u001b[0m\u001b[0m\n\u001b[0m\u001b[0;32m      3\u001b[0m \u001b[1;33m\u001b[0m\u001b[0m\n\u001b[0;32m      4\u001b[0m \u001b[0mplt\u001b[0m\u001b[1;33m.\u001b[0m\u001b[0mtight_layout\u001b[0m\u001b[1;33m(\u001b[0m\u001b[1;33m)\u001b[0m\u001b[1;33m\u001b[0m\u001b[0m\n\u001b[0;32m      5\u001b[0m \u001b[0mplt\u001b[0m\u001b[1;33m.\u001b[0m\u001b[0msavefig\u001b[0m\u001b[1;33m(\u001b[0m\u001b[0mdir_img_plot_plot\u001b[0m \u001b[1;33m+\u001b[0m \u001b[1;34mf'/plot_all_6_{SAVE_LOG1}.png'\u001b[0m\u001b[1;33m)\u001b[0m\u001b[1;33m\u001b[0m\u001b[0m\n",
      "\u001b[1;32m<ipython-input-44-787202b76241>\u001b[0m in \u001b[0;36m<listcomp>\u001b[1;34m(.0)\u001b[0m\n\u001b[0;32m      1\u001b[0m \u001b[0mplt\u001b[0m\u001b[1;33m.\u001b[0m\u001b[0mfigure\u001b[0m\u001b[1;33m(\u001b[0m\u001b[0mfigsize\u001b[0m\u001b[1;33m=\u001b[0m\u001b[1;33m(\u001b[0m\u001b[1;36m6\u001b[0m\u001b[1;33m,\u001b[0m\u001b[1;36m7\u001b[0m\u001b[1;33m)\u001b[0m\u001b[1;33m)\u001b[0m\u001b[1;33m\u001b[0m\u001b[0m\n\u001b[1;32m----> 2\u001b[1;33m \u001b[1;33m[\u001b[0m\u001b[0mdf_plot\u001b[0m\u001b[1;33m(\u001b[0m\u001b[0mdf\u001b[0m\u001b[1;33m[\u001b[0m\u001b[0mcol\u001b[0m\u001b[1;33m]\u001b[0m\u001b[1;33m)\u001b[0m \u001b[1;32mfor\u001b[0m \u001b[0mcol\u001b[0m \u001b[1;32min\u001b[0m \u001b[1;33m[\u001b[0m\u001b[1;34m'SO2'\u001b[0m\u001b[1;33m,\u001b[0m \u001b[1;34m'NO2'\u001b[0m\u001b[1;33m,\u001b[0m \u001b[1;34m'O3'\u001b[0m\u001b[1;33m,\u001b[0m \u001b[1;34m'CO_mod'\u001b[0m\u001b[1;33m,\u001b[0m\u001b[1;34m'PM10_mod'\u001b[0m\u001b[1;33m,\u001b[0m \u001b[1;34m'PM2.5_mod'\u001b[0m\u001b[1;33m,\u001b[0m\u001b[1;33m]\u001b[0m\u001b[1;33m]\u001b[0m\u001b[1;33m\u001b[0m\u001b[0m\n\u001b[0m\u001b[0;32m      3\u001b[0m \u001b[1;33m\u001b[0m\u001b[0m\n\u001b[0;32m      4\u001b[0m \u001b[0mplt\u001b[0m\u001b[1;33m.\u001b[0m\u001b[0mtight_layout\u001b[0m\u001b[1;33m(\u001b[0m\u001b[1;33m)\u001b[0m\u001b[1;33m\u001b[0m\u001b[0m\n\u001b[0;32m      5\u001b[0m \u001b[0mplt\u001b[0m\u001b[1;33m.\u001b[0m\u001b[0msavefig\u001b[0m\u001b[1;33m(\u001b[0m\u001b[0mdir_img_plot_plot\u001b[0m \u001b[1;33m+\u001b[0m \u001b[1;34mf'/plot_all_6_{SAVE_LOG1}.png'\u001b[0m\u001b[1;33m)\u001b[0m\u001b[1;33m\u001b[0m\u001b[0m\n",
      "\u001b[1;32m<ipython-input-36-6caa65436af7>\u001b[0m in \u001b[0;36mdf_plot\u001b[1;34m(df_column)\u001b[0m\n\u001b[0;32m      9\u001b[0m     \u001b[0mplt\u001b[0m\u001b[1;33m.\u001b[0m\u001b[0mylabel\u001b[0m\u001b[1;33m(\u001b[0m\u001b[0mdf_column\u001b[0m\u001b[1;33m.\u001b[0m\u001b[0mname\u001b[0m\u001b[1;33m)\u001b[0m                   \u001b[1;31m# y 라벨\u001b[0m\u001b[1;33m\u001b[0m\u001b[0m\n\u001b[0;32m     10\u001b[0m     \u001b[0mplt\u001b[0m\u001b[1;33m.\u001b[0m\u001b[0mlegend\u001b[0m\u001b[1;33m(\u001b[0m\u001b[1;33m)\u001b[0m\u001b[1;33m\u001b[0m\u001b[0m\n\u001b[1;32m---> 11\u001b[1;33m     \u001b[0mplt\u001b[0m\u001b[1;33m.\u001b[0m\u001b[0mxticks\u001b[0m\u001b[1;33m(\u001b[0m\u001b[0mdf\u001b[0m\u001b[1;33m.\u001b[0m\u001b[0mindex\u001b[0m\u001b[1;33m,\u001b[0m \u001b[0mdf\u001b[0m\u001b[1;33m.\u001b[0m\u001b[0mTIMES\u001b[0m\u001b[1;33m,\u001b[0m \u001b[0mrotation\u001b[0m\u001b[1;33m=\u001b[0m\u001b[1;36m90\u001b[0m\u001b[1;33m)\u001b[0m\u001b[1;33m\u001b[0m\u001b[0m\n\u001b[0m\u001b[0;32m     12\u001b[0m \u001b[1;33m\u001b[0m\u001b[0m\n\u001b[0;32m     13\u001b[0m \u001b[1;32mdef\u001b[0m \u001b[0mdf_hist\u001b[0m\u001b[1;33m(\u001b[0m\u001b[0mdf_column\u001b[0m\u001b[1;33m)\u001b[0m\u001b[1;33m:\u001b[0m\u001b[1;33m\u001b[0m\u001b[0m\n",
      "\u001b[1;32mC:\\Anaconda3\\lib\\site-packages\\pandas\\core\\generic.py\u001b[0m in \u001b[0;36m__getattr__\u001b[1;34m(self, name)\u001b[0m\n\u001b[0;32m   4370\u001b[0m             \u001b[1;32mif\u001b[0m \u001b[0mself\u001b[0m\u001b[1;33m.\u001b[0m\u001b[0m_info_axis\u001b[0m\u001b[1;33m.\u001b[0m\u001b[0m_can_hold_identifiers_and_holds_name\u001b[0m\u001b[1;33m(\u001b[0m\u001b[0mname\u001b[0m\u001b[1;33m)\u001b[0m\u001b[1;33m:\u001b[0m\u001b[1;33m\u001b[0m\u001b[0m\n\u001b[0;32m   4371\u001b[0m                 \u001b[1;32mreturn\u001b[0m \u001b[0mself\u001b[0m\u001b[1;33m[\u001b[0m\u001b[0mname\u001b[0m\u001b[1;33m]\u001b[0m\u001b[1;33m\u001b[0m\u001b[0m\n\u001b[1;32m-> 4372\u001b[1;33m             \u001b[1;32mreturn\u001b[0m \u001b[0mobject\u001b[0m\u001b[1;33m.\u001b[0m\u001b[0m__getattribute__\u001b[0m\u001b[1;33m(\u001b[0m\u001b[0mself\u001b[0m\u001b[1;33m,\u001b[0m \u001b[0mname\u001b[0m\u001b[1;33m)\u001b[0m\u001b[1;33m\u001b[0m\u001b[0m\n\u001b[0m\u001b[0;32m   4373\u001b[0m \u001b[1;33m\u001b[0m\u001b[0m\n\u001b[0;32m   4374\u001b[0m     \u001b[1;32mdef\u001b[0m \u001b[0m__setattr__\u001b[0m\u001b[1;33m(\u001b[0m\u001b[0mself\u001b[0m\u001b[1;33m,\u001b[0m \u001b[0mname\u001b[0m\u001b[1;33m,\u001b[0m \u001b[0mvalue\u001b[0m\u001b[1;33m)\u001b[0m\u001b[1;33m:\u001b[0m\u001b[1;33m\u001b[0m\u001b[0m\n",
      "\u001b[1;31mAttributeError\u001b[0m: 'DataFrame' object has no attribute 'TIMES'"
     ]
    },
    {
     "data": {
      "image/png": "[encoded data removed]",
      "text/plain": [
       "<Figure size 432x504 with 1 Axes>"
      ]
     },
     "metadata": {},
     "output_type": "display_data"
    }
   ],
   "source": [
    "plt.figure(figsize=(6,7))\n",
    "[df_plot(df[col]) for col in ['SO2', 'NO2', 'O3', 'CO_mod','PM10_mod', 'PM2.5_mod',]]\n",
    "\n",
    "plt.tight_layout()\n",
    "plt.savefig(dir_img_plot_plot + f'/plot_all_6_{SAVE_LOG1}.png')\n",
    "plt.show()"
   ]
  },
  {
   "cell_type": "code",
   "execution_count": null,
   "metadata": {},
   "outputs": [],
   "source": [
    "plt.figure(figsize=(6,6))\n",
    "[df_plot(df[col]) for col in ['SO2', 'NO2', 'O3', 'CO_mod',]]\n",
    "plt.tight_layout()\n",
    "plt.savefig(dir_img_plot_plot + f'/plot_comp4_{SAVE_LOG1}.png')\n",
    "plt.show()"
   ]
  },
  {
   "cell_type": "code",
   "execution_count": null,
   "metadata": {},
   "outputs": [],
   "source": [
    "df_scatter(df.O3, df.NO2)\n",
    "plt.show()\n",
    "\n",
    "df_scatter(df.NO2, df.CO)\n",
    "plt.show()"
   ]
  },
  {
   "cell_type": "code",
   "execution_count": null,
   "metadata": {},
   "outputs": [],
   "source": [
    "[df_plot(df[col]) for col in ['PM10', 'PM2.5']]\n",
    "plt.show()\n",
    "\n",
    "[df_plot(df[col]) for col in ['PM10_mod', 'PM2.5_mod']]\n",
    "plt.show()\n",
    "\n",
    "# 스케터는 플립이 필요없음!\n",
    "df_scatter(df.PM10, df['PM2.5'])\n",
    "plt.legend()"
   ]
  },
  {
   "cell_type": "markdown",
   "metadata": {},
   "source": [
    "## 플립하지 말아야 할 그래프"
   ]
  },
  {
   "cell_type": "code",
   "execution_count": null,
   "metadata": {},
   "outputs": [],
   "source": [
    "[df_plot(df[col]) for col in ['SO2', 'NO2']]\n",
    "plt.show()\n",
    "\n",
    "# 스캐터는 플립할 필요가 없음\n",
    "df_scatter(df.SO2, df.NO2)\n",
    "plt.show()"
   ]
  },
  {
   "cell_type": "code",
   "execution_count": null,
   "metadata": {},
   "outputs": [],
   "source": [
    "# 전체 플로팅 중에 관심사항만 따로 플로팅 해서 관찰하기\n",
    "# [df_plot(df[col]) for col in ['SO2', 'NO2', 'O3', 'CO', 'PM10', 'PM2.5']]\n",
    "# plt.show()\n",
    "\n",
    "[df_plot(df[col]) for col in ['O3', 'CO_mod',]]\n",
    "plt.show()\n",
    "\n",
    "# 스캐터는 플립필요없음!\n",
    "df_scatter(df.O3, df.CO)\n",
    "plt.show()"
   ]
  },
  {
   "cell_type": "code",
   "execution_count": null,
   "metadata": {},
   "outputs": [],
   "source": [
    "[df_hist(df[col]) for col in ['NO2', 'SO2', 'O3', 'CO', 'PM10', 'PM2.5']]\n",
    "plt.savefig(dir_img_plot_scatter + f'/plot_6hist_{SAVE_LOG1}.png')"
   ]
  },
  {
   "cell_type": "code",
   "execution_count": null,
   "metadata": {},
   "outputs": [],
   "source": [
    "[df_hist(df[col]) for col in ['NO2', 'SO2', 'O3', 'CO_mod']]\n",
    "plt.savefig(dir_img_plot_scatter + f'/plot_4hist_modf_{SAVE_LOG1}.png')"
   ]
  },
  {
   "cell_type": "markdown",
   "metadata": {},
   "source": [
    "# http://www.airkorea.or.kr/index\n",
    "- TODO: 웹에서 이미지 다운 / 또는 캡처해서 실시간 영상제공!\n",
    "\n",
    "| **대쉬보드** | ---- | **센서값** |\n",
    "|:-------|:----:|:-------|\n",
    "| ![](./static/img/air_korea_index.png) | ... | ![](./static/img/air_korea_pm_dashboard.png) | \n"
   ]
  },
  {
   "cell_type": "code",
   "execution_count": null,
   "metadata": {
    "scrolled": true
   },
   "outputs": [],
   "source": [
    "print(len(df.PM10))\n",
    "\n",
    "plt.figure(figsize=(7,5))\n",
    "plot_detail(df['PM10'],'red','^',':')\n",
    "plt.tight_layout()\n",
    "\n",
    "plt.savefig(dir_img_plot_plot + f'/plot_PM10_{SAVE_LOG1}.png')\n",
    "plt.show()"
   ]
  },
  {
   "cell_type": "code",
   "execution_count": null,
   "metadata": {
    "scrolled": true
   },
   "outputs": [],
   "source": [
    "plt.figure(figsize=(8,5))\n",
    "plot_detail(df['PM2.5'],'green','^',':')\n",
    "plt.tight_layout()\n",
    "plt.show()\n",
    "\n",
    "plot_detail(df['NO2'],'orange','^',':')\n",
    "plt.show()\n",
    "\n",
    "plot_detail(df['O3'],'red','^',':')\n",
    "plt.show()"
   ]
  },
  {
   "cell_type": "code",
   "execution_count": null,
   "metadata": {},
   "outputs": [],
   "source": []
  },
  {
   "cell_type": "markdown",
   "metadata": {},
   "source": [
    "# https:// earth.nullschool.net\n",
    "- 현재 우리나라 현재상황 [지도](http://bit.ly/2SxRmc4)\n",
    "- TODO: 웹에서 이미지 다운 / 또는 캡처해서 실시간 영상제공!\n",
    "\n",
    "| **2019 1/4(월)** | **4시간 간격 기상변화** |\n",
    "|:--:|:--:|\n",
    "| <img src='./static/img/nulschool/20190104_0800_nulschool.png'> | <img src='./static/img/nulschool/20190104_1300_nulschool.png'> |\n",
    "| 20190104_0800 | 20190104_1300 |\n",
    "| <img src='./static/img/nulschool/20190104_1700_nulschool.png'> | <img src='./static/img/nulschool/20190104_2100_nulschool.png'> |\n",
    "| 20190104_1700 | 20190104_2100 |\n",
    "| <img src='./static/img/nulschool/20190104_2300_nulschool.png'> | <img src='./static/img/nulschool/20190105_0200_nulschool.png'> |\n",
    "| 20190104_2300 (?) 갱신주기가 안맞나? 동일영상?!!(3시간) | 20190105_0200 드디어 갱신됬다! |\n",
    "| <img src='./static/img/nulschool/20190105_0900_nulschool.png'> | <img src='./static/img/nulschool/20190105_1200_nulschool.png'> |\n",
    "| 20190105_0900 격변기! (히드맵 확인) | 20190105_1200 (버거킹에서)?|\n",
    "| <img src='./static/img/nulschool/20190105_1600_nulschool.png'> | <img src='./static/img/nulschool/20190105_2000_nulschool.png'> |\n",
    "| 20190105_1600 토요스터디 중에 | 20190105_2000 4시간간격 열심히!!(수공예)|\n",
    "| <img src='./static/img/nulschool/20190106_1300_nulschool.png'> | <img src='./static/img/nulschool/20190106_1600_nulschool.png'> |\n",
    "| 20190106_1300 밥먹으러 나옴 | 20190106_1600|"
   ]
  },
  {
   "cell_type": "code",
   "execution_count": null,
   "metadata": {},
   "outputs": [],
   "source": [
    "df.info()"
   ]
  },
  {
   "cell_type": "code",
   "execution_count": null,
   "metadata": {},
   "outputs": [],
   "source": [
    "dfn = df.drop_duplicates(\n",
    "            subset='TIMES', \n",
    "            keep='first',\n",
    "        )\\\n",
    "\n",
    "    .filter(\n",
    "        items=[\n",
    "            'TIMES', \n",
    "            'Time', \n",
    "            'SO2', \n",
    "            'NO2', \n",
    "            'O3', \n",
    "            'CO', \n",
    "            'PM10', \n",
    "            'PM2.5'],\n",
    "        )\\\n",
    "\n",
    "    .sort_values(\n",
    "            by=['TIMES'], \n",
    "            ascending=1, \n",
    "            axis=0,\n",
    "        )\\\n",
    "\n",
    "    .set_index('TIMES')\n",
    "\n",
    "dfn.info()"
   ]
  },
  {
   "cell_type": "code",
   "execution_count": null,
   "metadata": {},
   "outputs": [],
   "source": [
    "# Data Frame 을 엑셀로 저장한다. (CSV화일)\n",
    "dfn.to_csv(dir_data + f'/{SAVE_LOG}_air_incheon.csv', sep=',', encoding='utf-8')"
   ]
  },
  {
   "cell_type": "code",
   "execution_count": null,
   "metadata": {},
   "outputs": [],
   "source": []
  }
 ],
 "metadata": {
  "kernelspec": {
   "display_name": "Python 3",
   "language": "python",
   "name": "python3"
  },
  "language_info": {
   "codemirror_mode": {
    "name": "ipython",
    "version": 3
   },
   "file_extension": ".py",
   "mimetype": "text/x-python",
   "name": "python",
   "nbconvert_exporter": "python",
   "pygments_lexer": "ipython3",
   "version": "3.6.5"
  }
 },
 "nbformat": 4,
 "nbformat_minor": 2
}
