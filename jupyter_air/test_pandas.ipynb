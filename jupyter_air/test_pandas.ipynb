{
 "cells": [
  {
   "cell_type": "code",
   "execution_count": 1,
   "metadata": {},
   "outputs": [],
   "source": [
    "import os\n",
    "import glob\n",
    "import numpy as np\n",
    "import pandas as pd"
   ]
  },
  {
   "cell_type": "markdown",
   "metadata": {},
   "source": [
    "# 1.1 중복되는 Row 삭제하기\n",
    "`df1a = df1.drop_duplicates(subset=['A', 'B', 'C'], keep='first')`\n",
    "1. 서브셋 A,B,C 가 모두 동일하면, 처음 데이터를 남기고 나머지는 삭제한다.\n",
    "1. 인덱스는 UID 이기 때문에 인텍스 기준으로 서브셋을 설정하면, 중복데이터 삭제 됨 "
   ]
  },
  {
   "cell_type": "code",
   "execution_count": 2,
   "metadata": {},
   "outputs": [
    {
     "data": {
      "text/html": [
       "<div>\n",
       "<style scoped>\n",
       "    .dataframe tbody tr th:only-of-type {\n",
       "        vertical-align: middle;\n",
       "    }\n",
       "\n",
       "    .dataframe tbody tr th {\n",
       "        vertical-align: top;\n",
       "    }\n",
       "\n",
       "    .dataframe thead th {\n",
       "        text-align: right;\n",
       "    }\n",
       "</style>\n",
       "<table border=\"1\" class=\"dataframe\">\n",
       "  <thead>\n",
       "    <tr style=\"text-align: right;\">\n",
       "      <th></th>\n",
       "      <th>A</th>\n",
       "      <th>B</th>\n",
       "      <th>C</th>\n",
       "    </tr>\n",
       "  </thead>\n",
       "  <tbody>\n",
       "    <tr>\n",
       "      <th>0</th>\n",
       "      <td>foo</td>\n",
       "      <td>0</td>\n",
       "      <td>A</td>\n",
       "    </tr>\n",
       "    <tr>\n",
       "      <th>1</th>\n",
       "      <td>foo</td>\n",
       "      <td>1</td>\n",
       "      <td>A</td>\n",
       "    </tr>\n",
       "    <tr>\n",
       "      <th>2</th>\n",
       "      <td>foo</td>\n",
       "      <td>1</td>\n",
       "      <td>B</td>\n",
       "    </tr>\n",
       "    <tr>\n",
       "      <th>3</th>\n",
       "      <td>bar</td>\n",
       "      <td>1</td>\n",
       "      <td>A</td>\n",
       "    </tr>\n",
       "    <tr>\n",
       "      <th>4</th>\n",
       "      <td>foo</td>\n",
       "      <td>0</td>\n",
       "      <td>A</td>\n",
       "    </tr>\n",
       "  </tbody>\n",
       "</table>\n",
       "</div>"
      ],
      "text/plain": [
       "     A  B  C\n",
       "0  foo  0  A\n",
       "1  foo  1  A\n",
       "2  foo  1  B\n",
       "3  bar  1  A\n",
       "4  foo  0  A"
      ]
     },
     "execution_count": 2,
     "metadata": {},
     "output_type": "execute_result"
    }
   ],
   "source": [
    "# 테스트! = 중복되는 Rows 첫번째 데이터를 남기고 삭제하기 Keep='first', 'last'\n",
    "# Keep=False 인경우는 중복되는것은 아예 삭제하고 남기지 않는다.\n",
    "\n",
    "df_array = {\n",
    "    \"A\":[\"foo\", \"foo\", \"foo\", \"bar\", \"foo\"], \n",
    "    \"B\":[0,1,1,1,0], \n",
    "    \"C\":[\"A\",\"A\",\"B\",\"A\", \"A\"],\n",
    "}\n",
    "\n",
    "df1 = pd.DataFrame(df_array)\n",
    "df1\n",
    "\n",
    "#   A\tB\tC\n",
    "# 0\tfoo\t0\tA\n",
    "# 1\tfoo\t1\tA\n",
    "# 2\tfoo\t1\tB\n",
    "# 3\tbar\t1\tA"
   ]
  },
  {
   "cell_type": "code",
   "execution_count": 3,
   "metadata": {},
   "outputs": [
    {
     "data": {
      "text/html": [
       "<div>\n",
       "<style scoped>\n",
       "    .dataframe tbody tr th:only-of-type {\n",
       "        vertical-align: middle;\n",
       "    }\n",
       "\n",
       "    .dataframe tbody tr th {\n",
       "        vertical-align: top;\n",
       "    }\n",
       "\n",
       "    .dataframe thead th {\n",
       "        text-align: right;\n",
       "    }\n",
       "</style>\n",
       "<table border=\"1\" class=\"dataframe\">\n",
       "  <thead>\n",
       "    <tr style=\"text-align: right;\">\n",
       "      <th></th>\n",
       "      <th>A</th>\n",
       "      <th>B</th>\n",
       "      <th>C</th>\n",
       "    </tr>\n",
       "  </thead>\n",
       "  <tbody>\n",
       "    <tr>\n",
       "      <th>0</th>\n",
       "      <td>foo</td>\n",
       "      <td>0</td>\n",
       "      <td>A</td>\n",
       "    </tr>\n",
       "    <tr>\n",
       "      <th>1</th>\n",
       "      <td>foo</td>\n",
       "      <td>1</td>\n",
       "      <td>A</td>\n",
       "    </tr>\n",
       "    <tr>\n",
       "      <th>2</th>\n",
       "      <td>foo</td>\n",
       "      <td>1</td>\n",
       "      <td>B</td>\n",
       "    </tr>\n",
       "    <tr>\n",
       "      <th>3</th>\n",
       "      <td>bar</td>\n",
       "      <td>1</td>\n",
       "      <td>A</td>\n",
       "    </tr>\n",
       "  </tbody>\n",
       "</table>\n",
       "</div>"
      ],
      "text/plain": [
       "     A  B  C\n",
       "0  foo  0  A\n",
       "1  foo  1  A\n",
       "2  foo  1  B\n",
       "3  bar  1  A"
      ]
     },
     "execution_count": 3,
     "metadata": {},
     "output_type": "execute_result"
    }
   ],
   "source": [
    "# 서브셋 A,B,C 가 모두 동일하면, 처음 데이터를 남기고 나머지는 삭제한다.\n",
    "# 인덱스는 UID 이기 때문에 인텍스 기준으로 서브셋을 설정하면, 중복데이터 삭제됨\n",
    "df1a = df1.drop_duplicates(subset=['A', 'B', 'C'], keep='first')\n",
    "df1a"
   ]
  },
  {
   "cell_type": "markdown",
   "metadata": {},
   "source": [
    "# 1.2 - 그래프 그리드 간격조절\n",
    " - 두개의 그래프의 간격을 각각 조절하기\n",
    " - 두개의 그래프의 간격을 각각 조절하기\n"
   ]
  },
  {
   "cell_type": "code",
   "execution_count": 4,
   "metadata": {},
   "outputs": [
    {
     "data": {
      "text/plain": [
       "<Figure size 640x480 with 2 Axes>"
      ]
     },
     "metadata": {},
     "output_type": "display_data"
    }
   ],
   "source": [
    "from matplotlib import pyplot as plt\n",
    "from matplotlib.ticker import MultipleLocator\n",
    "\n",
    "\n",
    "# Two example plots\n",
    "fig = plt.figure()\n",
    "ax1 = fig.add_subplot(2,1,1)\n",
    "ax2 = fig.add_subplot(2,1,2)\n",
    "\n",
    "spacing = 0.5                # This can be your user specified spacing. \n",
    "minorLocator = MultipleLocator(spacing)\n",
    "ax1.plot(9 * np.random.rand(10))\n",
    "\n",
    "# Set minor tick locations.\n",
    "ax1.yaxis.set_minor_locator(minorLocator)\n",
    "ax1.xaxis.set_minor_locator(minorLocator)\n",
    "\n",
    "# Set grid to use minor tick locations. \n",
    "ax1.grid(which = 'minor')\n",
    "\n",
    "spacing = 1\n",
    "minorLocator = MultipleLocator(spacing)\n",
    "ax2.plot(9 * np.random.rand(10))\n",
    "\n",
    "# Set minor tick locations.\n",
    "ax2.yaxis.set_minor_locator(minorLocator)\n",
    "ax2.xaxis.set_minor_locator(minorLocator)\n",
    "\n",
    "# Set grid to use minor tick locations. \n",
    "ax2.grid(which = 'minor')\n",
    "\n",
    "plt.show()"
   ]
  },
  {
   "cell_type": "markdown",
   "metadata": {},
   "source": [
    "# 1.3 - glob 사용하기 (화일검색)\n",
    " - import glob\n",
    " - glob.glob"
   ]
  },
  {
   "cell_type": "code",
   "execution_count": 5,
   "metadata": {},
   "outputs": [],
   "source": [
    "import os\n",
    "from glob import glob\n",
    "\n",
    "path_data = os.path.join(os.getcwd(),'static', 'data')\n",
    "all_files = glob(os.path.join(path_data, \"*.csv\"))     \n",
    "\n",
    "# advisable to use os.path.join as this makes concatenation OS independent"
   ]
  },
  {
   "cell_type": "code",
   "execution_count": 6,
   "metadata": {},
   "outputs": [
    {
     "name": "stdout",
     "output_type": "stream",
     "text": [
      "air_20190107_1100_Mon.csv\n"
     ]
    }
   ],
   "source": [
    "path_data    # C:\\\\ ... \\jupyter_air\\\\static\\\\data'\n",
    "\n",
    "for file_ in all_files:\n",
    "    file_name = file_.split('\\\\')[-1]\n",
    "    print(file_name)"
   ]
  },
  {
   "cell_type": "markdown",
   "metadata": {},
   "source": [
    "# 1.4 - Plot 이미지 Save 하기\n",
    "- plt.savefig(file_name)"
   ]
  },
  {
   "cell_type": "code",
   "execution_count": 7,
   "metadata": {},
   "outputs": [],
   "source": [
    "import random as rd\n",
    "import numpy as np\n",
    "import matplotlib.pyplot as plt"
   ]
  },
  {
   "cell_type": "code",
   "execution_count": 8,
   "metadata": {
    "scrolled": true
   },
   "outputs": [
    {
     "data": {
      "image/png": "[encoded data removed]",
      "text/plain": [
       "<Figure size 432x288 with 1 Axes>"
      ]
     },
     "metadata": {},
     "output_type": "display_data"
    }
   ],
   "source": [
    "x1 = np.random.randint(15, size=10)\n",
    "x2 = np.random.randint(15, size=10)\n",
    "x3 = np.random.randint(15, size=10)\n",
    "xs = [x1, x2, x3]\n",
    "\n",
    "[plt.plot(x) for x in xs]\n",
    "\n",
    "# plt.show()   # show 전에 Save 를 해야한다 / 뒤에하면 '빈공간' 저장\n",
    "\n",
    "plt.savefig('./static/img/test/foo_bar.png')\n",
    "plt.show()   # show 전에 Save 를 해야한다 / 뒤에하면 '빈공간' 저장"
   ]
  },
  {
   "cell_type": "markdown",
   "metadata": {},
   "source": [
    "# 1.5 - 하위 디렉터리 검색하기\n",
    "- os.getcwd()\n",
    "- os.chdir(abs_data_dir)\n",
    "- os.listdir()"
   ]
  },
  {
   "cell_type": "code",
   "execution_count": 9,
   "metadata": {},
   "outputs": [
    {
     "name": "stdout",
     "output_type": "stream",
     "text": [
      "C:\\Users\\nitt0\\Documents\\Github\\web_beautifulsoup_scrapping\\jupyter_air\n"
     ]
    },
    {
     "data": {
      "text/plain": [
       "['.ipynb_checkpoints',\n",
       " 'air_data_collector.ipynb',\n",
       " 'air_incheon_bs4_00.ipynb',\n",
       " 'air_incheon_bs4_r01_foat64.ipynb',\n",
       " 'air_incheon_bs4_r02_reverse.ipynb',\n",
       " 'air_incheon_overall_r00.ipynb',\n",
       " 'asset',\n",
       " 'static',\n",
       " 'test_pandas.ipynb',\n",
       " 'xls_read_made_data.ipynb']"
      ]
     },
     "execution_count": 9,
     "metadata": {},
     "output_type": "execute_result"
    }
   ],
   "source": [
    "import os \n",
    "\n",
    "# 점프 투 파이썬 06장 파이썬 프로그래밍, 어떻게 시작\n",
    "# 06-6 하위 디렉터리 검색하기 ... https://wikidocs.net/39\n",
    "\n",
    "# abs_data_dir = '/jupyter_air/static/data'\n",
    "abs_data_dir = 'C:/Users/... /jupyter_air/static/data'\n",
    "\n",
    "# os.getcwd()\n",
    "# os.chdir(abs_data_dir)\n",
    "# os.listdir('C:/Users/n.../jupyter_air')    # 타겟위치 '검색'\n",
    "\n",
    "print(os.getcwd())\n",
    "os.listdir(os.getcwd())    # 타겟위치 '검색'"
   ]
  },
  {
   "cell_type": "code",
   "execution_count": 10,
   "metadata": {},
   "outputs": [
    {
     "data": {
      "text/plain": [
       "['20190107_Mon_1100_air_incheon.csv',\n",
       " 'air_20190107_0800_Mon.csv',\n",
       " 'air_20190107_0800_Mon0.csv']"
      ]
     },
     "execution_count": 10,
     "metadata": {},
     "output_type": "execute_result"
    }
   ],
   "source": [
    "dir_work = os.getcwd()          # Jupyter_air\n",
    "dir_subs = [                    # and Below\n",
    "        'static', \n",
    "        'data', \n",
    "        'trash', \n",
    "    ]\n",
    "dir_data = os.path.join(dir_work, *dir_subs)\n",
    "\n",
    "os.listdir(dir_data)"
   ]
  },
  {
   "cell_type": "markdown",
   "metadata": {},
   "source": [
    "# 1.6 - Numpy 어레이 x,y-flip\n",
    "- this"
   ]
  },
  {
   "cell_type": "code",
   "execution_count": 15,
   "metadata": {},
   "outputs": [
    {
     "data": {
      "text/plain": [
       "array([[ 1236,     0,     0,     0,     0],\n",
       "       [21289,     0,     0,     0,     0],\n",
       "       [31289,     0,     0,     0,     0]], dtype=int64)"
      ]
     },
     "execution_count": 15,
     "metadata": {},
     "output_type": "execute_result"
    }
   ],
   "source": [
    "# TEST! \n",
    "# a[:,0] = ['1t','2','3']    # ValueError: invalid literal for int() with base 10: '1t'\n",
    "\n",
    "a = np.zeros((3,5), dtype=np.int64)\n",
    "a[:,0] = ['1236','21289','31289']   # str 인데 int64로 자동인식!\n",
    "a"
   ]
  },
  {
   "cell_type": "code",
   "execution_count": 11,
   "metadata": {},
   "outputs": [
    {
     "name": "stdout",
     "output_type": "stream",
     "text": [
      "[[1 2 3]\n",
      " [4 5 6]\n",
      " [7 8 9]] \n",
      "\n",
      "[[3 2 1]\n",
      " [6 5 4]\n",
      " [9 8 7]]\n"
     ]
    }
   ],
   "source": [
    "# TEST!\n",
    "# numpy.flip  ...  SciPy Documentation\n",
    "# https://docs.scipy.org/doc/numpy/reference/generated/numpy.flip.html\n",
    "\n",
    "_a = [\n",
    "    [1, 2, 3], \n",
    "    [4, 5, 6], \n",
    "    [7, 8, 9],\n",
    "]\n",
    "_a_np = np.array(_a)\n",
    "\n",
    "_a_np_fliped = np.flip(_a_np, 1)    # 0 = 상하플립, 1 = 좌우플립\n",
    "print(_a_np,'\\n')\n",
    "print(_a_np_fliped)"
   ]
  },
  {
   "cell_type": "code",
   "execution_count": 13,
   "metadata": {},
   "outputs": [
    {
     "data": {
      "text/html": [
       "<div>\n",
       "<style scoped>\n",
       "    .dataframe tbody tr th:only-of-type {\n",
       "        vertical-align: middle;\n",
       "    }\n",
       "\n",
       "    .dataframe tbody tr th {\n",
       "        vertical-align: top;\n",
       "    }\n",
       "\n",
       "    .dataframe thead th {\n",
       "        text-align: right;\n",
       "    }\n",
       "</style>\n",
       "<table border=\"1\" class=\"dataframe\">\n",
       "  <thead>\n",
       "    <tr style=\"text-align: right;\">\n",
       "      <th></th>\n",
       "      <th>test1</th>\n",
       "      <th>test2</th>\n",
       "      <th>test3</th>\n",
       "    </tr>\n",
       "  </thead>\n",
       "  <tbody>\n",
       "    <tr>\n",
       "      <th>0</th>\n",
       "      <td>a</td>\n",
       "      <td>1.2</td>\n",
       "      <td>4.20</td>\n",
       "    </tr>\n",
       "    <tr>\n",
       "      <th>1</th>\n",
       "      <td>b</td>\n",
       "      <td>70.0</td>\n",
       "      <td>0.03</td>\n",
       "    </tr>\n",
       "    <tr>\n",
       "      <th>2</th>\n",
       "      <td>x</td>\n",
       "      <td>5.0</td>\n",
       "      <td>0.00</td>\n",
       "    </tr>\n",
       "  </tbody>\n",
       "</table>\n",
       "</div>"
      ],
      "text/plain": [
       "  test1  test2  test3\n",
       "0     a    1.2   4.20\n",
       "1     b   70.0   0.03\n",
       "2     x    5.0   0.00"
      ]
     },
     "execution_count": 13,
     "metadata": {},
     "output_type": "execute_result"
    }
   ],
   "source": [
    "# TEST ... Change data type of columns in Pandas (SOF)\n",
    "# http://bit.ly/2LLSDcY\n",
    "\n",
    "a = [['a', '1.2', '4.2'], ['b', '70', '0.03'], ['x', '5', '0']]\n",
    "\n",
    "adf = pd.DataFrame(a, columns=['test1','test2','test3'])\n",
    "# adf.test2 = pd.to_numeric(adf.test2)\n",
    "# adf.test3 = pd.to_numeric(adf.test3)\n",
    "\n",
    "for col in adf.columns[1:]:\n",
    "    adf[col] = pd.to_numeric(adf[col])\n",
    "\n",
    "adf"
   ]
  },
  {
   "cell_type": "code",
   "execution_count": null,
   "metadata": {},
   "outputs": [],
   "source": [
    "# Pandas DataFrame 오브젝트로 변경한다.\n",
    "# df.index = df.Time      # 인덱스를 타임으로 변경함  .... 인덱스는 UID 중복 불가함(에러)\n",
    "\n",
    "# df = df.drop('column_name', 1)\n",
    "# where 1 is the axis number (0 for rows and 1 for columns.)\n",
    "# df = df.drop('Time', 1) # 1=axis (column) / 0=rows  .... 1컬럼을 삭제하는 방법"
   ]
  },
  {
   "cell_type": "markdown",
   "metadata": {},
   "source": [
    "# 1.7 - \n",
    "- this"
   ]
  },
  {
   "cell_type": "code",
   "execution_count": null,
   "metadata": {},
   "outputs": [],
   "source": []
  },
  {
   "cell_type": "markdown",
   "metadata": {},
   "source": [
    "# 1.8 - \n",
    "- this"
   ]
  },
  {
   "cell_type": "code",
   "execution_count": null,
   "metadata": {},
   "outputs": [],
   "source": []
  },
  {
   "cell_type": "markdown",
   "metadata": {},
   "source": [
    "# 1.9 - \n",
    "- this"
   ]
  },
  {
   "cell_type": "code",
   "execution_count": null,
   "metadata": {},
   "outputs": [],
   "source": []
  },
  {
   "cell_type": "markdown",
   "metadata": {},
   "source": [
    "# 2.0 - \n",
    "- this"
   ]
  },
  {
   "cell_type": "code",
   "execution_count": null,
   "metadata": {},
   "outputs": [],
   "source": []
  },
  {
   "cell_type": "markdown",
   "metadata": {},
   "source": [
    "# 2.1 - \n",
    "- this"
   ]
  },
  {
   "cell_type": "code",
   "execution_count": null,
   "metadata": {},
   "outputs": [],
   "source": []
  }
 ],
 "metadata": {
  "kernelspec": {
   "display_name": "Python 3",
   "language": "python",
   "name": "python3"
  },
  "language_info": {
   "codemirror_mode": {
    "name": "ipython",
    "version": 3
   },
   "file_extension": ".py",
   "mimetype": "text/x-python",
   "name": "python",
   "nbconvert_exporter": "python",
   "pygments_lexer": "ipython3",
   "version": "3.6.5"
  }
 },
 "nbformat": 4,
 "nbformat_minor": 2
}
