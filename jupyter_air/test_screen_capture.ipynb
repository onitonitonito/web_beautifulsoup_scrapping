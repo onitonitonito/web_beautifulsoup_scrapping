{
 "cells": [
  {
   "cell_type": "markdown",
   "metadata": {},
   "source": [
    "# 파이썬 스크린캡처\n",
    "imageGrab 또는 PIL을 이용한 스크린캡처하기\n",
    "- [Python3] 파이썬 화면 캡쳐하기=http://bit.ly/2FsAj7J\n",
    "- 스크린 캡쳐 - Python Snippets \n",
    "- 파이썬 조각 코드 모음집=http://bit.ly/2Fu42gj"
   ]
  },
  {
   "cell_type": "code",
   "execution_count": 1,
   "metadata": {},
   "outputs": [
    {
     "name": "stdout",
     "output_type": "stream",
     "text": [
      "\n",
      "# dir_work,\n",
      "# dir_data,\n",
      "# dir_data_collect,\n",
      "# dir_data_realtime,\n",
      "# dir_data_trash,\n",
      "# dir_img,\n",
      "# dir_img_heatmap,\n",
      "# dir_img_nulschool,\n",
      "# dir_img_plot_plot,\n",
      "# dir_img_plot_scatter,\n",
      "# dir_img_result,\n",
      "# dir_img_test,\n",
      "\n"
     ]
    }
   ],
   "source": [
    "from asset.config import *\n"
   ]
  },
  {
   "cell_type": "code",
   "execution_count": 35,
   "metadata": {},
   "outputs": [],
   "source": [
    "import time \n",
    "from PIL import ImageGrab"
   ]
  },
  {
   "cell_type": "code",
   "execution_count": 36,
   "metadata": {},
   "outputs": [],
   "source": [
    "now = time.localtime() \n",
    "time = \"%04d%02d%02d_%02d%02d%02d\" % (\n",
    "    now.tm_year, \n",
    "    now.tm_mon, \n",
    "    now.tm_mday, \n",
    "    now.tm_hour, \n",
    "    now.tm_min, \n",
    "    now.tm_sec\n",
    ") \n",
    "\n",
    "img=ImageGrab.grab()\n",
    "file_name = f\"/{time}.png\""
   ]
  },
  {
   "cell_type": "code",
   "execution_count": 37,
   "metadata": {},
   "outputs": [
    {
     "data": {
      "text/plain": [
       "'/20190112_191556.png'"
      ]
     },
     "execution_count": 37,
     "metadata": {},
     "output_type": "execute_result"
    }
   ],
   "source": [
    "file_name"
   ]
  },
  {
   "cell_type": "code",
   "execution_count": 38,
   "metadata": {},
   "outputs": [],
   "source": [
    "# 현재 떠 있는 화면을 캡춰한다.\n",
    "\n",
    "img.save(dir_img_test + file_name)"
   ]
  },
  {
   "cell_type": "code",
   "execution_count": null,
   "metadata": {},
   "outputs": [],
   "source": []
  }
 ],
 "metadata": {
  "kernelspec": {
   "display_name": "Python 3",
   "language": "python",
   "name": "python3"
  },
  "language_info": {
   "codemirror_mode": {
    "name": "ipython",
    "version": 3
   },
   "file_extension": ".py",
   "mimetype": "text/x-python",
   "name": "python",
   "nbconvert_exporter": "python",
   "pygments_lexer": "ipython3",
   "version": "3.6.5"
  }
 },
 "nbformat": 4,
 "nbformat_minor": 2
}
