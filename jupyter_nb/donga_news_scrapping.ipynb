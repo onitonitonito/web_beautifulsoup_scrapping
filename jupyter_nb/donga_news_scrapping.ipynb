{
 "cells": [
  {
   "cell_type": "code",
   "execution_count": null,
   "metadata": {},
   "outputs": [],
   "source": []
  },
  {
   "cell_type": "code",
   "execution_count": 1,
   "metadata": {},
   "outputs": [],
   "source": [
    "import os\n",
    "import sys\n",
    "\n",
    "import lxml\n",
    "import urllib.request     # available?\n",
    "import requests\n",
    "import datetime\n",
    "\n",
    "from bs4 import BeautifulSoup\n",
    "from urllib.parse import urlencode, quote"
   ]
  },
  {
   "cell_type": "code",
   "execution_count": 2,
   "metadata": {},
   "outputs": [
    {
     "data": {
      "text/plain": [
       "'2019.01/02(Wed)'"
      ]
     },
     "execution_count": 2,
     "metadata": {},
     "output_type": "execute_result"
    }
   ],
   "source": [
    "datetime_format = datetime.datetime.strptime('2019-01-02 23:00:00', '%Y-%m-%d %H:%M:%S')\n",
    "datetime.datetime.strftime(datetime_format, '%Y.%m/%d(%a)')"
   ]
  },
  {
   "cell_type": "code",
   "execution_count": 3,
   "metadata": {},
   "outputs": [
    {
     "data": {
      "text/plain": [
       "'C:\\\\Users\\\\nitt0\\\\Documents\\\\GitHub\\\\web_beautifulsoup_scrapping\\\\jupyter_nb\\\\web_beautifulsoup_scrapping\\\\static\\\\result\\\\'"
      ]
     },
     "execution_count": 3,
     "metadata": {},
     "output_type": "execute_result"
    }
   ],
   "source": [
    "# 현재 화일이 있는 working dir.\n",
    "root_name = 'web_beautifulsoup_scrapping'\n",
    "\n",
    "dir_work = os.getcwd()\n",
    "\n",
    "ROOT = os.path.join(dir_work, root_name, '')\n",
    "dir_static_result = os.path.join(ROOT, *['static', 'result', '',])\n",
    "dir_static_result"
   ]
  },
  {
   "cell_type": "code",
   "execution_count": 4,
   "metadata": {},
   "outputs": [
    {
     "data": {
      "text/plain": [
       "'http://news.donga.com/search?p=&query=%EB%AF%B8%EC%84%B8%EB%A8%BC%EC%A7%80&check_news=1&more=1&sorting=3&search_date=1&v1=&v2=&range=3'"
      ]
     },
     "execution_count": 4,
     "metadata": {},
     "output_type": "execute_result"
    }
   ],
   "source": [
    "# 이렇게 할 필요는 없었다.\n",
    "KEY_WORD = '미세먼지'\n",
    "\n",
    "TARGET_URL_BEFORE_PAGE_NUM = \"http://news.donga.com/search?p=\"\n",
    "TARGET_URL_BEFORE_KEWORD = '&query='\n",
    "TARGET_URL_REST = '&check_news=1&more=1&sorting=3&search_date=1&v1=&v2=&range=3'\n",
    "\n",
    "OUT_F_NAME = '_1_thadd_article.pdb'\n",
    "\n",
    "# full-queried 타겟URL 작성 (키워드 포함)\n",
    "\n",
    "target_URL = TARGET_URL_BEFORE_PAGE_NUM \\\n",
    "    + TARGET_URL_BEFORE_KEWORD \\\n",
    "    + quote(KEY_WORD) \\\n",
    "    + TARGET_URL_REST\n",
    "target_URL"
   ]
  },
  {
   "cell_type": "code",
   "execution_count": 5,
   "metadata": {},
   "outputs": [
    {
     "data": {
      "text/plain": [
       "'http://news.donga.com/search?p=&query=%EB%AF%B8%EC%84%B8%EB%A8%BC%EC%A7%80&check_news=1&more=1&sorting=1&search_date=1&v1=&v2=&range=3'"
      ]
     },
     "execution_count": 5,
     "metadata": {},
     "output_type": "execute_result"
    }
   ],
   "source": [
    "url = 'http://news.donga.com/search'\n",
    "param_dict = {\n",
    "    'p' : '',\n",
    "    'query' : KEY_WORD,\n",
    "    'check_news' : '1',\n",
    "    'more' : '1',\n",
    "    'sorting' : '1',         # 정확도=3, 최신순=1\n",
    "    'search_date' : '1',\n",
    "    'v1' : '',\n",
    "    'v2' : '',\n",
    "    'range' : '3',  \n",
    "}\n",
    "\n",
    "\n",
    "url_all = url + '?' + urlencode(query=param_dict)\n",
    "url_all"
   ]
  },
  {
   "cell_type": "code",
   "execution_count": 6,
   "metadata": {},
   "outputs": [
    {
     "data": {
      "text/plain": [
       "False"
      ]
     },
     "execution_count": 6,
     "metadata": {},
     "output_type": "execute_result"
    }
   ],
   "source": [
    "target_URL == url_all"
   ]
  },
  {
   "cell_type": "code",
   "execution_count": 7,
   "metadata": {},
   "outputs": [],
   "source": [
    "source_code_from_url = urllib.request.urlopen(url_all)\n",
    "soup = BeautifulSoup(source_code_from_url, 'lxml', from_encoding='utf-8')\n",
    "\n",
    "# select 나 find_all 이나 결과는 똑같다.\n",
    "content_of_articles = soup.select('p.tit')\n",
    "# content_of_articles\n",
    "\n",
    "findings =  soup.find_all('p', 'tit')\n",
    "# findings"
   ]
  },
  {
   "cell_type": "code",
   "execution_count": 8,
   "metadata": {},
   "outputs": [
    {
     "name": "stdout",
     "output_type": "stream",
     "text": [
      "## Search Result for '미세먼지'\n",
      "\n",
      "\n",
      "01,19.02/08(Fri) 충청권, ‘2030 아시아경기’ 공동유치 나섰다 \n",
      "http://news.donga.com/3/all/20190207/94016284/1\n",
      "\n",
      "02,19.02/08(Fri) [윤희웅의 SNS민심]전기차는 성능, 수소차는 주가에 관심 \n",
      "http://news.donga.com/3/all/20190208/94016707/1\n",
      "\n",
      "03,19.02/07(Thu) 대구시, 2022년까지 도심숲 100곳 조성 \n",
      "http://news.donga.com/3/all/20190206/94000023/1\n",
      "\n",
      "04,19.02/07(Thu) [광화문에서/동정민]“서울 하늘을 다시 파랗게”… ‘플래닛 외교’에 나설 때다 \n",
      "http://news.donga.com/3/all/20190207/94000435/1\n",
      "\n",
      "05,19.02/07(Thu) 여야 양보없는 대치-비핵화 빅이슈에… 2월 국회 ‘실종’ 위기 \n",
      "http://news.donga.com/3/all/20190207/94000499/1\n",
      "\n",
      "06,19.02/07(Thu) 지난달 최악 미세먼지, 75%가 중국 등서 왔다 \n",
      "http://news.donga.com/3/all/20190206/94000355/1\n",
      "\n",
      "07,19.02/02(Sat) “매서운 파도에 올라타라” 한겨울 동해는 ‘서핑 천국’ \n",
      "http://news.donga.com/3/all/20190202/93972275/1\n",
      "\n",
      "08,19.02/02(Sat) [동아광장/박상준]20대 청춘남녀, 혐오의 날 내려두고 서로를 품어라 \n",
      "http://news.donga.com/3/all/20190202/93972144/1\n",
      "\n",
      "09,19.02/01(Fri) [기고/이관영]수소경제 주도권 잡아라 \n",
      "http://news.donga.com/3/all/20190201/93958373/1\n",
      "\n",
      "10,19.02/01(Fri) [독자위원회 좌담]손혜원, 권력 이용해 사익 취하려 했다면 강하게 꾸짖어야 \n",
      "http://news.donga.com/3/all/20190201/93958366/1\n",
      "\n",
      "11,19.01/31(Thu) [인천판/게시판]인천 건강강좌 外 \n",
      "http://news.donga.com/3/all/20190130/93938952/1\n",
      "\n",
      "12,19.01/31(Thu) “다이어트-화장품 등 가짜 후기 단속… 생활용품 불신 해소할 것” \n",
      "http://news.donga.com/3/all/20190131/93939580/1\n",
      "\n",
      "13,19.01/30(Wed) LG, 아동시설에 공기청정기 지원 \n",
      "http://news.donga.com/3/all/20190129/93918451/1\n",
      "\n",
      "14,19.01/30(Wed) 부산 사상구 “미세먼지-악취-폐수 꼼짝 마!” \n",
      "http://news.donga.com/3/all/20190129/93919383/1\n",
      "\n",
      "15,19.01/30(Wed) 극한 환경을 이겨낸 강인한 식물의 생명력이 피부를 지켜준다! \n",
      "http://news.donga.com/3/all/20190129/93910282/1\n",
      "\n"
     ]
    }
   ],
   "source": [
    "search_md_string = title_text_string = f\"## Search Result for '{KEY_WORD}'\\n\\n\"\n",
    "# title_text_string = f\"## Search Result for '{KEY_WORD}'\\n\\n\"\n",
    "\n",
    "print(search_md_string)\n",
    "for i, title in enumerate(soup.find_all('p', 'tit'),1):\n",
    "    date_text = title.select('span')[-1].get_text()\n",
    "    datetime_format = datetime.datetime.strptime(date_text, '%Y-%m-%d %H:%M')\n",
    "    date_new = datetime.datetime.strftime(datetime_format, '%y.%m/%d(%a)')\n",
    "\n",
    "    title_text = title.get_text()\\\n",
    "                    .replace('\\n', '')\\\n",
    "                    .replace('  ', '')\\\n",
    "                    .replace(date_text,'')\n",
    "\n",
    "    title_link = title.select('a')\n",
    "    article_URL = title_link[0]['href']\n",
    "    \n",
    "    title_text_string += f\"{i:02}.[{date_new}] {title_text[:35]}..\\n\"\n",
    "    print(f\"{i:02},{date_new} {title_text}\\n{article_URL}\\n\")\n",
    "    search_md_string += f\"{i:02}-[{date_new}] [{title_text}]({article_URL})\\n\"\n",
    "\n",
    "search_md_string += \"<br><br>\\n\""
   ]
  },
  {
   "cell_type": "code",
   "execution_count": 9,
   "metadata": {},
   "outputs": [
    {
     "name": "stdout",
     "output_type": "stream",
     "text": [
      "## Search Result for '미세먼지'\n",
      "\n",
      "01.[19.02/08(Fri)] 충청권, ‘2030 아시아경기’ 공동유치 나섰다 ..\n",
      "02.[19.02/08(Fri)] [윤희웅의 SNS민심]전기차는 성능, 수소차는 주가에 관심 ..\n",
      "03.[19.02/07(Thu)] 대구시, 2022년까지 도심숲 100곳 조성 ..\n",
      "04.[19.02/07(Thu)] [광화문에서/동정민]“서울 하늘을 다시 파랗게”… ‘플래닛 외교..\n",
      "05.[19.02/07(Thu)] 여야 양보없는 대치-비핵화 빅이슈에… 2월 국회 ‘실종’ 위기 ..\n",
      "06.[19.02/07(Thu)] 지난달 최악 미세먼지, 75%가 중국 등서 왔다 ..\n",
      "07.[19.02/02(Sat)] “매서운 파도에 올라타라” 한겨울 동해는 ‘서핑 천국’ ..\n",
      "08.[19.02/02(Sat)] [동아광장/박상준]20대 청춘남녀, 혐오의 날 내려두고 서로를 ..\n",
      "09.[19.02/01(Fri)] [기고/이관영]수소경제 주도권 잡아라 ..\n",
      "10.[19.02/01(Fri)] [독자위원회 좌담]손혜원, 권력 이용해 사익 취하려 했다면 강하..\n",
      "11.[19.01/31(Thu)] [인천판/게시판]인천 건강강좌 外 ..\n",
      "12.[19.01/31(Thu)] “다이어트-화장품 등 가짜 후기 단속… 생활용품 불신 해소할 것..\n",
      "13.[19.01/30(Wed)] LG, 아동시설에 공기청정기 지원 ..\n",
      "14.[19.01/30(Wed)] 부산 사상구 “미세먼지-악취-폐수 꼼짝 마!” ..\n",
      "15.[19.01/30(Wed)] 극한 환경을 이겨낸 강인한 식물의 생명력이 피부를 지켜준다! ..\n",
      "\n"
     ]
    }
   ],
   "source": [
    "print(title_text_string)"
   ]
  },
  {
   "cell_type": "code",
   "execution_count": 10,
   "metadata": {},
   "outputs": [
    {
     "name": "stdout",
     "output_type": "stream",
     "text": [
      "## Search Result for '미세먼지'\n",
      "\n",
      "01-[19.02/08(Fri)] [충청권, ‘2030 아시아경기’ 공동유치 나섰다 ](http://news.donga.com/3/all/20190207/94016284/1)\n",
      "02-[19.02/08(Fri)] [[윤희웅의 SNS민심]전기차는 성능, 수소차는 주가에 관심 ](http://news.donga.com/3/all/20190208/94016707/1)\n",
      "03-[19.02/07(Thu)] [대구시, 2022년까지 도심숲 100곳 조성 ](http://news.donga.com/3/all/20190206/94000023/1)\n",
      "04-[19.02/07(Thu)] [[광화문에서/동정민]“서울 하늘을 다시 파랗게”… ‘플래닛 외교’에 나설 때다 ](http://news.donga.com/3/all/20190207/94000435/1)\n",
      "05-[19.02/07(Thu)] [여야 양보없는 대치-비핵화 빅이슈에… 2월 국회 ‘실종’ 위기 ](http://news.donga.com/3/all/20190207/94000499/1)\n",
      "06-[19.02/07(Thu)] [지난달 최악 미세먼지, 75%가 중국 등서 왔다 ](http://news.donga.com/3/all/20190206/94000355/1)\n",
      "07-[19.02/02(Sat)] [“매서운 파도에 올라타라” 한겨울 동해는 ‘서핑 천국’ ](http://news.donga.com/3/all/20190202/93972275/1)\n",
      "08-[19.02/02(Sat)] [[동아광장/박상준]20대 청춘남녀, 혐오의 날 내려두고 서로를 품어라 ](http://news.donga.com/3/all/20190202/93972144/1)\n",
      "09-[19.02/01(Fri)] [[기고/이관영]수소경제 주도권 잡아라 ](http://news.donga.com/3/all/20190201/93958373/1)\n",
      "10-[19.02/01(Fri)] [[독자위원회 좌담]손혜원, 권력 이용해 사익 취하려 했다면 강하게 꾸짖어야 ](http://news.donga.com/3/all/20190201/93958366/1)\n",
      "11-[19.01/31(Thu)] [[인천판/게시판]인천 건강강좌 外 ](http://news.donga.com/3/all/20190130/93938952/1)\n",
      "12-[19.01/31(Thu)] [“다이어트-화장품 등 가짜 후기 단속… 생활용품 불신 해소할 것” ](http://news.donga.com/3/all/20190131/93939580/1)\n",
      "13-[19.01/30(Wed)] [LG, 아동시설에 공기청정기 지원 ](http://news.donga.com/3/all/20190129/93918451/1)\n",
      "14-[19.01/30(Wed)] [부산 사상구 “미세먼지-악취-폐수 꼼짝 마!” ](http://news.donga.com/3/all/20190129/93919383/1)\n",
      "15-[19.01/30(Wed)] [극한 환경을 이겨낸 강인한 식물의 생명력이 피부를 지켜준다! ](http://news.donga.com/3/all/20190129/93910282/1)\n",
      "<br><br>\n",
      "\n"
     ]
    }
   ],
   "source": [
    "print(search_md_string)"
   ]
  },
  {
   "cell_type": "code",
   "execution_count": null,
   "metadata": {},
   "outputs": [],
   "source": []
  }
 ],
 "metadata": {
  "kernelspec": {
   "display_name": "Python 3",
   "language": "python",
   "name": "python3"
  },
  "language_info": {
   "codemirror_mode": {
    "name": "ipython",
    "version": 3
   },
   "file_extension": ".py",
   "mimetype": "text/x-python",
   "name": "python",
   "nbconvert_exporter": "python",
   "pygments_lexer": "ipython3",
   "version": "3.6.5"
  }
 },
 "nbformat": 4,
 "nbformat_minor": 2
}
