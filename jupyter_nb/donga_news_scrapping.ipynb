{
 "cells": [
  {
   "cell_type": "code",
   "execution_count": 1,
   "metadata": {},
   "outputs": [],
   "source": [
    "# 검색키워드는 & + 연산기호 사용이 가능하다.\n",
    "\n",
    "KEY_WORD = '금잔디'"
   ]
  },
  {
   "cell_type": "code",
   "execution_count": 2,
   "metadata": {},
   "outputs": [],
   "source": [
    "import os\n",
    "import sys\n",
    "\n",
    "import lxml\n",
    "import datetime\n",
    "import urllib.request     # available?\n",
    "import requests\n",
    "\n",
    "from bs4 import BeautifulSoup\n",
    "from urllib.parse import urlencode, quote"
   ]
  },
  {
   "cell_type": "code",
   "execution_count": 3,
   "metadata": {},
   "outputs": [
    {
     "data": {
      "text/plain": [
       "'2019.01/02(Wed)'"
      ]
     },
     "execution_count": 3,
     "metadata": {},
     "output_type": "execute_result"
    }
   ],
   "source": [
    "datetime_format = datetime.datetime.strptime('2019-01-02 23:00:00', '%Y-%m-%d %H:%M:%S')\n",
    "datetime.datetime.strftime(datetime_format, '%Y.%m/%d(%a)')"
   ]
  },
  {
   "cell_type": "code",
   "execution_count": 4,
   "metadata": {},
   "outputs": [
    {
     "data": {
      "text/plain": [
       "'C:\\\\Users\\\\nitt0\\\\Documents\\\\Github\\\\web_beautifulsoup_scrapping\\\\jupyter_nb\\\\web_beautifulsoup_scrapping\\\\_statics\\\\result\\\\'"
      ]
     },
     "execution_count": 4,
     "metadata": {},
     "output_type": "execute_result"
    }
   ],
   "source": [
    "# 현재 화일이 있는 working dir.\n",
    "root_name = 'web_beautifulsoup_scrapping'\n",
    "\n",
    "dir_work = os.getcwd()\n",
    "\n",
    "ROOT = os.path.join(dir_work, root_name, '')\n",
    "dir_static_result = os.path.join(ROOT, *['_statics', 'result', '',])\n",
    "dir_static_result"
   ]
  },
  {
   "cell_type": "code",
   "execution_count": 5,
   "metadata": {},
   "outputs": [
    {
     "data": {
      "text/plain": [
       "'http://news.donga.com/search?p=&query=%EA%B8%88%EC%9E%94%EB%94%94&check_news=1&more=1&sorting=3&search_date=1&v1=&v2=&range=3'"
      ]
     },
     "execution_count": 5,
     "metadata": {},
     "output_type": "execute_result"
    }
   ],
   "source": [
    "# 이렇게 할 필요는 없었다.\n",
    "\n",
    "TARGET_URL_BEFORE_PAGE_NUM = \"http://news.donga.com/search?p=\"\n",
    "TARGET_URL_BEFORE_KEWORD = '&query='\n",
    "TARGET_URL_REST = '&check_news=1&more=1&sorting=3&search_date=1&v1=&v2=&range=3'\n",
    "\n",
    "OUT_F_NAME = '_1_thadd_article.pdb'\n",
    "\n",
    "# full-queried 타겟URL 작성 (키워드 포함)\n",
    "\n",
    "target_URL = TARGET_URL_BEFORE_PAGE_NUM \\\n",
    "    + TARGET_URL_BEFORE_KEWORD \\\n",
    "    + quote(KEY_WORD) \\\n",
    "    + TARGET_URL_REST\n",
    "target_URL"
   ]
  },
  {
   "cell_type": "code",
   "execution_count": 6,
   "metadata": {},
   "outputs": [
    {
     "data": {
      "text/plain": [
       "'http://news.donga.com/search?p=&query=%EA%B8%88%EC%9E%94%EB%94%94&check_news=1&more=1&sorting=1&search_date=1&v1=&v2=&range=3'"
      ]
     },
     "execution_count": 6,
     "metadata": {},
     "output_type": "execute_result"
    }
   ],
   "source": [
    "url = 'http://news.donga.com/search'\n",
    "param_dict = {\n",
    "    'p' : '',\n",
    "    'query' : KEY_WORD,\n",
    "    'check_news' : '1',\n",
    "    'more' : '1',\n",
    "    'sorting' : '1',         # 정확도=3, 최신순=1\n",
    "    'search_date' : '1',\n",
    "    'v1' : '',\n",
    "    'v2' : '',\n",
    "    'range' : '3',  \n",
    "}\n",
    "\n",
    "\n",
    "url_all = url + '?' + urlencode(query=param_dict)\n",
    "url_all"
   ]
  },
  {
   "cell_type": "code",
   "execution_count": 7,
   "metadata": {},
   "outputs": [
    {
     "data": {
      "text/plain": [
       "False"
      ]
     },
     "execution_count": 7,
     "metadata": {},
     "output_type": "execute_result"
    }
   ],
   "source": [
    "target_URL == url_all"
   ]
  },
  {
   "cell_type": "code",
   "execution_count": 8,
   "metadata": {},
   "outputs": [],
   "source": [
    "source_code_from_url = urllib.request.urlopen(url_all)\n",
    "soup = BeautifulSoup(source_code_from_url, 'lxml', from_encoding='utf-8')\n",
    "\n",
    "# select 나 find_all 이나 결과는 똑같다.\n",
    "content_of_articles = soup.select('p.tit')\n",
    "# content_of_articles\n",
    "\n",
    "findings =  soup.find_all('p', 'tit')\n",
    "# findings"
   ]
  },
  {
   "cell_type": "code",
   "execution_count": 9,
   "metadata": {},
   "outputs": [
    {
     "name": "stdout",
     "output_type": "stream",
     "text": [
      "## Search Result for '금잔디'\n",
      "\n",
      "\n",
      "01,18.09/22(Sat) 재외동포와 함께하는 전국노래자랑 \n",
      "http://news.donga.com/3/all/20180921/92124767/1\n",
      "\n",
      "02,17.07/17(Mon) [오늘의 채널A]잠이 보약… 건강지키는 수면법 \n",
      "http://news.donga.com/3/all/20170716/85383457/1\n",
      "\n",
      "03,14.02/17(Mon) [황인숙의 행복한 시 읽기]<221>산 너머 남촌에는 \n",
      "http://news.donga.com/3/all/20140217/60925143/1\n",
      "\n",
      "04,13.06/13(Thu) ‘나쁜 여자’들 “내가 제일 잘나가” \n",
      "http://news.donga.com/3/all/20130613/55823582/1\n",
      "\n",
      "05,13.04/18(Thu) “개성공단 노래자랑 꼭 하고 싶었는데…” \n",
      "http://news.donga.com/3/all/20130418/54512220/1\n",
      "\n",
      "06,12.12/11(Tue) 시청률 고민 ‘청담동 앨리스’에게… 역대 신데렐라들의 가상 조언 \n",
      "http://news.donga.com/3/all/20121211/51485875/1\n",
      "\n",
      "07,12.10/29(Mon) ‘꽃보다 남자’ 금잔디 韓中버전 차이는… 고진감래 신데렐라 vs 자수성가 알파우먼 \n",
      "http://news.donga.com/3/all/20121029/50455705/1\n",
      "\n",
      "08,12.06/06(Wed) 약속지킨 김장훈, 1년만에 다시 ‘연평 아리랑’ \n",
      "http://news.donga.com/3/all/20120606/46790099/1\n",
      "\n",
      "09,12.01/18(Wed) [오늘의 채널A]구준엽, 이지아 언니와 사귄 과거 털어놓다 \n",
      "http://news.donga.com/3/all/20120118/43393185/1\n",
      "\n",
      "10,11.10/12(Wed) [Wedding]발리, ‘행복의 나라’로 데려다 줄 명품 구두 \n",
      "http://news.donga.com/3/all/20111011/41006271/1\n",
      "\n",
      "11,10.05/17(Mon) [알면 산다, 응급 상식]<5>드라마속 오류 \n",
      "http://news.donga.com/3/all/20100517/28392276/1\n",
      "\n",
      "12,09.12/22(Tue) 도자기女… 엣지女… 꽃남… 구사인 볼트 \n",
      "http://news.donga.com/3/all/20091221/24966267/2\n",
      "\n",
      "13,09.12/08(Tue) 말레이시아에 부는 한국어 학습 열풍 \n",
      "http://news.donga.com/3/all/20091207/24643229/1\n",
      "\n"
     ]
    }
   ],
   "source": [
    "search_md_string = title_text_string = f\"## Search Result for '{KEY_WORD}'\\n\\n\"\n",
    "# title_text_string = f\"## Search Result for '{KEY_WORD}'\\n\\n\"\n",
    "\n",
    "print(search_md_string)\n",
    "for i, title in enumerate(soup.find_all('p', 'tit'),1):\n",
    "    date_text = title.select('span')[-1].get_text()\n",
    "    datetime_format = datetime.datetime.strptime(date_text, '%Y-%m-%d %H:%M')\n",
    "    date_new = datetime.datetime.strftime(datetime_format, '%y.%m/%d(%a)')\n",
    "\n",
    "    title_text = title.get_text()\\\n",
    "                    .replace('\\n', '')\\\n",
    "                    .replace('  ', '')\\\n",
    "                    .replace(date_text,'')\n",
    "\n",
    "    title_link = title.select('a')\n",
    "    article_URL = title_link[0]['href']\n",
    "    \n",
    "    title_text_string += f\"{i:02}.[{date_new}] {title_text[:35]}..\\n\"\n",
    "    print(f\"{i:02},{date_new} {title_text}\\n{article_URL}\\n\")\n",
    "    search_md_string += f\"{i:02}-[{date_new}] [{title_text}]({article_URL})\\n\"\n",
    "\n",
    "search_md_string += \"<br><br>\\n\""
   ]
  },
  {
   "cell_type": "code",
   "execution_count": 10,
   "metadata": {},
   "outputs": [
    {
     "name": "stdout",
     "output_type": "stream",
     "text": [
      "## Search Result for '금잔디'\n",
      "\n",
      "01.[18.09/22(Sat)] 재외동포와 함께하는 전국노래자랑 ..\n",
      "02.[17.07/17(Mon)] [오늘의 채널A]잠이 보약… 건강지키는 수면법 ..\n",
      "03.[14.02/17(Mon)] [황인숙의 행복한 시 읽기]<221>산 너머 남촌에는 ..\n",
      "04.[13.06/13(Thu)] ‘나쁜 여자’들 “내가 제일 잘나가” ..\n",
      "05.[13.04/18(Thu)] “개성공단 노래자랑 꼭 하고 싶었는데…” ..\n",
      "06.[12.12/11(Tue)] 시청률 고민 ‘청담동 앨리스’에게… 역대 신데렐라들의 가상 조언..\n",
      "07.[12.10/29(Mon)] ‘꽃보다 남자’ 금잔디 韓中버전 차이는… 고진감래 신데렐라 vs..\n",
      "08.[12.06/06(Wed)] 약속지킨 김장훈, 1년만에 다시 ‘연평 아리랑’ ..\n",
      "09.[12.01/18(Wed)] [오늘의 채널A]구준엽, 이지아 언니와 사귄 과거 털어놓다 ..\n",
      "10.[11.10/12(Wed)] [Wedding]발리, ‘행복의 나라’로 데려다 줄 명품 구두 ..\n",
      "11.[10.05/17(Mon)] [알면 산다, 응급 상식]<5>드라마속 오류 ..\n",
      "12.[09.12/22(Tue)] 도자기女… 엣지女… 꽃남… 구사인 볼트 ..\n",
      "13.[09.12/08(Tue)] 말레이시아에 부는 한국어 학습 열풍 ..\n",
      "\n"
     ]
    }
   ],
   "source": [
    "print(title_text_string)"
   ]
  },
  {
   "cell_type": "code",
   "execution_count": 11,
   "metadata": {},
   "outputs": [
    {
     "name": "stdout",
     "output_type": "stream",
     "text": [
      "## Search Result for '금잔디'\n",
      "\n",
      "01-[18.09/22(Sat)] [재외동포와 함께하는 전국노래자랑 ](http://news.donga.com/3/all/20180921/92124767/1)\n",
      "02-[17.07/17(Mon)] [[오늘의 채널A]잠이 보약… 건강지키는 수면법 ](http://news.donga.com/3/all/20170716/85383457/1)\n",
      "03-[14.02/17(Mon)] [[황인숙의 행복한 시 읽기]<221>산 너머 남촌에는 ](http://news.donga.com/3/all/20140217/60925143/1)\n",
      "04-[13.06/13(Thu)] [‘나쁜 여자’들 “내가 제일 잘나가” ](http://news.donga.com/3/all/20130613/55823582/1)\n",
      "05-[13.04/18(Thu)] [“개성공단 노래자랑 꼭 하고 싶었는데…” ](http://news.donga.com/3/all/20130418/54512220/1)\n",
      "06-[12.12/11(Tue)] [시청률 고민 ‘청담동 앨리스’에게… 역대 신데렐라들의 가상 조언 ](http://news.donga.com/3/all/20121211/51485875/1)\n",
      "07-[12.10/29(Mon)] [‘꽃보다 남자’ 금잔디 韓中버전 차이는… 고진감래 신데렐라 vs 자수성가 알파우먼 ](http://news.donga.com/3/all/20121029/50455705/1)\n",
      "08-[12.06/06(Wed)] [약속지킨 김장훈, 1년만에 다시 ‘연평 아리랑’ ](http://news.donga.com/3/all/20120606/46790099/1)\n",
      "09-[12.01/18(Wed)] [[오늘의 채널A]구준엽, 이지아 언니와 사귄 과거 털어놓다 ](http://news.donga.com/3/all/20120118/43393185/1)\n",
      "10-[11.10/12(Wed)] [[Wedding]발리, ‘행복의 나라’로 데려다 줄 명품 구두 ](http://news.donga.com/3/all/20111011/41006271/1)\n",
      "11-[10.05/17(Mon)] [[알면 산다, 응급 상식]<5>드라마속 오류 ](http://news.donga.com/3/all/20100517/28392276/1)\n",
      "12-[09.12/22(Tue)] [도자기女… 엣지女… 꽃남… 구사인 볼트 ](http://news.donga.com/3/all/20091221/24966267/2)\n",
      "13-[09.12/08(Tue)] [말레이시아에 부는 한국어 학습 열풍 ](http://news.donga.com/3/all/20091207/24643229/1)\n",
      "<br><br>\n",
      "\n"
     ]
    }
   ],
   "source": [
    "print(search_md_string)"
   ]
  },
  {
   "cell_type": "code",
   "execution_count": null,
   "metadata": {},
   "outputs": [],
   "source": []
  }
 ],
 "metadata": {
  "kernelspec": {
   "display_name": "Python 3",
   "language": "python",
   "name": "python3"
  },
  "language_info": {
   "codemirror_mode": {
    "name": "ipython",
    "version": 3
   },
   "file_extension": ".py",
   "mimetype": "text/x-python",
   "name": "python",
   "nbconvert_exporter": "python",
   "pygments_lexer": "ipython3",
   "version": "3.6.5"
  }
 },
 "nbformat": 4,
 "nbformat_minor": 2
}
