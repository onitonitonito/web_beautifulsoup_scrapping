{
 "cells": [
  {
   "cell_type": "markdown",
   "metadata": {},
   "source": [
    "## 1.0 _hotel.json 을 읽어서 내용을 파악한다\n",
    "- 읽어들인 Json 은 형식이 맞지 않기 때문에 일부 수정해 줘야 한다."
   ]
  },
  {
   "cell_type": "code",
   "execution_count": null,
   "metadata": {},
   "outputs": [],
   "source": [
    "# 그래프 한글 깨짐 방지\n",
    "from matplotlib import font_manager, rc\n",
    "font_name = font_manager.FontProperties(fname=\"c:/Windows/Fonts/malgun.ttf\").get_name()\n",
    "rc('font', family=font_name)"
   ]
  },
  {
   "cell_type": "code",
   "execution_count": 1,
   "metadata": {},
   "outputs": [],
   "source": [
    "import json"
   ]
  },
  {
   "cell_type": "code",
   "execution_count": 11,
   "metadata": {},
   "outputs": [
    {
     "name": "stdout",
     "output_type": "stream",
     "text": [
      "<_io.TextIOWrapper name='_hotel.json' mode='r' encoding='utf8'> <class '_io.TextIOWrapper'>\n"
     ]
    }
   ],
   "source": [
    "# Reading and Writing JSON to a File in Python\n",
    "# By  Scott Robinson • August 17, 2016 • 5 Comments\n",
    "# https://stackabuse.com/reading-and-writing-json-to-a-file-in-python/\n",
    "\n",
    "with open(file=\"_hotel.json\", mode=\"r\", encoding=\"utf8\") as file:\n",
    "    print(file, type(file))         # <class '_io.TextIOWrapper'>\n",
    "    a = json.load(file)"
   ]
  },
  {
   "cell_type": "code",
   "execution_count": 3,
   "metadata": {},
   "outputs": [
    {
     "data": {
      "text/plain": [
       "['4.0 (110) ₩106', '469', '라운지', '무료 Wi-Fi']"
      ]
     },
     "execution_count": 3,
     "metadata": {},
     "output_type": "execute_result"
    }
   ],
   "source": [
    "len(a['인천 송도 호텔'])           # 10\n",
    "a['인천 송도 호텔'][9]['info']     # '4.0 (110) ₩106,469,라운지,무료 Wi-Fi'\n",
    "a['인천 송도 호텔'][9]['info'].split(' ')  # ['4.0', '(110)', '₩106,469,라운지,무료', 'Wi-Fi']\n",
    "a['인천 송도 호텔'][9]['info'].split(',')  # ['4.0 (110) ₩106', '469', '라운지', '무료 Wi-Fi']"
   ]
  },
  {
   "cell_type": "code",
   "execution_count": 4,
   "metadata": {
    "scrolled": true
   },
   "outputs": [
    {
     "name": "stdout",
     "output_type": "stream",
     "text": [
      "['4.0', '(185)', '₩89,152,4성급', '호텔,무료', 'Wi-Fi,', '광고', 'Agoda', '제공', '추천', '상품']\n",
      "['4.3', '(37)', '₩59,964,3성급', '호텔,무료', 'Wi-Fi,광고', 'Hotels.com', '제공', '추천', '상품']\n",
      "['4.3', '(1,473)', '₩205,700,5성급', '호텔,식당,', '바,', '스', '파가', '있는', '고급', '호텔,무료', 'Wi-Fi']\n",
      "['4.0', '(1,177)', '₩123,628,4성급', '호텔,도시', '및', '바다', '전망을', '갖춘', '고급', '호텔,무료', 'Wi-Fi']\n",
      "['4.0', '(185)', '₩89,152,4성급', '호텔,무료', 'Wi-Fi']\n",
      "['4.0', '(1,195)', '₩98,288,5성급', '호텔,무료', 'Wi-Fi']\n",
      "['4.5', '(1,222)', '₩172,774,4성급', '호텔,무료', 'Wi-Fi']\n",
      "['4.4', '(339)', '₩250,798,5성급', '호텔,무료', 'Wi-Fi']\n",
      "['3.3', '(1,054)', '₩52,216,₩64,900,4성급', '호텔,무료', 'Wi-Fi,파격', '할인가', '20%', '저렴']\n",
      "['4.0', '(110)', '₩106,469,라운지,무료', 'Wi-Fi']\n"
     ]
    }
   ],
   "source": [
    "for hotel in a['인천 송도 호텔']:\n",
    "    print(hotel['info'].split(' '))"
   ]
  },
  {
   "cell_type": "code",
   "execution_count": 5,
   "metadata": {},
   "outputs": [
    {
     "name": "stdout",
     "output_type": "stream",
     "text": [
      "₩89,152,4성급\n",
      "₩59,964,3성급\n",
      "₩205,700,5성급\n",
      "₩123,628,4성급\n",
      "₩89,152,4성급\n",
      "₩98,288,5성급\n",
      "₩172,774,4성급\n",
      "₩250,798,5성급\n",
      "₩52,216,₩64,900,4성급\n",
      "₩106,469,라운지,무료\n"
     ]
    }
   ],
   "source": [
    "for hotel in a['인천 송도 호텔']:\n",
    "    print(hotel['info'].split(' ')[2])"
   ]
  },
  {
   "cell_type": "code",
   "execution_count": 7,
   "metadata": {},
   "outputs": [
    {
     "name": "stdout",
     "output_type": "stream",
     "text": [
      "['₩89', '152', '4성급']\n",
      "['₩59', '964', '3성급']\n",
      "['₩205', '700', '5성급']\n",
      "['₩123', '628', '4성급']\n",
      "['₩89', '152', '4성급']\n",
      "['₩98', '288', '5성급']\n",
      "['₩172', '774', '4성급']\n",
      "['₩250', '798', '5성급']\n",
      "['₩52', '216', '₩64', '900', '4성급']\n",
      "['₩106', '469', '라운지', '무료']\n"
     ]
    }
   ],
   "source": [
    "for hotel in a['인천 송도 호텔']:\n",
    "    print(hotel['info'].split(' ')[2].split(','))"
   ]
  },
  {
   "cell_type": "code",
   "execution_count": null,
   "metadata": {},
   "outputs": [],
   "source": []
  }
 ],
 "metadata": {
  "kernelspec": {
   "display_name": "Python 3",
   "language": "python",
   "name": "python3"
  },
  "language_info": {
   "codemirror_mode": {
    "name": "ipython",
    "version": 3
   },
   "file_extension": ".py",
   "mimetype": "text/x-python",
   "name": "python",
   "nbconvert_exporter": "python",
   "pygments_lexer": "ipython3",
   "version": "3.7.3"
  }
 },
 "nbformat": 4,
 "nbformat_minor": 2
}
