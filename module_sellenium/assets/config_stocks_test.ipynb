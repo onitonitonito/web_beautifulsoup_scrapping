{
 "cells": [
  {
   "cell_type": "code",
   "execution_count": 1,
   "metadata": {},
   "outputs": [],
   "source": [
    "import os\n",
    "import random"
   ]
  },
  {
   "cell_type": "code",
   "execution_count": 2,
   "metadata": {},
   "outputs": [],
   "source": [
    "NAME_HOME = 'web_beautifulsoup_scrapping'\n",
    "DIR_HOME = \"\".join(os.getcwd().partition(NAME_HOME)[:2]) + \"\\\\\"\n",
    "DIR_WORK = DIR_HOME + \"module_sellenium\\\\works\\\\\""
   ]
  },
  {
   "cell_type": "code",
   "execution_count": 3,
   "metadata": {},
   "outputs": [
    {
     "data": {
      "text/plain": [
       "['interests_1,2,3,4,18,15',\n",
       " 'interests_19,20,15,16',\n",
       " 'interests_7,8,18,17,9,11']"
      ]
     },
     "execution_count": 3,
     "metadata": {},
     "output_type": "execute_result"
    }
   ],
   "source": [
    "dirs = [dir \n",
    "            for dir in os.listdir(DIR_WORK)\n",
    "            if not '.' in dir\n",
    "       ]\n",
    "\n",
    "dirs"
   ]
  },
  {
   "cell_type": "code",
   "execution_count": 4,
   "metadata": {},
   "outputs": [
    {
     "data": {
      "text/plain": [
       "['1,2,3,4,18,15', '19,20,15,16', '7,8,18,17,9,11']"
      ]
     },
     "execution_count": 4,
     "metadata": {},
     "output_type": "execute_result"
    }
   ],
   "source": [
    "codes = [dir.split('_')[-1] for dir in dirs]\n",
    "codes # ['1,2,3,4,18,15', '19,20,15,16', '7,8,18,17,9,11']"
   ]
  },
  {
   "cell_type": "markdown",
   "metadata": {},
   "source": [
    "## 여기서 부터, DIR 을 바꿔가면서 테스트"
   ]
  },
  {
   "cell_type": "code",
   "execution_count": 45,
   "metadata": {},
   "outputs": [],
   "source": [
    "def remove_file_of_ext(dir_target, ext, echo=False):\n",
    "    \"\"\" remove all the *.ext in the dir_target \"\"\"\n",
    "    exts = [file \n",
    "                for file in  os.listdir(dir_target)\n",
    "                if file.endswith(f\".{ext}\")\n",
    "           ]\n",
    "    if not len(exts):\n",
    "        print(\"*** NO FILES TO BE DELETED! ****\")\n",
    "        return False\n",
    "    \n",
    "    if echo:\n",
    "        print(\"*** PLZ.CONFIRM THE FILES TO BE DELETED! ***\")\n",
    "        for i, item in enumerate(exts,1):\n",
    "            print(f\"{i:02}.{item}\")\n",
    "            \n",
    "    if input('*** DELETE OK? [OK=1/NO=ENTER]'):\n",
    "        for i, ext in enumerate(exts,1):\n",
    "            os.remove(dir_target + ext)\n",
    "            if echo:\n",
    "                print(f\"*** ----> {i:02}.{ext} ... IS DELETED!\")\n",
    "            print()\n",
    "    else:\n",
    "        print(f\"----> TERMINATED W/O DELETE.! \\n\")\n",
    "        return False\n",
    "    return True"
   ]
  },
  {
   "cell_type": "code",
   "execution_count": 46,
   "metadata": {},
   "outputs": [
    {
     "name": "stdout",
     "output_type": "stream",
     "text": [
      "*** PLZ.CONFIRM THE FILES TO BE DELETED! ***\n",
      "01.14Jun(Sun)PM0103_2020_00_day.png\n",
      "02.14Jun(Sun)PM0103_2020_01_week.png\n",
      "03.14Jun(Sun)PM0103_2020_02_month3.png\n",
      "04.14Jun(Sun)PM0103_2020_03_year.png\n",
      "05.14Jun(Sun)PM0103_2020_04_year3.png\n",
      "06.14Jun(Sun)PM0103_2020_05_year5.png\n",
      "07.14Jun(Sun)PM0103_2020_06_year10.png\n"
     ]
    },
    {
     "name": "stdin",
     "output_type": "stream",
     "text": [
      "*** DELETE OK? [OK=1/NO=ENTER] \n"
     ]
    },
    {
     "name": "stdout",
     "output_type": "stream",
     "text": [
      "----> TERMINATED W/O DELETE.! \n",
      "\n",
      "*** PLZ.CONFIRM THE FILES TO BE DELETED! ***\n",
      "01.14Jun(Sun)PM0104_2020_00_day.png\n",
      "02.14Jun(Sun)PM0104_2020_01_week.png\n",
      "03.14Jun(Sun)PM0104_2020_02_month3.png\n",
      "04.14Jun(Sun)PM0104_2020_03_year.png\n",
      "05.14Jun(Sun)PM0104_2020_04_year3.png\n",
      "06.14Jun(Sun)PM0104_2020_05_year5.png\n",
      "07.14Jun(Sun)PM0104_2020_06_year10.png\n"
     ]
    },
    {
     "name": "stdin",
     "output_type": "stream",
     "text": [
      "*** DELETE OK? [OK=1/NO=ENTER] \n"
     ]
    },
    {
     "name": "stdout",
     "output_type": "stream",
     "text": [
      "----> TERMINATED W/O DELETE.! \n",
      "\n",
      "*** PLZ.CONFIRM THE FILES TO BE DELETED! ***\n",
      "01.14Jun(Sun)PM0104_2020_00_day.png\n",
      "02.14Jun(Sun)PM0104_2020_01_week.png\n",
      "03.14Jun(Sun)PM0104_2020_02_month3.png\n",
      "04.14Jun(Sun)PM0104_2020_03_year.png\n",
      "05.14Jun(Sun)PM0104_2020_04_year3.png\n",
      "06.14Jun(Sun)PM0104_2020_05_year5.png\n",
      "07.14Jun(Sun)PM0104_2020_06_year10.png\n"
     ]
    },
    {
     "name": "stdin",
     "output_type": "stream",
     "text": [
      "*** DELETE OK? [OK=1/NO=ENTER] \n"
     ]
    },
    {
     "name": "stdout",
     "output_type": "stream",
     "text": [
      "----> TERMINATED W/O DELETE.! \n",
      "\n"
     ]
    }
   ],
   "source": [
    "for dir in dirs:\n",
    "    dir_target = DIR_WORK + dir + '\\\\'\n",
    "    remove_file_of_ext(dir_target, 'png', echo=1)   "
   ]
  },
  {
   "cell_type": "code",
   "execution_count": null,
   "metadata": {},
   "outputs": [],
   "source": []
  }
 ],
 "metadata": {
  "kernelspec": {
   "display_name": "Python 3",
   "language": "python",
   "name": "python3"
  },
  "language_info": {
   "codemirror_mode": {
    "name": "ipython",
    "version": 3
   },
   "file_extension": ".py",
   "mimetype": "text/x-python",
   "name": "python",
   "nbconvert_exporter": "python",
   "pygments_lexer": "ipython3",
   "version": "3.7.1"
  }
 },
 "nbformat": 4,
 "nbformat_minor": 4
}
