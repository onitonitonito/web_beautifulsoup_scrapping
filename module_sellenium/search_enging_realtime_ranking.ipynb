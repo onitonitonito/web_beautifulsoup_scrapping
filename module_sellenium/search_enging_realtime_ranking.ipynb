{
 "cells": [
  {
   "cell_type": "markdown",
   "metadata": {},
   "source": [
    "## 다음 vs. 네이버 실시간 랭킹 비교"
   ]
  },
  {
   "cell_type": "code",
   "execution_count": 1,
   "metadata": {},
   "outputs": [],
   "source": [
    "import requests\n",
    "from bs4 import BeautifulSoup"
   ]
  },
  {
   "cell_type": "code",
   "execution_count": 2,
   "metadata": {},
   "outputs": [],
   "source": [
    "scrap_dict = {\n",
    "    \"naver\": [\n",
    "        \"https://www.naver.com\",\n",
    "        \".ah_roll .ah_k\",\n",
    "    ],\n",
    "    \"daum\": [\n",
    "        \"https://www.daum.net\",\n",
    "        \".hotissue_builtin .txt_issue\",\n",
    "    ],\n",
    "}"
   ]
  },
  {
   "cell_type": "code",
   "execution_count": 3,
   "metadata": {},
   "outputs": [],
   "source": [
    "def get_realtime_rank(name_fortal, scrap_dict):\n",
    "    url_target, seperator = scrap_dict[name_fortal]\n",
    "    \n",
    "    response = requests.get(url_target)\n",
    "    soup = BeautifulSoup(response.text, \"html.parser\")\n",
    "    titles = soup.select(seperator)\n",
    "    \n",
    "    rank_list = [ title.get_text() for title in titles ]\n",
    "    \n",
    "    return refine_repeated_list(rank_list)                # delete repeated rank (daum)\n",
    "\n",
    "\n",
    "def refine_repeated_list(rank_list):\n",
    "    \"\"\" Helper function - assist for get_realtime_rank() \"\"\"\n",
    "    refined_list = []\n",
    "    for item in rank_list:\n",
    "        if not item in refined_list:\n",
    "            refined_list.append(item)\n",
    "    return refined_list\n",
    "\n",
    "\n",
    "def show_rank(name, scrap_dict):\n",
    "    \"\"\" show list with number & URL Link \"\"\"  \n",
    "    try:\n",
    "        for i, rank in enumerate(get_realtime_rank(name, scrap_dict), 1):\n",
    "            if name is 'daum':\n",
    "                hyper_link = f\"https://search.daum.net/search?&q={rank.replace(' ','%20')}\"\n",
    "            elif name is 'naver':\n",
    "                hyper_link = f\"https://search.naver.com/search.naver?query={rank.replace(' ','+')}\"\n",
    "            print(f\"{i}. {rank} ........ {hyper_link}\")\n",
    "    except:\n",
    "        print(f\"*** SORRY, Not in the Search Engine Criteria..@ {list(scrap_dict.keys())}\")"
   ]
  },
  {
   "cell_type": "code",
   "execution_count": 4,
   "metadata": {},
   "outputs": [
    {
     "name": "stdout",
     "output_type": "stream",
     "text": [
      "1. 우리가 조국이다 ........ https://search.daum.net/search?&q=우리가%20조국이다\n",
      "2. 권영찬 ........ https://search.daum.net/search?&q=권영찬\n",
      "3. 조승수 ........ https://search.daum.net/search?&q=조승수\n",
      "4. 류현진 홈런 ........ https://search.daum.net/search?&q=류현진%20홈런\n",
      "5. ts 엔터테인먼트 ........ https://search.daum.net/search?&q=ts%20엔터테인먼트\n",
      "6. 김영호 ........ https://search.daum.net/search?&q=김영호\n",
      "7. 슬리피 ........ https://search.daum.net/search?&q=슬리피\n",
      "8. 육종암 ........ https://search.daum.net/search?&q=육종암\n",
      "9. 수원 노래방 폭행 ........ https://search.daum.net/search?&q=수원%20노래방%20폭행\n",
      "10. 구혜선 ........ https://search.daum.net/search?&q=구혜선\n"
     ]
    }
   ],
   "source": [
    "show_rank(name='daum', scrap_dict=scrap_dict)"
   ]
  },
  {
   "cell_type": "code",
   "execution_count": 5,
   "metadata": {},
   "outputs": [
    {
     "name": "stdout",
     "output_type": "stream",
     "text": [
      "1. 나코마유효능 ........ https://search.naver.com/search.naver?query=나코마유효능\n",
      "2. 나코 마유크림 ........ https://search.naver.com/search.naver?query=나코+마유크림\n",
      "3. 우리가조국이다 ........ https://search.naver.com/search.naver?query=우리가조국이다\n",
      "4. 도미노피자 최저9천원 ........ https://search.naver.com/search.naver?query=도미노피자+최저9천원\n",
      "5. ts엔터테인먼트 ........ https://search.naver.com/search.naver?query=ts엔터테인먼트\n",
      "6. 시럽 초달달적금 ........ https://search.naver.com/search.naver?query=시럽+초달달적금\n",
      "7. xz페스티벌 ........ https://search.naver.com/search.naver?query=xz페스티벌\n",
      "8. 슬리피 ........ https://search.naver.com/search.naver?query=슬리피\n",
      "9. 추분 ........ https://search.naver.com/search.naver?query=추분\n",
      "10. 06년생 폭행 ........ https://search.naver.com/search.naver?query=06년생+폭행\n",
      "11. 공지영 ........ https://search.naver.com/search.naver?query=공지영\n",
      "12. 수원 노래방 폭행 ........ https://search.naver.com/search.naver?query=수원+노래방+폭행\n",
      "13. 나코마유 ........ https://search.naver.com/search.naver?query=나코마유\n",
      "14. 강서구 산부인과 ........ https://search.naver.com/search.naver?query=강서구+산부인과\n",
      "15. 악마는 프라다를 입는다 ........ https://search.naver.com/search.naver?query=악마는+프라다를+입는다\n",
      "16. 에어서울 ........ https://search.naver.com/search.naver?query=에어서울\n",
      "17. 핑클 ........ https://search.naver.com/search.naver?query=핑클\n",
      "18. 류현진 홈런 ........ https://search.naver.com/search.naver?query=류현진+홈런\n",
      "19. 아스달 연대기 시즌2 ........ https://search.naver.com/search.naver?query=아스달+연대기+시즌2\n",
      "20. 두올산업 ........ https://search.naver.com/search.naver?query=두올산업\n"
     ]
    }
   ],
   "source": [
    "show_rank('naver', scrap_dict)"
   ]
  },
  {
   "cell_type": "code",
   "execution_count": 6,
   "metadata": {},
   "outputs": [
    {
     "name": "stdout",
     "output_type": "stream",
     "text": [
      "*** SORRY, Not in the Search Engine Criteria..@ ['naver', 'daum']\n"
     ]
    }
   ],
   "source": [
    "show_rank('google', scrap_dict)"
   ]
  },
  {
   "cell_type": "code",
   "execution_count": null,
   "metadata": {},
   "outputs": [],
   "source": []
  }
 ],
 "metadata": {
  "kernelspec": {
   "display_name": "Python 3",
   "language": "python",
   "name": "python3"
  },
  "language_info": {
   "codemirror_mode": {
    "name": "ipython",
    "version": 3
   },
   "file_extension": ".py",
   "mimetype": "text/x-python",
   "name": "python",
   "nbconvert_exporter": "python",
   "pygments_lexer": "ipython3",
   "version": "3.7.3"
  }
 },
 "nbformat": 4,
 "nbformat_minor": 2
}
