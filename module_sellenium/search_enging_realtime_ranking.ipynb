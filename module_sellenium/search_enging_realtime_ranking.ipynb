{
 "cells": [
  {
   "cell_type": "markdown",
   "metadata": {},
   "source": [
    "## 다음 vs. 네이버 실시간 랭킹 비교\n",
    "\n",
    "> 1. 랭킹서비스를 종료시킬 예정이라고 함\n",
    "> 1. 랭킹 스롤링 테그가 변경될 수 있음 (웹 스크래핑의 한계)"
   ]
  },
  {
   "cell_type": "code",
   "execution_count": 1,
   "metadata": {},
   "outputs": [],
   "source": [
    "import requests\n",
    "from bs4 import BeautifulSoup"
   ]
  },
  {
   "cell_type": "code",
   "execution_count": 2,
   "metadata": {},
   "outputs": [],
   "source": [
    "scrap_dict = {\n",
    "    \"naver\": [\n",
    "        \"https://www.naver.com\",\n",
    "        \".ah_roll .ah_k\",\n",
    "    ],\n",
    "    \"daum\": [\n",
    "        \"https://www.daum.net\",\n",
    "        \".hotissue_builtin .txt_issue\",\n",
    "    ],\n",
    "}"
   ]
  },
  {
   "cell_type": "code",
   "execution_count": 3,
   "metadata": {},
   "outputs": [],
   "source": [
    "def get_realtime_rank(name_fortal, scrap_dict):\n",
    "    url_target, seperator = scrap_dict[name_fortal]\n",
    "    \n",
    "    response = requests.get(url_target)\n",
    "    soup = BeautifulSoup(response.text, \"html.parser\")\n",
    "    titles = soup.select(seperator)\n",
    "    \n",
    "    rank_list = [ title.get_text() for title in titles ]\n",
    "    \n",
    "    return refine_repeated_list(rank_list)                # delete repeated rank (daum)\n",
    "\n",
    "\n",
    "def refine_repeated_list(rank_list):\n",
    "    \"\"\" Helper function - assist for get_realtime_rank() \"\"\"\n",
    "    refined_list = []\n",
    "    for item in rank_list:\n",
    "        if not item in refined_list:\n",
    "            refined_list.append(item)\n",
    "    return refined_list\n",
    "\n",
    "\n",
    "def show_rank(name, scrap_dict):\n",
    "    \"\"\" show list with number & URL Link \"\"\"  \n",
    "    try:\n",
    "        for i, rank in enumerate(get_realtime_rank(name, scrap_dict), 1):\n",
    "            if name is 'daum':\n",
    "                hyper_link = f\"https://search.daum.net/search?&q={rank.replace(' ','%20')}\"\n",
    "            elif name is 'naver':\n",
    "                hyper_link = f\"https://search.naver.com/search.naver?query={rank.replace(' ','+')}\"\n",
    "            print(f\"{i}. {rank} ........ {hyper_link}\")\n",
    "    except:\n",
    "        print(f\"*** SORRY, Not in the Search Engine Criteria..@ {list(scrap_dict.keys())}\")"
   ]
  },
  {
   "cell_type": "code",
   "execution_count": 4,
   "metadata": {},
   "outputs": [],
   "source": [
    "show_rank(name='daum', scrap_dict=scrap_dict)"
   ]
  },
  {
   "cell_type": "code",
   "execution_count": 5,
   "metadata": {},
   "outputs": [],
   "source": [
    "show_rank('naver', scrap_dict)"
   ]
  },
  {
   "cell_type": "code",
   "execution_count": 6,
   "metadata": {},
   "outputs": [
    {
     "name": "stdout",
     "output_type": "stream",
     "text": [
      "*** SORRY, Not in the Search Engine Criteria..@ ['naver', 'daum']\n"
     ]
    }
   ],
   "source": [
    "show_rank('google', scrap_dict)"
   ]
  },
  {
   "cell_type": "code",
   "execution_count": null,
   "metadata": {},
   "outputs": [],
   "source": []
  }
 ],
 "metadata": {
  "kernelspec": {
   "display_name": "Python 3",
   "language": "python",
   "name": "python3"
  },
  "language_info": {
   "codemirror_mode": {
    "name": "ipython",
    "version": 3
   },
   "file_extension": ".py",
   "mimetype": "text/x-python",
   "name": "python",
   "nbconvert_exporter": "python",
   "pygments_lexer": "ipython3",
   "version": "3.7.1"
  }
 },
 "nbformat": 4,
 "nbformat_minor": 4
}
