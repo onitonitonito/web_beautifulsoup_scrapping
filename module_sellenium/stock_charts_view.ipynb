{
 "cells": [
  {
   "cell_type": "markdown",
   "metadata": {},
   "source": [
    "### IPython Notebook Test"
   ]
  },
  {
   "cell_type": "code",
   "execution_count": 8,
   "metadata": {},
   "outputs": [
    {
     "name": "stdout",
     "output_type": "stream",
     "text": [
      "\n",
      "# config_stocks.py - variables\n",
      "\n"
     ]
    }
   ],
   "source": [
    "import os\n",
    "import skimage.io\n",
    "import matplotlib.pyplot as plt\n",
    "\n",
    "# import assets.script_run\n",
    "from assets.config_stocks import *\n",
    "from assets.functions_class import (\n",
    "                            get_today_header, \n",
    "                            set_font_hanguel_graph\n",
    "                        )"
   ]
  },
  {
   "cell_type": "code",
   "execution_count": 2,
   "metadata": {},
   "outputs": [],
   "source": [
    "NAME_HOME = 'web_beautifulsoup_scrapping'\n",
    "DIR_HOME = \"\".join(os.getcwd().partition(NAME_HOME)[:2]) + \"\\\\\"\n",
    "DIR_WORK = DIR_HOME + \"module_sellenium\\\\works\\\\\"\n",
    "\n",
    "DIRS = [dir \n",
    "            for dir in os.listdir(DIR_WORK)\n",
    "            if not '.' in dir\n",
    "           ]\n",
    "\n",
    "CODES = [dir.split('_')[-1] for dir in DIRS]"
   ]
  },
  {
   "cell_type": "code",
   "execution_count": 9,
   "metadata": {},
   "outputs": [
    {
     "name": "stdout",
     "output_type": "stream",
     "text": [
      "*** Hanguel font for pyplot graph is set! ... 'c:/Windows/Fonts/malgun.ttf'***\n",
      "Today is ... 14Jun(Sun)PM0512_2020\n"
     ]
    }
   ],
   "source": [
    "set_font_hanguel_graph()\n",
    "header = get_today_header()"
   ]
  },
  {
   "cell_type": "code",
   "execution_count": null,
   "metadata": {},
   "outputs": [],
   "source": []
  },
  {
   "cell_type": "code",
   "execution_count": null,
   "metadata": {},
   "outputs": [],
   "source": []
  },
  {
   "cell_type": "markdown",
   "metadata": {},
   "source": [
    "### Function Definition"
   ]
  },
  {
   "cell_type": "code",
   "execution_count": 10,
   "metadata": {},
   "outputs": [],
   "source": [
    "\n",
    "def get_index_partial():\n",
    "    \"\"\" index_partial 을 input 입력 받는다. \"\"\"\n",
    "    print()\n",
    "    answer = input(\n",
    "                \"idx_array를 ','구분 4개 이상 입력 짝수로 입력 (예) 4,3,1,2\\n\" +\n",
    "                \"or [ENTER]=기본 처음 4개 출력 [1,2,3,4]와 동일\\n :    \"\n",
    "                ).strip()\n",
    "    if answer[0:1].isnumeric():\n",
    "        print([int(idx)-1 for idx in answer.split(\",\")])\n",
    "        return [int(idx)-1 for idx in answer.split(\",\")]\n",
    "    else:\n",
    "        print([idx for idx in range(4)])\n",
    "        return [idx for idx in range(4)]\n",
    "\n",
    "def is_save_only():\n",
    "    \"\"\" answer return True/False \"\"\"\n",
    "    question = \"\\n*** ONLY Save all the targeted charts? [Yes=1 / No=Enter]\"\n",
    "    answer = True if input(question).startswith('1') else False\n",
    "    print(f\"(Save all the charts? = '{answer}')\")\n",
    "    return answer\n",
    "\n",
    "def get_images_nparray(target, index_partial):\n",
    "    \"\"\"\n",
    "    # HELPER() for show_charts_axes() :목적챠트(target)에 대해\n",
    "    # index_partial 범위 skimage obj. array 반납\n",
    "    \"\"\"\n",
    "    _, codes_partial = get_names_codes_partial(index_partial)\n",
    "\n",
    "    images_nparray = []\n",
    "    for code in codes_partial:\n",
    "        img_url = f\"{URL}/{target}/{code}.png?sidcode={get_sidecode(13)}\"\n",
    "        im_array = skimage.io.imread(img_url)\n",
    "        images_nparray.append(im_array)\n",
    "    return images_nparray\n",
    "\n",
    "def show_charts_axes(target, index_partial):\n",
    "    \"\"\" 헬퍼함수를 사용해서 target 과 index_partial 받아서 챠트 출력. \"\"\"\n",
    "    images_nparray = get_images_nparray(target, index_partial)\n",
    "    (names_partial, codes_partial) = get_names_codes_partial(index_partial)\n",
    "\n",
    "    (cols, rows) = (2, int(len(names_partial)/2))     # (2 , 6)\n",
    "    fig, ax = plt.subplots(ncols=cols, nrows=rows, figsize=(18, rows*6))\n",
    "\n",
    "    i = 0\n",
    "    for row in range(rows):\n",
    "        for col in range(cols):\n",
    "            # TODO: Something might wrong! within 2~3, or odd number!\n",
    "            try:\n",
    "                # print(row,col)   # ... for test\n",
    "                ax[row,col].imshow(images_nparray[i])\n",
    "                ax[row,col].set_title(\n",
    "                    f\"{names_partial[i]} ({codes_partial[i]}) by {target}\"\n",
    "                    )\n",
    "            except:\n",
    "                print(\"*** TODO: Error! HOTFIX! ***\")\n",
    "                pass\n",
    "            i += 1\n",
    "    plt.tight_layout(pad=0.1)\n",
    "\n",
    "def save_or_show(index_partial, save_chart_only=False):\n",
    "    \"\"\" HELPER() for main() : 저장만 하든지, 보기만 하든지 \"\"\"\n",
    "    global targets, header\n",
    "\n",
    "    for i, target in enumerate(targets):\n",
    "        proceed = f\"{i+1}/{len(targets)}\"  # 진행정도 표시\n",
    "        question = f\"\\n\\nDraw '{target}'graph({proceed})? ... [OK=Ent./NO=1]\"\n",
    "\n",
    "        if save_chart_only:\n",
    "            # save all charts designated, properly 4 charts\n",
    "            print(f\"\\n... '{i:02}.{target}' chart is saved\", flush=True)\n",
    "            show_charts_axes(target, index_partial)\n",
    "            plt.savefig(fname=home_works + f\"{header}_{i:02}_{target}.png\")\n",
    "        else:\n",
    "            if not input(question).startswith(\"1\"):\n",
    "                show_charts_axes(target, index_partial)\n",
    "                plt.show()\n",
    "            else:\n",
    "                print(f\" ***** '{target}' charts are skipped! *****\")\n"
   ]
  },
  {
   "cell_type": "code",
   "execution_count": 4,
   "metadata": {},
   "outputs": [],
   "source": [
    "def remove_file_of_ext(dir_target, ext, echo=False):\n",
    "    \"\"\" remove all the *.ext in the dir_target \"\"\"\n",
    "    dir_current = dir_target.partition('works')[-1]\n",
    "    exts = [file \n",
    "                for file in  os.listdir(dir_target)\n",
    "                if file.endswith(f\".{ext}\")\n",
    "           ]\n",
    "    print(f\"\\nSCAN DIR in {dir_current}\")\n",
    "    if not len(exts):\n",
    "        print(f\"*** NO FILES TO BE DELETED! ****\")\n",
    "        return False\n",
    "    \n",
    "    if echo:\n",
    "        print(\"*** PLZ.CONFIRM THE FILES TO BE DELETED! ***\")\n",
    "        for i, item in enumerate(exts,1):\n",
    "            print(f\"{i:02}.{item}\")\n",
    "            \n",
    "    if input('*** DELETE OK? [OK=1/NO=ENTER]'):\n",
    "        for i, ext in enumerate(exts,1):\n",
    "            os.remove(dir_target + ext)\n",
    "            if echo:\n",
    "                print(f\"----> {i:02}.{ext} ... IS DELETED!\")\n",
    "        print()\n",
    "    else:\n",
    "        print(f\"----> TERMINATED W/O DELETE.! \\n\")\n",
    "        return False\n",
    "    return True"
   ]
  },
  {
   "cell_type": "code",
   "execution_count": 11,
   "metadata": {},
   "outputs": [
    {
     "name": "stdout",
     "output_type": "stream",
     "text": [
      "\n",
      "SCAN DIR in \\interests_1,2,3,4,18,15\\\n",
      "*** NO FILES TO BE DELETED! ****\n",
      "\n",
      "SCAN DIR in \\interests_19,20,15,16\\\n",
      "*** PLZ.CONFIRM THE FILES TO BE DELETED! ***\n",
      "01.14Jun(Sun)PM0128_2020_00_day.png\n",
      "02.14Jun(Sun)PM0128_2020_01_week.png\n",
      "03.14Jun(Sun)PM0128_2020_02_month3.png\n",
      "04.14Jun(Sun)PM0128_2020_03_year.png\n",
      "05.14Jun(Sun)PM0128_2020_04_year3.png\n",
      "06.14Jun(Sun)PM0128_2020_05_year5.png\n",
      "07.14Jun(Sun)PM0128_2020_06_year10.png\n"
     ]
    },
    {
     "name": "stdin",
     "output_type": "stream",
     "text": [
      "*** DELETE OK? [OK=1/NO=ENTER] \n"
     ]
    },
    {
     "name": "stdout",
     "output_type": "stream",
     "text": [
      "----> TERMINATED W/O DELETE.! \n",
      "\n",
      "\n",
      "SCAN DIR in \\interests_7,8,18,17,9,11\\\n",
      "*** PLZ.CONFIRM THE FILES TO BE DELETED! ***\n",
      "01.14Jun(Sun)PM0128_2020_00_day.png\n",
      "02.14Jun(Sun)PM0128_2020_01_week.png\n",
      "03.14Jun(Sun)PM0128_2020_02_month3.png\n",
      "04.14Jun(Sun)PM0128_2020_03_year.png\n",
      "05.14Jun(Sun)PM0128_2020_04_year3.png\n",
      "06.14Jun(Sun)PM0128_2020_05_year5.png\n",
      "07.14Jun(Sun)PM0128_2020_06_year10.png\n"
     ]
    },
    {
     "name": "stdin",
     "output_type": "stream",
     "text": [
      "*** DELETE OK? [OK=1/NO=ENTER] \n"
     ]
    },
    {
     "name": "stdout",
     "output_type": "stream",
     "text": [
      "----> TERMINATED W/O DELETE.! \n",
      "\n"
     ]
    }
   ],
   "source": [
    "for dir in DIRS:\n",
    "    dir_target = DIR_WORK + dir + '\\\\'\n",
    "    remove_file_of_ext(dir_target, 'png', echo=1)   "
   ]
  },
  {
   "cell_type": "code",
   "execution_count": 13,
   "metadata": {},
   "outputs": [
    {
     "data": {
      "text/plain": [
       "['1,2,3,4,18,15', '19,20,15,16', '7,8,18,17,9,11']"
      ]
     },
     "execution_count": 13,
     "metadata": {},
     "output_type": "execute_result"
    }
   ],
   "source": [
    "CODES"
   ]
  },
  {
   "cell_type": "code",
   "execution_count": 14,
   "metadata": {},
   "outputs": [
    {
     "name": "stdout",
     "output_type": "stream",
     "text": [
      "------------------------------\n",
      " 01.제닉             https://finance.naver.com/item/main.nhn?code=123330\n",
      " 02.휴메딕스           https://finance.naver.com/item/main.nhn?code=200670\n",
      " 03.대원미디어          https://finance.naver.com/item/main.nhn?code=048910\n",
      " 04.마크로젠           https://finance.naver.com/item/main.nhn?code=038290\n",
      " 05.아모레G           https://finance.naver.com/item/main.nhn?code=002790\n",
      " 06.내츄럴엔도텍         https://finance.naver.com/item/main.nhn?code=168330\n",
      " 07.삼성전자           https://finance.naver.com/item/main.nhn?code=005930\n",
      " 08.카카오            https://finance.naver.com/item/main.nhn?code=035720\n",
      " 09.한진칼            https://finance.naver.com/item/main.nhn?code=180640\n",
      " 10.대한항공           https://finance.naver.com/item/main.nhn?code=003490\n",
      " 11.로보스타           https://finance.naver.com/item/main.nhn?code=090360\n",
      " 12.파트론            https://finance.naver.com/item/main.nhn?code=091700\n",
      " 13.셀트리온           https://finance.naver.com/item/main.nhn?code=068270\n",
      " 14.아시아나항공         https://finance.naver.com/item/main.nhn?code=020560\n",
      " 15.LG디스플레이        https://finance.naver.com/item/main.nhn?code=034220\n",
      " 16.LG이노텍          https://finance.naver.com/item/main.nhn?code=011070\n",
      " 17.포스코케미칼         https://finance.naver.com/item/main.nhn?code=003670\n",
      " 18.삼성전기           https://finance.naver.com/item/main.nhn?code=009150\n",
      " 19.NHN한국사이버결제     https://finance.naver.com/item/main.nhn?code=060250\n",
      " 20.KG이니시스         https://finance.naver.com/item/main.nhn?code=035600\n",
      " 21.네이버            https://finance.naver.com/item/main.nhn?code=035420\n",
      " 22.NCSOFT         https://finance.naver.com/item/main.nhn?code=036570\n",
      " 23.안랩             https://finance.naver.com/item/main.nhn?code=053800\n",
      "------------------------------ \n",
      "\n"
     ]
    },
    {
     "name": "stdin",
     "output_type": "stream",
     "text": [
      "\n",
      "*** ONLY Save all the targeted charts? [Yes=1 / No=Enter] 1\n"
     ]
    },
    {
     "name": "stdout",
     "output_type": "stream",
     "text": [
      "(Save all the charts? = 'True')\n"
     ]
    }
   ],
   "source": [
    "def main():\n",
    "    show_dict()\n",
    "    \n",
    "    # only save all = True / just watch = Flase\n",
    "    save_chart_only = is_save_only()\n",
    "main()    "
   ]
  },
  {
   "cell_type": "code",
   "execution_count": 15,
   "metadata": {},
   "outputs": [
    {
     "name": "stdout",
     "output_type": "stream",
     "text": [
      "\n"
     ]
    },
    {
     "name": "stdin",
     "output_type": "stream",
     "text": [
      "idx_array를 ','구분 4개 이상 입력 짝수로 입력 (예) 4,3,1,2\n",
      "or [ENTER]=기본 처음 4개 출력 [1,2,3,4]와 동일\n",
      " :     \n"
     ]
    },
    {
     "name": "stdout",
     "output_type": "stream",
     "text": [
      "[0, 1, 2, 3]\n"
     ]
    }
   ],
   "source": [
    "# show_names_codes(index_partial) --> global\n",
    "index_partial = get_index_partial()"
   ]
  },
  {
   "cell_type": "code",
   "execution_count": 17,
   "metadata": {},
   "outputs": [
    {
     "name": "stdin",
     "output_type": "stream",
     "text": [
      "\n",
      "\n",
      "Draw 'day'graph(1/7)? ... [OK=Ent./NO=1] \n",
      "\n",
      "\n",
      "Draw 'week'graph(2/7)? ... [OK=Ent./NO=1] 1\n"
     ]
    },
    {
     "name": "stdout",
     "output_type": "stream",
     "text": [
      " ***** 'week' charts are skipped! *****\n"
     ]
    },
    {
     "name": "stdin",
     "output_type": "stream",
     "text": [
      "\n",
      "\n",
      "Draw 'month3'graph(3/7)? ... [OK=Ent./NO=1] 1\n"
     ]
    },
    {
     "name": "stdout",
     "output_type": "stream",
     "text": [
      " ***** 'month3' charts are skipped! *****\n"
     ]
    },
    {
     "name": "stdin",
     "output_type": "stream",
     "text": [
      "\n",
      "\n",
      "Draw 'year'graph(4/7)? ... [OK=Ent./NO=1] 1\n"
     ]
    },
    {
     "name": "stdout",
     "output_type": "stream",
     "text": [
      " ***** 'year' charts are skipped! *****\n"
     ]
    },
    {
     "name": "stdin",
     "output_type": "stream",
     "text": [
      "\n",
      "\n",
      "Draw 'year3'graph(5/7)? ... [OK=Ent./NO=1] 1\n"
     ]
    },
    {
     "name": "stdout",
     "output_type": "stream",
     "text": [
      " ***** 'year3' charts are skipped! *****\n"
     ]
    },
    {
     "name": "stdin",
     "output_type": "stream",
     "text": [
      "\n",
      "\n",
      "Draw 'year5'graph(6/7)? ... [OK=Ent./NO=1] 1\n"
     ]
    },
    {
     "name": "stdout",
     "output_type": "stream",
     "text": [
      " ***** 'year5' charts are skipped! *****\n"
     ]
    },
    {
     "name": "stdin",
     "output_type": "stream",
     "text": [
      "\n",
      "\n",
      "Draw 'year10'graph(7/7)? ... [OK=Ent./NO=1] 1\n"
     ]
    },
    {
     "name": "stdout",
     "output_type": "stream",
     "text": [
      " ***** 'year10' charts are skipped! *****\n"
     ]
    }
   ],
   "source": [
    "save_or_show(index_partial, save_chart_only=0)\n"
   ]
  },
  {
   "cell_type": "code",
   "execution_count": 18,
   "metadata": {},
   "outputs": [],
   "source": [
    "plt.show()"
   ]
  },
  {
   "cell_type": "code",
   "execution_count": null,
   "metadata": {},
   "outputs": [],
   "source": []
  },
  {
   "cell_type": "code",
   "execution_count": null,
   "metadata": {},
   "outputs": [],
   "source": []
  }
 ],
 "metadata": {
  "kernelspec": {
   "display_name": "Python 3",
   "language": "python",
   "name": "python3"
  },
  "language_info": {
   "codemirror_mode": {
    "name": "ipython",
    "version": 3
   },
   "file_extension": ".py",
   "mimetype": "text/x-python",
   "name": "python",
   "nbconvert_exporter": "python",
   "pygments_lexer": "ipython3",
   "version": "3.7.1"
  }
 },
 "nbformat": 4,
 "nbformat_minor": 4
}
