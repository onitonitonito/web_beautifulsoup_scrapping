{
 "cells": [
  {
   "cell_type": "markdown",
   "metadata": {},
   "source": [
    "## 에코기능을 이용하여 처리\n",
    "* import assets.config_stock"
   ]
  },
  {
   "cell_type": "code",
   "execution_count": 1,
   "metadata": {},
   "outputs": [
    {
     "name": "stdout",
     "output_type": "stream",
     "text": [
      "C:\\Users\\nitt0\\Documents\\Github\\web_beautifulsoup_scrapping\\module_sellenium\n",
      "C:\\Users\\nitt0\\Documents\\Github\\web_beautifulsoup_scrapping\\module_sellenium\n"
     ]
    }
   ],
   "source": [
    "# for TEST..!!\n",
    "\n",
    "import os\n",
    "# script_run ... different dir           script_run  vs. terminal(cmd)\n",
    "print(os.getcwd())                      # --> root    /  working\n",
    "print(os.path.abspath(os.path.curdir))  # --> root    /  working\n",
    "# print(os.path.dirname(__file__))        # --> working /  working (this!)"
   ]
  },
  {
   "cell_type": "code",
   "execution_count": 19,
   "metadata": {},
   "outputs": [],
   "source": [
    "import random\n",
    "from IPython.display import Markdown\n",
    "from assets.config_stocks import *"
   ]
  },
  {
   "cell_type": "code",
   "execution_count": 32,
   "metadata": {},
   "outputs": [],
   "source": [
    "def get_echo(code_dict, name, target, detail=True):\n",
    "    url = \"https://ssl.pstatic.net/imgfinance/chart/item/area/\"\n",
    "    sidecode=random.random()\n",
    "    \n",
    "    if detail:\n",
    "        echo = f\"\"\"\n",
    "## {name} ({code_dict[name]})\n",
    "- URL = {url}\n",
    "- target={target}\n",
    "- png?sidedode = {sidecode}\n",
    "![__CHART__]({URL}/{target}/{code_stock[name]}.png?sidcode={sidecode})\n",
    "\"\"\"\n",
    "    else:\n",
    "        echo = f\"\"\"\n",
    "- target={target}\n",
    "![__CHART__]({URL}/{target}/{code_stock[name]}.png?sidcode={sidecode})\n",
    "\"\"\"\n",
    "    return echo"
   ]
  },
  {
   "cell_type": "code",
   "execution_count": 33,
   "metadata": {},
   "outputs": [
    {
     "data": {
      "text/plain": [
       "['0. 제닉',\n",
       " '1. 아모레G',\n",
       " '2. 마크로젠',\n",
       " '3. 대원미디어',\n",
       " '4. 내츄럴엔도텍',\n",
       " '5. 휴메딕스',\n",
       " '6. 포스코케미칼',\n",
       " '7. 로보스타',\n",
       " '8. 삼성전자',\n",
       " '9. 안랩',\n",
       " '10. 카카오',\n",
       " '11. 네이버',\n",
       " '12. NCSOFT']"
      ]
     },
     "execution_count": 33,
     "metadata": {},
     "output_type": "execute_result"
    }
   ],
   "source": [
    "n = -1\n",
    "names = list(code_stock.keys())\n",
    "[f\"{i}. {name}\" for i, name in enumerate(names)]"
   ]
  },
  {
   "cell_type": "code",
   "execution_count": 41,
   "metadata": {},
   "outputs": [
    {
     "data": {
      "text/plain": [
       "(3, '대원미디어')"
      ]
     },
     "execution_count": 41,
     "metadata": {},
     "output_type": "execute_result"
    }
   ],
   "source": [
    "# n += 1\n",
    "n = 3\n",
    "n, names[n]"
   ]
  },
  {
   "cell_type": "code",
   "execution_count": 42,
   "metadata": {},
   "outputs": [
    {
     "data": {
      "text/plain": [
       "'대원미디어'"
      ]
     },
     "execution_count": 42,
     "metadata": {},
     "output_type": "execute_result"
    }
   ],
   "source": [
    "NAME = names[n]\n",
    "echo_d = get_echo(code_stock, NAME, \"day\")\n",
    "echo_w = get_echo(code_stock, NAME, \"week\", detail=0)\n",
    "echo_m3 = get_echo(code_stock, NAME, \"month3\", detail=0)\n",
    "echo_y = get_echo(code_stock, NAME, \"year\", detail=0)\n",
    "echo_y5 = get_echo(code_stock, NAME, \"year5\", detail=0)\n",
    "NAME"
   ]
  },
  {
   "cell_type": "code",
   "execution_count": 43,
   "metadata": {},
   "outputs": [
    {
     "data": {
      "text/markdown": [
       "\n",
       "## 대원미디어 (048910)\n",
       "- URL = https://ssl.pstatic.net/imgfinance/chart/item/area/\n",
       "- target=day\n",
       "- png?sidedode = 0.8938620792951794\n",
       "![__CHART__](https://ssl.pstatic.net/imgfinance/chart/item/area//day/048910.png?sidcode=0.8938620792951794)\n"
      ],
      "text/plain": [
       "<IPython.core.display.Markdown object>"
      ]
     },
     "execution_count": 43,
     "metadata": {},
     "output_type": "execute_result"
    }
   ],
   "source": [
    "Markdown(echo_d)"
   ]
  },
  {
   "cell_type": "code",
   "execution_count": 44,
   "metadata": {},
   "outputs": [
    {
     "data": {
      "text/markdown": [
       "\n",
       "- target=week\n",
       "![__CHART__](https://ssl.pstatic.net/imgfinance/chart/item/area//week/048910.png?sidcode=0.22681592418957863)\n"
      ],
      "text/plain": [
       "<IPython.core.display.Markdown object>"
      ]
     },
     "execution_count": 44,
     "metadata": {},
     "output_type": "execute_result"
    }
   ],
   "source": [
    "Markdown(echo_w)"
   ]
  },
  {
   "cell_type": "code",
   "execution_count": 45,
   "metadata": {},
   "outputs": [
    {
     "data": {
      "text/markdown": [
       "\n",
       "- target=month3\n",
       "![__CHART__](https://ssl.pstatic.net/imgfinance/chart/item/area//month3/048910.png?sidcode=0.47193408751898047)\n"
      ],
      "text/plain": [
       "<IPython.core.display.Markdown object>"
      ]
     },
     "execution_count": 45,
     "metadata": {},
     "output_type": "execute_result"
    }
   ],
   "source": [
    "Markdown(echo_m3)"
   ]
  },
  {
   "cell_type": "code",
   "execution_count": 46,
   "metadata": {},
   "outputs": [
    {
     "data": {
      "text/markdown": [
       "\n",
       "- target=year\n",
       "![__CHART__](https://ssl.pstatic.net/imgfinance/chart/item/area//year/048910.png?sidcode=0.33475681982030125)\n"
      ],
      "text/plain": [
       "<IPython.core.display.Markdown object>"
      ]
     },
     "execution_count": 46,
     "metadata": {},
     "output_type": "execute_result"
    }
   ],
   "source": [
    "Markdown(echo_y)"
   ]
  },
  {
   "cell_type": "code",
   "execution_count": 47,
   "metadata": {},
   "outputs": [
    {
     "data": {
      "text/markdown": [
       "\n",
       "- target=year5\n",
       "![__CHART__](https://ssl.pstatic.net/imgfinance/chart/item/area//year5/048910.png?sidcode=0.7549199962169297)\n"
      ],
      "text/plain": [
       "<IPython.core.display.Markdown object>"
      ]
     },
     "execution_count": 47,
     "metadata": {},
     "output_type": "execute_result"
    }
   ],
   "source": [
    "Markdown(echo_y5)"
   ]
  },
  {
   "cell_type": "code",
   "execution_count": null,
   "metadata": {},
   "outputs": [],
   "source": []
  },
  {
   "cell_type": "code",
   "execution_count": null,
   "metadata": {},
   "outputs": [],
   "source": []
  },
  {
   "cell_type": "code",
   "execution_count": null,
   "metadata": {},
   "outputs": [],
   "source": []
  }
 ],
 "metadata": {
  "kernelspec": {
   "display_name": "Python 3",
   "language": "python",
   "name": "python3"
  },
  "language_info": {
   "codemirror_mode": {
    "name": "ipython",
    "version": 3
   },
   "file_extension": ".py",
   "mimetype": "text/x-python",
   "name": "python",
   "nbconvert_exporter": "python",
   "pygments_lexer": "ipython3",
   "version": "3.7.3"
  }
 },
 "nbformat": 4,
 "nbformat_minor": 2
}
