{
 "cells": [
  {
   "cell_type": "markdown",
   "metadata": {},
   "source": [
    "## 에코기능을 이용하여 처리\n",
    "* import assets.config_stock"
   ]
  },
  {
   "cell_type": "code",
   "execution_count": 1,
   "metadata": {},
   "outputs": [
    {
     "name": "stdout",
     "output_type": "stream",
     "text": [
      "C:\\Users\\nitt0\\Documents\\Github\\web_beautifulsoup_scrapping\\module_sellenium\n",
      "C:\\Users\\nitt0\\Documents\\Github\\web_beautifulsoup_scrapping\\module_sellenium\n"
     ]
    }
   ],
   "source": [
    "# for TEST..!!\n",
    "\n",
    "import os\n",
    "# script_run ... different dir           script_run  vs. terminal(cmd)\n",
    "print(os.getcwd())                      # --> root    /  working\n",
    "print(os.path.abspath(os.path.curdir))  # --> root    /  working\n",
    "# print(os.path.dirname(__file__))        # --> working /  working (this!)"
   ]
  },
  {
   "cell_type": "code",
   "execution_count": 2,
   "metadata": {},
   "outputs": [
    {
     "name": "stdout",
     "output_type": "stream",
     "text": [
      "\n",
      "# config_stocks.py - variables\n",
      "\n",
      "\n",
      "# functions_class.py - function & class definition\n",
      "\n"
     ]
    }
   ],
   "source": [
    "from IPython.display import Markdown\n",
    "\n",
    "from assets.config_stocks import code_stock\n",
    "from assets.functions_class import get_markdown_echo"
   ]
  },
  {
   "cell_type": "code",
   "execution_count": 3,
   "metadata": {},
   "outputs": [
    {
     "data": {
      "text/plain": [
       "['0. 제닉',\n",
       " '1. 아모레G',\n",
       " '2. 마크로젠',\n",
       " '3. 대원미디어',\n",
       " '4. 내츄럴엔도텍',\n",
       " '5. 휴메딕스',\n",
       " '6. 포스코케미칼',\n",
       " '7. 로보스타',\n",
       " '8. 삼성전자',\n",
       " '9. 안랩',\n",
       " '10. 카카오',\n",
       " '11. 네이버',\n",
       " '12. NCSOFT']"
      ]
     },
     "execution_count": 3,
     "metadata": {},
     "output_type": "execute_result"
    }
   ],
   "source": [
    "# n = -1\n",
    "names = list(code_stock.keys())\n",
    "[f\"{i}. {name}\" for i, name in enumerate(names)]"
   ]
  },
  {
   "cell_type": "code",
   "execution_count": 4,
   "metadata": {},
   "outputs": [
    {
     "data": {
      "text/plain": [
       "(2, '마크로젠')"
      ]
     },
     "execution_count": 4,
     "metadata": {},
     "output_type": "execute_result"
    }
   ],
   "source": [
    "# n += 1\n",
    "n = 2\n",
    "n, names[n]"
   ]
  },
  {
   "cell_type": "code",
   "execution_count": 5,
   "metadata": {},
   "outputs": [
    {
     "data": {
      "text/plain": [
       "'마크로젠'"
      ]
     },
     "execution_count": 5,
     "metadata": {},
     "output_type": "execute_result"
    }
   ],
   "source": [
    "NAME = names[n]\n",
    "echo_d = get_markdown_echo(code_stock, NAME, \"day\")\n",
    "echo_w = get_markdown_echo(code_stock, NAME, \"week\", detail=0)\n",
    "echo_m3 = get_markdown_echo(code_stock, NAME, \"month3\", detail=0)\n",
    "echo_y = get_markdown_echo(code_stock, NAME, \"year\", detail=0)\n",
    "echo_y5 = get_markdown_echo(code_stock, NAME, \"year5\", detail=0)\n",
    "echo_y10 = get_markdown_echo(code_stock, NAME, \"year10\", detail=0)\n",
    "NAME"
   ]
  },
  {
   "cell_type": "code",
   "execution_count": 6,
   "metadata": {},
   "outputs": [
    {
     "data": {
      "text/markdown": [
       "\n",
       "## 마크로젠 (038290)\n",
       "- URL = https://ssl.pstatic.net/imgfinance/chart/item/area/\n",
       "- target=day\n",
       "- png?sidedode = 0.3400532110461021\n",
       "![__CHART__](https://ssl.pstatic.net/imgfinance/chart/item/area//day/038290.png?sidcode=0.3400532110461021)\n"
      ],
      "text/plain": [
       "<IPython.core.display.Markdown object>"
      ]
     },
     "execution_count": 6,
     "metadata": {},
     "output_type": "execute_result"
    }
   ],
   "source": [
    "Markdown(echo_d)"
   ]
  },
  {
   "cell_type": "code",
   "execution_count": 7,
   "metadata": {},
   "outputs": [
    {
     "data": {
      "text/markdown": [
       "\n",
       "- target=week\n",
       "![__CHART__](https://ssl.pstatic.net/imgfinance/chart/item/area//week/038290.png?sidcode=0.7291319838139477)\n"
      ],
      "text/plain": [
       "<IPython.core.display.Markdown object>"
      ]
     },
     "execution_count": 7,
     "metadata": {},
     "output_type": "execute_result"
    }
   ],
   "source": [
    "Markdown(echo_w)"
   ]
  },
  {
   "cell_type": "code",
   "execution_count": 8,
   "metadata": {},
   "outputs": [
    {
     "data": {
      "text/markdown": [
       "\n",
       "- target=month3\n",
       "![__CHART__](https://ssl.pstatic.net/imgfinance/chart/item/area//month3/038290.png?sidcode=0.9868465064715648)\n"
      ],
      "text/plain": [
       "<IPython.core.display.Markdown object>"
      ]
     },
     "execution_count": 8,
     "metadata": {},
     "output_type": "execute_result"
    }
   ],
   "source": [
    "Markdown(echo_m3)"
   ]
  },
  {
   "cell_type": "code",
   "execution_count": 9,
   "metadata": {},
   "outputs": [
    {
     "data": {
      "text/markdown": [
       "\n",
       "- target=year\n",
       "![__CHART__](https://ssl.pstatic.net/imgfinance/chart/item/area//year/038290.png?sidcode=0.11470732046417675)\n"
      ],
      "text/plain": [
       "<IPython.core.display.Markdown object>"
      ]
     },
     "execution_count": 9,
     "metadata": {},
     "output_type": "execute_result"
    }
   ],
   "source": [
    "Markdown(echo_y)"
   ]
  },
  {
   "cell_type": "code",
   "execution_count": 10,
   "metadata": {},
   "outputs": [
    {
     "data": {
      "text/markdown": [
       "\n",
       "- target=year5\n",
       "![__CHART__](https://ssl.pstatic.net/imgfinance/chart/item/area//year5/038290.png?sidcode=0.5992052154476224)\n"
      ],
      "text/plain": [
       "<IPython.core.display.Markdown object>"
      ]
     },
     "execution_count": 10,
     "metadata": {},
     "output_type": "execute_result"
    }
   ],
   "source": [
    "Markdown(echo_y5)"
   ]
  },
  {
   "cell_type": "code",
   "execution_count": 11,
   "metadata": {},
   "outputs": [
    {
     "data": {
      "text/plain": [
       "['data', 'url', 'filename', 'metadata', 'reload']"
      ]
     },
     "execution_count": 11,
     "metadata": {},
     "output_type": "execute_result"
    }
   ],
   "source": [
    "[item for item in Markdown(echo_y5).__dir__() if not item.startswith('_')]"
   ]
  },
  {
   "cell_type": "code",
   "execution_count": 12,
   "metadata": {},
   "outputs": [
    {
     "name": "stdout",
     "output_type": "stream",
     "text": [
      "\n",
      "- target=year5\n",
      "![__CHART__](https://ssl.pstatic.net/imgfinance/chart/item/area//year5/038290.png?sidcode=0.5992052154476224)\n",
      "\n",
      "None\n",
      "None\n",
      "{}\n",
      "None\n"
     ]
    }
   ],
   "source": [
    "import matplotlib.pyplot as plt\n",
    "\n",
    "print(Markdown(echo_y5).data)\n",
    "print(Markdown(echo_y5).url)\n",
    "print(Markdown(echo_y5).filename)\n",
    "print(Markdown(echo_y5).metadata)\n",
    "print(Markdown(echo_y5).reload())"
   ]
  },
  {
   "cell_type": "code",
   "execution_count": null,
   "metadata": {},
   "outputs": [],
   "source": []
  },
  {
   "cell_type": "code",
   "execution_count": null,
   "metadata": {},
   "outputs": [],
   "source": []
  }
 ],
 "metadata": {
  "kernelspec": {
   "display_name": "Python 3",
   "language": "python",
   "name": "python3"
  },
  "language_info": {
   "codemirror_mode": {
    "name": "ipython",
    "version": 3
   },
   "file_extension": ".py",
   "mimetype": "text/x-python",
   "name": "python",
   "nbconvert_exporter": "python",
   "pygments_lexer": "ipython3",
   "version": "3.7.3"
  }
 },
 "nbformat": 4,
 "nbformat_minor": 2
}
