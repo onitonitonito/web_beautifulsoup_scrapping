{
 "cells": [
  {
   "cell_type": "markdown",
   "metadata": {},
   "source": [
    "# 1. ***OTHER SOLUTION on The STACKOVERFLOW***\n",
    "\n",
    "https://stackoverflow.com/questions/52812231/print-variable-in-jupyter-notebook-markdown-cell-python\n",
    "\n",
    "if you install extention, 'pip install jupyter_contrib_nbextensions'\n",
    "## Steps Taken:\n",
    "\n",
    "> 1. pip install jupyter_contrib_nbextensions\n",
    "> 1. jupyter contrib nbextension install --user\n",
    "> 1. jupyter nbextension enable python-markdown/main"
   ]
  },
  {
   "cell_type": "code",
   "execution_count": 1,
   "metadata": {},
   "outputs": [],
   "source": [
    "import numpy as np\n",
    "import matplotlib.pyplot as plt\n",
    "\n",
    "from IPython.display import Markdown"
   ]
  },
  {
   "cell_type": "code",
   "execution_count": 2,
   "metadata": {},
   "outputs": [
    {
     "name": "stdout",
     "output_type": "stream",
     "text": [
      "\n",
      "# config_stocks.py - variables\n",
      "\n",
      "\n",
      "# functions_class.py - function & class definition\n",
      "\n"
     ]
    }
   ],
   "source": [
    "from assets.config_stocks import *\n",
    "from assets.functions_class import get_markdown_echo"
   ]
  },
  {
   "cell_type": "code",
   "execution_count": 3,
   "metadata": {},
   "outputs": [
    {
     "data": {
      "text/markdown": [
       "\n",
       "## 휴메딕스 (200670)\n",
       "- URL = https://ssl.pstatic.net/imgfinance/chart/item/area/\n",
       "- target=month3\n",
       "- png?sidedode = 0.3595277659920376\n",
       "![__CHART__](https://ssl.pstatic.net/imgfinance/chart/item/area//month3/200670.png?sidcode=0.3595277659920376)\n"
      ],
      "text/plain": [
       "<IPython.core.display.Markdown object>"
      ]
     },
     "execution_count": 3,
     "metadata": {},
     "output_type": "execute_result"
    }
   ],
   "source": [
    "# 제닉, 휴메딕스, 대원미디어, 마크로젠, 내츄럴엔도텍, 한진칼, 삼성전자\n",
    "NAME = \"휴메딕스\"\n",
    "echo_d = get_markdown_echo(code_stock, NAME, \"day\")\n",
    "echo_w = get_markdown_echo(code_stock, NAME, \"week\")\n",
    "echo_m3 = get_markdown_echo(code_stock, NAME, \"month3\")\n",
    "echo_y = get_markdown_echo(code_stock, NAME, \"year\")\n",
    "echo_y3 = get_markdown_echo(code_stock, NAME, \"year3\")\n",
    "echo_y5 = get_markdown_echo(code_stock, NAME, \"year5\")\n",
    "echo_y10 = get_markdown_echo(code_stock, NAME, \"year10\")\n",
    "\n",
    "Markdown(echo_d)\n",
    "Markdown(echo_w)\n",
    "Markdown(echo_m3)\n",
    "# Markdown(echo_y)\n",
    "# Markdown(echo_y3)\n",
    "# Markdown(echo_y5)\n",
    "# Markdown(echo_y10)"
   ]
  },
  {
   "cell_type": "code",
   "execution_count": 5,
   "metadata": {},
   "outputs": [],
   "source": [
    "# import skimage\n",
    "from skimage import io\n",
    "from assets.functions_class import set_font_hanguel_graph"
   ]
  },
  {
   "cell_type": "code",
   "execution_count": 6,
   "metadata": {},
   "outputs": [
    {
     "name": "stdout",
     "output_type": "stream",
     "text": [
      "*** Hanguel font for pyplot graph is set! ... 'c:/Windows/Fonts/malgun.ttf'***\n"
     ]
    }
   ],
   "source": [
    "# pyplot 그래프 상, 한글폰트 깨짐 방지\n",
    "set_font_hanguel_graph()\n",
    "\n",
    "# 글로벌 변수 = names, codes 정의.\n",
    "(names, codes) = list(code_stock.keys()), list(code_stock.values())\n",
    "targets = ['day','week','month3','year','year3','year5','year10']\n",
    "start, end = (0, 6)"
   ]
  },
  {
   "cell_type": "code",
   "execution_count": 9,
   "metadata": {},
   "outputs": [],
   "source": [
    "sidecode = 1234567\n",
    "\n",
    "def show_names_codes(start, end):\n",
    "    \"\"\" HELPER() for main() : 관심종목명(코드)를 보여줌 \"\"\"\n",
    "    global names, codes\n",
    "    names_partial = names[start:end]\n",
    "    codes_partial = codes[start:end]\n",
    "\n",
    "    print(f\"\\nTargets = {targets}\", flush=True)\n",
    "    print(\"========\"*5, flush=True)\n",
    "    for i, name in enumerate(names_partial):\n",
    "        print(f\" {i+1:02}. {name} ({codes_partial[i]})\", flush=True)\n",
    "    print(\"========\"*5, flush=True)\n",
    "    print(\"* 변경:'config_stocks.py' 의 변수를 수정.\\n\\n\", flush=True)\n",
    "\n",
    "def save_or_show(save_chart_only):\n",
    "    \"\"\" HELPER() for main() : 저장만 하든지, 보기만 하든지 \"\"\"\n",
    "    global targets, start, end\n",
    "\n",
    "    for i, target in enumerate(targets):\n",
    "        proceed = f\"{i+1}/{len(targets)}\"  # 진행정도\n",
    "        question = f\"\\n\\nDraw '{target}'graph({proceed})? ... [OK=Ent./NO=1]\"\n",
    "\n",
    "        if save_chart_only:\n",
    "            show_charts_axes(target, start, end)\n",
    "            plt.savefig(fname=f\"./statics/{i:02}_{target}.png\")\n",
    "        else:\n",
    "            if not input(question).startswith(\"1\"):\n",
    "                show_charts_axes(target, start, end)\n",
    "                plt.show()\n",
    "            else:\n",
    "                print(f\" ***** '{target}' charts are skipped! *****\")\n",
    "\n",
    "def get_images_nparray(target, start, end):\n",
    "    \"\"\"\n",
    "    # HELPER() for show_charts_axes() :목적챠트(target)에 대해 start~end 범위\n",
    "    # skimage obj. array 반납\n",
    "    \"\"\"\n",
    "    global names, codes\n",
    "    images_nparray = []\n",
    "    for i, name in enumerate(names[start:end]):\n",
    "        img_url = f\"{URL}/{target}/{codes[i]}.png?sidcode={sidecode}\"\n",
    "#         img_url = \"{}/{}/{}.png?sidcode=1234567\".format(URL, target, codes[i])\n",
    "        im_array = io.imread(img_url)\n",
    "        images_nparray.append(im_array)\n",
    "    return images_nparray\n",
    "\n",
    "def show_charts_axes(target, start, end):\n",
    "    \"\"\" 헬퍼함수를 사용해서 targer 과 start_end를 받아서 챠트를 출력한다. \"\"\"\n",
    "    global names, codes\n",
    "    images = get_images_nparray(target, start, end)\n",
    "    names = names[start:end]\n",
    "    codes = codes[start:end]\n",
    "\n",
    "    (cols, rows) = (2, int(len(names)/2))     # (2 , 6)\n",
    "    fig, ax = plt.subplots(ncols=cols, nrows=rows, figsize=(18,rows*6))\n",
    "\n",
    "    count = 0\n",
    "    for row in range(rows):\n",
    "        for col in range(cols):\n",
    "            # print(row,col)   # ... for test\n",
    "            ax[row,col].imshow(images[count])\n",
    "            ax[row,col].set_title(f\"{names[count]} ({codes[count]}) by {target}\")\n",
    "            count += 1\n",
    "    plt.tight_layout(pad=0.1)"
   ]
  },
  {
   "cell_type": "code",
   "execution_count": 1,
   "metadata": {},
   "outputs": [
    {
     "ename": "NameError",
     "evalue": "name 'show_names_codes' is not defined",
     "output_type": "error",
     "traceback": [
      "\u001b[1;31m---------------------------------------------------------------------------\u001b[0m",
      "\u001b[1;31mNameError\u001b[0m                                 Traceback (most recent call last)",
      "\u001b[1;32m<ipython-input-1-19e01c48eaff>\u001b[0m in \u001b[0;36m<module>\u001b[1;34m\u001b[0m\n\u001b[0;32m      4\u001b[0m \u001b[1;33m\u001b[0m\u001b[0m\n\u001b[0;32m      5\u001b[0m \u001b[1;31m# 확인할 종목명, 코드를 보여준다.\u001b[0m\u001b[1;33m\u001b[0m\u001b[1;33m\u001b[0m\u001b[1;33m\u001b[0m\u001b[0m\n\u001b[1;32m----> 6\u001b[1;33m \u001b[0mshow_names_codes\u001b[0m\u001b[1;33m(\u001b[0m\u001b[0mstart\u001b[0m\u001b[1;33m,\u001b[0m \u001b[0mend\u001b[0m\u001b[1;33m)\u001b[0m\u001b[1;33m\u001b[0m\u001b[1;33m\u001b[0m\u001b[0m\n\u001b[0m\u001b[0;32m      7\u001b[0m \u001b[1;33m\u001b[0m\u001b[0m\n\u001b[0;32m      8\u001b[0m \u001b[1;31m# only save all = True / just watch = Flase\u001b[0m\u001b[1;33m\u001b[0m\u001b[1;33m\u001b[0m\u001b[1;33m\u001b[0m\u001b[0m\n",
      "\u001b[1;31mNameError\u001b[0m: name 'show_names_codes' is not defined"
     ]
    }
   ],
   "source": [
    "# \"\"\" 6개 ~ 최대12개 챠트만 나열해서 봅니다. 그게 제일, 보기 적당해\"\"\"\n",
    "global start, end\n",
    "save_chart_only = False\n",
    "\n",
    "# 확인할 종목명, 코드를 보여준다.\n",
    "show_names_codes(start, end)\n",
    "\n",
    "# only save all = True / just watch = Flase\n",
    "save_or_show(save_chart_only)"
   ]
  },
  {
   "cell_type": "code",
   "execution_count": 11,
   "metadata": {},
   "outputs": [
    {
     "ename": "NameError",
     "evalue": "name 'img_url' is not defined",
     "output_type": "error",
     "traceback": [
      "\u001b[1;31m---------------------------------------------------------------------------\u001b[0m",
      "\u001b[1;31mNameError\u001b[0m                                 Traceback (most recent call last)",
      "\u001b[1;32m<ipython-input-11-b0b1f0d17715>\u001b[0m in \u001b[0;36m<module>\u001b[1;34m\u001b[0m\n\u001b[0;32m      1\u001b[0m \u001b[1;32mfrom\u001b[0m \u001b[0mskimage\u001b[0m \u001b[1;32mimport\u001b[0m \u001b[0mio\u001b[0m\u001b[1;33m\u001b[0m\u001b[1;33m\u001b[0m\u001b[0m\n\u001b[1;32m----> 2\u001b[1;33m \u001b[0mio\u001b[0m\u001b[1;33m.\u001b[0m\u001b[0mimread\u001b[0m\u001b[1;33m(\u001b[0m\u001b[0mimg_url\u001b[0m\u001b[1;33m)\u001b[0m\u001b[1;33m\u001b[0m\u001b[1;33m\u001b[0m\u001b[0m\n\u001b[0m",
      "\u001b[1;31mNameError\u001b[0m: name 'img_url' is not defined"
     ]
    }
   ],
   "source": [
    "from skimage import io\n",
    "io.imread(img_url)"
   ]
  },
  {
   "cell_type": "markdown",
   "metadata": {},
   "source": [
    "## Directory 구조 및 화일 Dir"
   ]
  },
  {
   "cell_type": "code",
   "execution_count": 12,
   "metadata": {},
   "outputs": [],
   "source": [
    "import os"
   ]
  },
  {
   "cell_type": "code",
   "execution_count": 13,
   "metadata": {},
   "outputs": [],
   "source": [
    "DIR_CURRENT = os.getcwd()\n",
    "DIR_UP = os.path.dirname(DIR_CURRENT)\n",
    "DIR_UP_UP = os.path.dirname(DIR_UP)\n",
    "DIR_UP_UP_UP = os.path.dirname(DIR_UP_UP)\n",
    "DIR_UP_UP_UP_UP = os.path.dirname(DIR_UP_UP_UP)\n",
    "DIR_UP_UP_UP_UP_UP = os.path.dirname(DIR_UP_UP_UP_UP)\n",
    "DIR_UP_UP_UP_UP_UP_UP = os.path.dirname(DIR_UP_UP_UP_UP_UP)"
   ]
  },
  {
   "cell_type": "code",
   "execution_count": 14,
   "metadata": {},
   "outputs": [
    {
     "name": "stdout",
     "output_type": "stream",
     "text": [
      "C:\\Users\\nitt0\\Documents\\Github\\web_beautifulsoup_scrapping\\module_sellenium\n",
      "C:\\Users\\nitt0\\Documents\\Github\\web_beautifulsoup_scrapping\n",
      "C:\\Users\\nitt0\\Documents\\Github\n",
      "C:\\Users\\nitt0\\Documents\n",
      "C:\\Users\\nitt0\n",
      "C:\\Users\n",
      "C:\\\n"
     ]
    }
   ],
   "source": [
    "print(DIR_CURRENT)\n",
    "print(DIR_UP)\n",
    "print(DIR_UP_UP)\n",
    "print(DIR_UP_UP_UP)\n",
    "print(DIR_UP_UP_UP_UP)\n",
    "print(DIR_UP_UP_UP_UP_UP)\n",
    "print(DIR_UP_UP_UP_UP_UP_UP)\n",
    "\n",
    "# C 이상은 Dirname이 올라가지 않습니다."
   ]
  },
  {
   "cell_type": "code",
   "execution_count": null,
   "metadata": {},
   "outputs": [],
   "source": [
    "def pick_by_ext(ext):\n",
    "    \"\"\"\n",
    "    pick_by_ext(ext) {ext} .. 확장자 str / Null-return\n",
    "    os.listdir()을 이용해서, working dir 특정 확장자(ext) 화일을 Print\n",
    "    \"\"\"    \n",
    "    extention = ext\n",
    "    selection_by_extention = [file\n",
    "                                for file in os.listdir()\n",
    "                                if file.split(\".\")[-1] == extention\n",
    "                                ]\n",
    "\n",
    "    [print(f\"{i}. {name}\") for i, name in enumerate(selection_by_extention)]"
   ]
  },
  {
   "cell_type": "code",
   "execution_count": null,
   "metadata": {},
   "outputs": [],
   "source": [
    "pick_by_ext(ext='ipynb')"
   ]
  },
  {
   "cell_type": "code",
   "execution_count": null,
   "metadata": {},
   "outputs": [],
   "source": []
  }
 ],
 "metadata": {
  "kernelspec": {
   "display_name": "Python 3",
   "language": "python",
   "name": "python3"
  },
  "language_info": {
   "codemirror_mode": {
    "name": "ipython",
    "version": 3
   },
   "file_extension": ".py",
   "mimetype": "text/x-python",
   "name": "python",
   "nbconvert_exporter": "python",
   "pygments_lexer": "ipython3",
   "version": "3.7.1"
  }
 },
 "nbformat": 4,
 "nbformat_minor": 4
}
