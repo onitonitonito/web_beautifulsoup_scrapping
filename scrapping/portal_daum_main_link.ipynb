{
 "cells": [
  {
   "cell_type": "code",
   "execution_count": 2,
   "metadata": {},
   "outputs": [],
   "source": [
    "import requests\n",
    "\n",
    "from bs4 import BeautifulSoup\n",
    "from urllib.request import urlopen"
   ]
  },
  {
   "cell_type": "code",
   "execution_count": 3,
   "metadata": {},
   "outputs": [],
   "source": [
    "url_target = \"http://www.daum.net\"\n",
    "\n",
    "html_requests = requests.get(url=url_target)\n",
    "response_requests = BeautifulSoup(\n",
    "                        markup=html_requests.text,\n",
    "                        features=\"html.parser\",\n",
    "                        # from_encoding='utf8',\n",
    "                        )\n",
    "\n",
    "html_urlopen = urlopen(url=url_target)\n",
    "response_urlopen = BeautifulSoup(\n",
    "                        markup=html_urlopen,\n",
    "                        features=\"html.parser\",\n",
    "                        from_encoding='utf8',\n",
    "                        )"
   ]
  },
  {
   "cell_type": "code",
   "execution_count": 4,
   "metadata": {},
   "outputs": [],
   "source": [
    "def find_tags(tags, response, detailed=False):\n",
    "    finders = response.find_all(*tags)\n",
    "    print(f\"find('{tags}') : {len(finders)}\")\n",
    "\n",
    "    for i, find in enumerate(finders, 1):\n",
    "        text_string = find.text.replace('\\n', '')\n",
    "\n",
    "        print('-----------------'*4)\n",
    "        if detailed:\n",
    "            print(f\"{i:>02}. {text_string} ... {find}\")\n",
    "        else:\n",
    "            print(f\"   {i:>02}. {text_string}\")"
   ]
  },
  {
   "cell_type": "code",
   "execution_count": 6,
   "metadata": {},
   "outputs": [
    {
     "name": "stdout",
     "output_type": "stream",
     "text": [
      "find('['a', {'class': 'link_txt'}]') : 10\n",
      "--------------------------------------------------------------------\n",
      "   01. 이스탄불서 카슈끄지 1주기 추도식 개최..베이조스 참석\n",
      "--------------------------------------------------------------------\n",
      "   02. 경북 성주서 배수로 작업하던 70대 급물살에 휩쓸려 사망\n",
      "--------------------------------------------------------------------\n",
      "   03. 美국무부, 北미사일 발사에 \"도발 자제하고 협상에 전념\" 촉구\n",
      "--------------------------------------------------------------------\n",
      "   04. 푸틴 \"美-우크라이나 정상 통화서 트럼프 비방할 내용 없어\"\n",
      "--------------------------------------------------------------------\n",
      "   05. 홍콩시위, 고교생피격에 다시 불붙나..시위대 \"피의 빚 갚을 것\"\n",
      "--------------------------------------------------------------------\n",
      "   06. 강경화 \"도쿄올림픽에서 '욱일기' 반입 및 사용 안돼\"\n",
      "--------------------------------------------------------------------\n",
      "   07. 野 '조국 자녀' 집중공세..與 '나경원 자녀'로 응수\n",
      "--------------------------------------------------------------------\n",
      "   08. \"의붓아버지 폭행장면 CCTV에 찍혀\"..엄마도 입건 검토\n",
      "--------------------------------------------------------------------\n",
      "   09. 아프리카돼지열병 국내 발병 후 '북한 멧돼지 월남' 첫 확인\n",
      "--------------------------------------------------------------------\n",
      "   10. 미제사건 5건 대조..화성 사건과 범행 수법 '판박이'\n"
     ]
    }
   ],
   "source": [
    "tags = [\"a\", { 'class' : 'link_txt'}]       # 주요기사\n",
    "# tags = [\"a\", { 'class' : 'link_favorsch'}]  # 인기 검색어\n",
    "find_tags(tags, response_urlopen)"
   ]
  },
  {
   "cell_type": "code",
   "execution_count": 15,
   "metadata": {},
   "outputs": [
    {
     "name": "stdout",
     "output_type": "stream",
     "text": [
      " 1. 아나운서 남편폭로\n",
      " 2. 김승현 결혼\n",
      " 3. 빅사이즈여성구두\n",
      " 4. 멜론 정준영논란\n",
      " 5. 인테리어가구\n",
      " 6. 박나래 일정중단\n",
      " 7. 한예슬 자막논란\n",
      " 8. 울릉도자유여행\n",
      " 9. 함소원 오열\n",
      "10. 남성정장추천\n",
      "11. 이영자 추도예배\n",
      "12. 배가본드 선정성논란\n",
      "13. 판촉물추천\n",
      "14. 김성수 하차\n",
      "15. 여성원피스\n"
     ]
    },
    {
     "data": {
      "text/plain": [
       "[None,\n",
       " None,\n",
       " None,\n",
       " None,\n",
       " None,\n",
       " None,\n",
       " None,\n",
       " None,\n",
       " None,\n",
       " None,\n",
       " None,\n",
       " None,\n",
       " None,\n",
       " None,\n",
       " None]"
      ]
     },
     "execution_count": 15,
     "metadata": {},
     "output_type": "execute_result"
    }
   ],
   "source": [
    "tags = [\"a\", { 'class' : 'link_favorsch'}]  # 인기 검색어\n",
    "results_requests = response_requests.findAll(*tags)\n",
    "[print(f\"{i:>2}. {item.text}\") for i, item in enumerate(results_requests,1)]"
   ]
  },
  {
   "cell_type": "code",
   "execution_count": null,
   "metadata": {},
   "outputs": [],
   "source": []
  }
 ],
 "metadata": {
  "kernelspec": {
   "display_name": "Python 3",
   "language": "python",
   "name": "python3"
  },
  "language_info": {
   "codemirror_mode": {
    "name": "ipython",
    "version": 3
   },
   "file_extension": ".py",
   "mimetype": "text/x-python",
   "name": "python",
   "nbconvert_exporter": "python",
   "pygments_lexer": "ipython3",
   "version": "3.7.3"
  }
 },
 "nbformat": 4,
 "nbformat_minor": 2
}
